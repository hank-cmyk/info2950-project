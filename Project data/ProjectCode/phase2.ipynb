{
 "cells": [
  {
   "cell_type": "markdown",
   "metadata": {},
   "source": [
    "# Project Phase 2\n",
    "### Samantha Rubin, Hanwen Lin, Liz Espinoza, and Hanna Kang"
   ]
  },
  {
   "cell_type": "markdown",
   "metadata": {},
   "source": [
    "## Research questions:\n",
    "- Is there a relationship between wealth inequality (Gini index) and high rates of positive COVID cases in relation to the total population and/or COVID deaths across different countries?\n",
    "- Is there a relationship between GDP per capita and high rates of positive COVID cases in relation to the total population and/or COVID deaths across different countries?\n",
    "- Is there a relationship between the ratio of positive COVID results to COVID deaths and a country’s GDP and/or Gini index?\n"
   ]
  },
  {
   "cell_type": "markdown",
   "metadata": {},
   "source": [
    "-----\n",
    "## Data collection and cleaning"
   ]
  },
  {
   "cell_type": "code",
   "execution_count": 1,
   "metadata": {},
   "outputs": [],
   "source": [
    "import pandas as pd\n",
    "import numpy as np\n",
    "import matplotlib.pyplot as plt\n",
    "%matplotlib inline"
   ]
  },
  {
   "cell_type": "markdown",
   "metadata": {},
   "source": [
    "Data is imported below."
   ]
  },
  {
   "cell_type": "code",
   "execution_count": 2,
   "metadata": {},
   "outputs": [],
   "source": [
    "raw_covid = pd.read_csv(\"jrc-covid-19-world-latest.csv\")\n",
    "gini_data = pd.read_csv(\"gini_data2.csv\")\n",
    "gdp_data = pd.read_csv(\"gdp_data.csv\")\n",
    "pop_data = pd.read_csv(\"API_SP.POP.TOTL_DS2_en_csv_v2_2106202.csv\")\n",
    "pop_den = pd.read_csv(\"pop_density.csv\")\n",
    "unemploy_rates = pd.read_csv(\"unemployment_rates.csv\")\n",
    "#avg_households = pd.read_csv(\"avg_house.csv\")"
   ]
  },
  {
   "cell_type": "markdown",
   "metadata": {},
   "source": [
    "For gdp_data and gini_data, what should be the column labels are actually stored in the third row, and the data starts on the fourth row.  We fix this below."
   ]
  },
  {
   "cell_type": "code",
   "execution_count": 3,
   "metadata": {},
   "outputs": [],
   "source": [
    "gdp_data.columns = gdp_data.loc[3]\n",
    "gdp_data = gdp_data.drop(index = [0,1,2,3])"
   ]
  },
  {
   "cell_type": "markdown",
   "metadata": {},
   "source": [
    "Removing unnecessary columns and renaming them:"
   ]
  },
  {
   "cell_type": "code",
   "execution_count": 9,
   "metadata": {},
   "outputs": [],
   "source": [
    "#making covid data column names lowercase\n",
    "new_colnames = [i.lower() for i in raw_covid.columns]\n",
    "covid_cases = raw_covid.copy()\n",
    "for i in covid_cases.columns:\n",
    "    covid_cases.columns = new_colnames\n",
    "# #dropping unnecessary columns:\n",
    "# covid_cases = covid_cases[['date', 'iso3', 'continent', 'countryname'\n",
    "#                            , 'cumulativepositive', 'cumulativedeceased', 'cumulativerecovered'\n",
    "#                            , 'currentlypositive', 'hospitalized', 'intensivecare']]\n",
    "# #renaming columns\n",
    "# covid_cases.rename(columns = {'iso3':'country_code','countryname':'country_name'\n",
    "#                               , 'cumulativepositive':'cumulative_pos', 'cumulativedeceased':'cumulative_dec'\n",
    "#                               , 'cumulativerecovered':'cumulative_rec', 'currentlypositive':'curr_pos'\n",
    "#                               , 'intensivecare':'intensive_care'}, inplace = True)\n",
    "\n",
    "\n",
    "#dropping unnecessary columns:\n",
    "covid_cases = covid_cases[['date', 'iso3', 'continent', 'countryname'\n",
    "                           , 'cumulativepositive', 'cumulativedeceased'\n",
    "                           , 'currentlypositive']]\n",
    "#renaming columns\n",
    "covid_cases.rename(columns = {'iso3':'country_code','countryname':'country_name'\n",
    "                              , 'cumulativepositive':'cumulative_pos', 'cumulativedeceased':'cumulative_dec'\n",
    "                              , 'currentlypositive':'curr_pos'}, inplace = True)\n",
    "\n",
    "\n",
    "\n",
    "#clean gdp data, drop unecessary columns and rename them\n",
    "new_colnames = []\n",
    "gdp = gdp_data.copy()\n",
    "gdp.rename(columns = {\"Country Name\":\"country_name\",\"Country Code\":\"country_code\",2019:\"gdp_per_cap\"}, inplace = True)\n",
    "gdp = gdp[[\"country_name\",\"country_code\",\"gdp_per_cap\"]]\n",
    "\n",
    "#drop NaNs in gdp\n",
    "gdp = gdp.dropna(axis = 0,subset=[\"gdp_per_cap\"])\n",
    "\n",
    "#clean gini column names\n",
    "gini_data.rename(columns = {\"Country Code\":\"country_code\",\n",
    "                          \"Country\":\"country\",\"Value\":\"gini_index\",'Year':\"gini_year\"},inplace = True)\n",
    "\n",
    "#clean population data\n",
    "pop_data.rename(columns = {\"Country Code\":\"country_code\",\"Country Name\":\"country_name\",\"2019\":\"population\"}\n",
    "                ,inplace = True)\n",
    "pop_data = pop_data[[\"country_code\",'country_name','population']]\n",
    "\n",
    "#clean population density \n",
    "pop_den.rename(columns = {\"Country Code\":\"country_code\",\"Country Name\":\"country_name\",\"2018\":\"density\"}\n",
    "               ,inplace = True)\n",
    "pop_den = pop_den[['country_code','country_name','density']]\n",
    "\n",
    "#clean unemployment rates \n",
    "unemploy_rates.rename(columns = {\"Country Code\":\"country_code\",\"Country Name\":\"country_name\",\"2019\":\"rates\"}\n",
    "                      ,inplace = True)\n",
    "unemploy_rates = unemploy_rates[['country_code','country_name','rates']]\n",
    "\n",
    "#clean average households \n",
    "# avg_households.rename(columns = {\"Country Code\":\"country_code\",\"Country Name\":\"country_name\",\"2019\":\"size\"}\n",
    "#                       ,inplace = True)\n",
    "# avg_households = avg_households[['country_code','country_name','size']]\n",
    "\n"
   ]
  },
  {
   "cell_type": "markdown",
   "metadata": {},
   "source": [
    "Matching countries via country codes, only keeping the countries that have GDP, gini, and covid data. We printed the length to see how many countries were dropped"
   ]
  },
  {
   "cell_type": "code",
   "execution_count": 15,
   "metadata": {},
   "outputs": [
    {
     "name": "stdout",
     "output_type": "stream",
     "text": [
      "166\n",
      "140\n",
      "140\n",
      "136\n",
      "136\n"
     ]
    }
   ],
   "source": [
    "#adding gdp \n",
    "covid_gdp = pd.merge(left = covid_cases, right = gdp, left_on = \"country_code\",right_on = \"country_code\")\n",
    "print(len(covid_gdp))\n",
    "\n",
    "#adding gini\n",
    "covid_gdp_gini = pd.merge(left = covid_gdp, right = gini_data, left_on = \"country_code\",right_on = \"country_code\")\n",
    "print(len(covid_gdp_gini))\n",
    "\n",
    "#adding population \n",
    "covid_gdp_gini = pd.merge(left = covid_gdp_gini, right = pop_data, left_on = \"country_code\",right_on = \"country_code\")\n",
    "print(len(covid_gdp_gini))\n",
    "\n",
    "#adding population density\n",
    "covid_gdp_gini = pd.merge(left = covid_gdp_gini, right = pop_den, left_on = \"country_code\",right_on = \"country_code\")\n",
    "print(len(covid_gdp_gini))\n",
    "\n",
    "#adding unemployment rates\n",
    "covid_data = pd.merge(left = covid_gdp_gini, right = unemploy_rates, left_on = \"country_code\",right_on = \"country_code\")\n",
    "print(len(covid_data))\n",
    "\n",
    "#adding average households\n",
    "# covid_data = pd.merge(left = covid_gdp_gini, right = avg_households, left_on = \"country_code\",right_on = \"country_code\")\n",
    "# print(len(covid_data))\n",
    "\n",
    "\n",
    "\n",
    "#removing duplicate columns\n",
    "covid_data = covid_data.drop(columns = [\"country\",'country_name_y',\"country_name\"])\n",
    "covid_data.rename(columns = {\"country_name_x\":\"country_name\"},inplace = True)"
   ]
  },
  {
   "cell_type": "code",
   "execution_count": 18,
   "metadata": {},
   "outputs": [
    {
     "data": {
      "text/html": [
       "<div>\n",
       "<style scoped>\n",
       "    .dataframe tbody tr th:only-of-type {\n",
       "        vertical-align: middle;\n",
       "    }\n",
       "\n",
       "    .dataframe tbody tr th {\n",
       "        vertical-align: top;\n",
       "    }\n",
       "\n",
       "    .dataframe thead th {\n",
       "        text-align: right;\n",
       "    }\n",
       "</style>\n",
       "<table border=\"1\" class=\"dataframe\">\n",
       "  <thead>\n",
       "    <tr style=\"text-align: right;\">\n",
       "      <th></th>\n",
       "      <th>date</th>\n",
       "      <th>country_code</th>\n",
       "      <th>continent</th>\n",
       "      <th>country_name</th>\n",
       "      <th>cumulative_pos</th>\n",
       "      <th>cumulative_dec</th>\n",
       "      <th>curr_pos</th>\n",
       "      <th>gdp_per_cap</th>\n",
       "      <th>gini_index</th>\n",
       "      <th>gini_year</th>\n",
       "      <th>country_name</th>\n",
       "      <th>population</th>\n",
       "      <th>pop_density</th>\n",
       "      <th>unemploy_rates</th>\n",
       "    </tr>\n",
       "  </thead>\n",
       "  <tbody>\n",
       "    <tr>\n",
       "      <th>0</th>\n",
       "      <td>2021-03-13</td>\n",
       "      <td>ALB</td>\n",
       "      <td>EU</td>\n",
       "      <td>Albania</td>\n",
       "      <td>116821</td>\n",
       "      <td>2030</td>\n",
       "      <td>34970.0</td>\n",
       "      <td>5353.244856</td>\n",
       "      <td>29.0</td>\n",
       "      <td>2012</td>\n",
       "      <td>Albania</td>\n",
       "      <td>2854191.0</td>\n",
       "      <td>104.6122628</td>\n",
       "      <td>11.47000027</td>\n",
       "    </tr>\n",
       "    <tr>\n",
       "      <th>1</th>\n",
       "      <td>2021-02-15</td>\n",
       "      <td>DZA</td>\n",
       "      <td>AF</td>\n",
       "      <td>Algeria</td>\n",
       "      <td>110711</td>\n",
       "      <td>2939</td>\n",
       "      <td>107772.0</td>\n",
       "      <td>3973.964072</td>\n",
       "      <td>27.6</td>\n",
       "      <td>2011</td>\n",
       "      <td>Algeria</td>\n",
       "      <td>43053054.0</td>\n",
       "      <td>17.73006763</td>\n",
       "      <td>11.81000042</td>\n",
       "    </tr>\n",
       "    <tr>\n",
       "      <th>2</th>\n",
       "      <td>2021-02-15</td>\n",
       "      <td>AGO</td>\n",
       "      <td>AF</td>\n",
       "      <td>Angola</td>\n",
       "      <td>20366</td>\n",
       "      <td>492</td>\n",
       "      <td>19874.0</td>\n",
       "      <td>2790.726615</td>\n",
       "      <td>42.7</td>\n",
       "      <td>2008</td>\n",
       "      <td>Angola</td>\n",
       "      <td>31825295.0</td>\n",
       "      <td>24.71305206</td>\n",
       "      <td>6.929999828</td>\n",
       "    </tr>\n",
       "    <tr>\n",
       "      <th>3</th>\n",
       "      <td>2021-02-15</td>\n",
       "      <td>ARG</td>\n",
       "      <td>SA</td>\n",
       "      <td>Argentina</td>\n",
       "      <td>2029008</td>\n",
       "      <td>50327</td>\n",
       "      <td>1978681.0</td>\n",
       "      <td>9912.281809</td>\n",
       "      <td>41.2</td>\n",
       "      <td>2017</td>\n",
       "      <td>Argentina</td>\n",
       "      <td>44938712.0</td>\n",
       "      <td>16.2585101</td>\n",
       "      <td>9.840000153</td>\n",
       "    </tr>\n",
       "    <tr>\n",
       "      <th>4</th>\n",
       "      <td>2021-02-15</td>\n",
       "      <td>AUS</td>\n",
       "      <td>OC</td>\n",
       "      <td>Australia</td>\n",
       "      <td>28900</td>\n",
       "      <td>909</td>\n",
       "      <td>27991.0</td>\n",
       "      <td>55060.326100</td>\n",
       "      <td>35.8</td>\n",
       "      <td>2014</td>\n",
       "      <td>Australia</td>\n",
       "      <td>25364307.0</td>\n",
       "      <td>3.24787091</td>\n",
       "      <td>5.159999847</td>\n",
       "    </tr>\n",
       "  </tbody>\n",
       "</table>\n",
       "</div>"
      ],
      "text/plain": [
       "         date country_code continent country_name  cumulative_pos  \\\n",
       "0  2021-03-13          ALB        EU      Albania          116821   \n",
       "1  2021-02-15          DZA        AF      Algeria          110711   \n",
       "2  2021-02-15          AGO        AF       Angola           20366   \n",
       "3  2021-02-15          ARG        SA    Argentina         2029008   \n",
       "4  2021-02-15          AUS        OC    Australia           28900   \n",
       "\n",
       "   cumulative_dec   curr_pos   gdp_per_cap  gini_index  gini_year  \\\n",
       "0            2030    34970.0   5353.244856        29.0       2012   \n",
       "1            2939   107772.0   3973.964072        27.6       2011   \n",
       "2             492    19874.0   2790.726615        42.7       2008   \n",
       "3           50327  1978681.0   9912.281809        41.2       2017   \n",
       "4             909    27991.0  55060.326100        35.8       2014   \n",
       "\n",
       "  country_name  population  pop_density unemploy_rates  \n",
       "0      Albania   2854191.0  104.6122628    11.47000027  \n",
       "1      Algeria  43053054.0  17.73006763    11.81000042  \n",
       "2       Angola  31825295.0  24.71305206    6.929999828  \n",
       "3    Argentina  44938712.0   16.2585101    9.840000153  \n",
       "4    Australia  25364307.0   3.24787091    5.159999847  "
      ]
     },
     "execution_count": 18,
     "metadata": {},
     "output_type": "execute_result"
    }
   ],
   "source": [
    "covid_data.rename(columns = {'density':'pop_density', 'rates': 'unemploy_rates'}, inplace = True)\n",
    "\n",
    "covid_data.drop_duplicates(subset = 'country_name', keep = 'first', inplace = True)\n",
    "\n",
    "covid_data.head()"
   ]
  },
  {
   "cell_type": "code",
   "execution_count": null,
   "metadata": {},
   "outputs": [],
   "source": []
  },
  {
   "cell_type": "markdown",
   "metadata": {},
   "source": [
    "## Data Description"
   ]
  },
  {
   "cell_type": "markdown",
   "metadata": {},
   "source": [
    " There is not a lot of information on the relationship between wealth inequality (quantified by the Gini index) or GDP per capita, and high rates of positive COVID-19 cases and/or COVID-19 deaths across different countries. This is especially the case as COVID-19 is still ongoing to the present day. To address this, we have chosen to analyze three datasets. The first dataset contains data from the Joint Research Centre (JRC), which was made to further understand COVID-19, to predict any potential impacts, and to support future planning. Included columns are cumulative positive and cumulative recovered COVID-19 cases, as well as cumulative deceased and the number of hospitalized and intensive care patients. Rows in this dataset include the names of countries and their respective country codes. \n",
    "     The other two datasets are simpler, only having data of country names and codes, and either the respective Gini indexes or the GDP per capita. These were created to look at all of the Gini indexes and GDP per capita of countries. We will only be analyzing countries that have both of these values, and are also on the COVID-19 dataset. \n",
    "     Analysis on these datasets will help to find potential relationships between COVID-19 cases and the Gini indexes and GDP per capita of countries. Through this, we hope to determine how the wealth of a country changes how it has been affected by COVID-19.\n",
    "\n",
    "Here is a shared Google Drive folder with all four of our raw datasets:\n",
    "https://drive.google.com/drive/folders/1OAunMYE2SKDuoehcmpewYIPKlBWcg3fU?usp=sharing \n",
    "The data was sourced from the following sites:\n",
    "Covid data source: https://github.com/ec-jrc/COVID-19/blob/master/data-of-world/jrc-covid-19-world-latest.csv  \n",
    "This dataset contains COVID-19 data of each country in the world, with columns such as cumulative positive cases and hospitalizations.  \n",
    "\n",
    "Gini index data source: https://data.worldbank.org/indicator/SI.POV.GINI/?end=2018&start=2015 \n",
    "This dataset contains the Gini index for each country for which it is available.\n",
    "\n",
    "GDP per capita data source: https://data.worldbank.org/indicator/NY.GDP.PCAP.CD \n",
    "note: for this data set, we had to remove the final column (2020), which had no data in it to avoid errors.  This dataset contains the gross domestic product per capita of each country.\n",
    "\n",
    "Population data source: https://data.worldbank.org/indicator/SP.POP.TOTL "
   ]
  },
  {
   "cell_type": "markdown",
   "metadata": {},
   "source": [
    "## Data Limitations\n",
    "\n",
    "- Not all countries have reported a Gini index or GDP per capita value, so this is not representative of the whole world.  \n",
    "- Some countries’ Gini indexes are up-to-date, while some countries’ are not.\n",
    "- Some countries with low GDP per capita and/or low Gini indices may also have low life expectancies due to many social, political and environmental factors. A country’s high Covid death rate may thus also be influenced by its low life expectancy.\n",
    "- Some countries might have less accurate COVID data than others.\n",
    "- Because the original dataset is updated daily, the dataset we have saved will not have all current COVID data, and may not be accurate to the present day. \n"
   ]
  },
  {
   "cell_type": "markdown",
   "metadata": {},
   "source": [
    "------\n",
    "## Exploratory Data Analysis"
   ]
  },
  {
   "cell_type": "markdown",
   "metadata": {},
   "source": [
    "Scatterplot of cumulative positive cases vs population"
   ]
  },
  {
   "cell_type": "code",
   "execution_count": 13,
   "metadata": {},
   "outputs": [
    {
     "data": {
      "image/png": "[encoded data removed]",
      "text/plain": [
       "<Figure size 432x288 with 1 Axes>"
      ]
     },
     "metadata": {
      "needs_background": "light"
     },
     "output_type": "display_data"
    }
   ],
   "source": [
    "plt.axes(xscale = \"log\", yscale = \"log\")\n",
    "plt.scatter(x = covid_data[\"population\"],y = covid_data[\"cumulative_pos\"], alpha = 0.3)\n",
    "plt.xlabel(\"Population\")\n",
    "plt.ylabel(\"Cumulative Positive Cases\")\n",
    "plt.show()"
   ]
  },
  {
   "cell_type": "markdown",
   "metadata": {},
   "source": [
    "Above we can see that population and cumulative positive cases are positively correlated.  To account for this, we make 2 new columns, cumulative positive COVID cases by country normalized by the population of each country, and cumulative COVID deaths normalized by population."
   ]
  },
  {
   "cell_type": "code",
   "execution_count": 15,
   "metadata": {},
   "outputs": [],
   "source": [
    "cpos_norm = []\n",
    "for i in range(len(covid_data.cumulative_pos)):\n",
    "    cpos_norm.append(covid_data.cumulative_pos[i]/covid_data.population[i])\n",
    "covid_data['cpos_norm'] = cpos_norm\n",
    "\n",
    "cdec_norm = []\n",
    "for i in range(len(covid_data.cumulative_dec)):\n",
    "    cdec_norm.append(covid_data.cumulative_dec[i]/covid_data.population[i])\n",
    "covid_data['cdec_norm'] = cdec_norm"
   ]
  },
  {
   "cell_type": "markdown",
   "metadata": {},
   "source": [
    "Histogram of GDP per capita:"
   ]
  },
  {
   "cell_type": "code",
   "execution_count": 16,
   "metadata": {},
   "outputs": [
    {
     "data": {
      "image/png": "[encoded data removed]",
      "text/plain": [
       "<Figure size 432x288 with 1 Axes>"
      ]
     },
     "metadata": {
      "needs_background": "light"
     },
     "output_type": "display_data"
    }
   ],
   "source": [
    "plt.hist(covid_data[\"gdp_per_cap\"], bins = 30)\n",
    "plt.xlabel(\"GDP Per Capita (USD)\")\n",
    "plt.ylabel(\"Count\")\n",
    "plt.show()"
   ]
  },
  {
   "cell_type": "markdown",
   "metadata": {},
   "source": [
    "This data is very right skewed. "
   ]
  },
  {
   "cell_type": "markdown",
   "metadata": {},
   "source": [
    "Histogram of Gini index:"
   ]
  },
  {
   "cell_type": "code",
   "execution_count": 18,
   "metadata": {},
   "outputs": [
    {
     "data": {
      "image/png": "[encoded data removed]",
      "text/plain": [
       "<Figure size 432x288 with 1 Axes>"
      ]
     },
     "metadata": {
      "needs_background": "light"
     },
     "output_type": "display_data"
    }
   ],
   "source": [
    "plt.hist(covid_data[\"gini_index\"], bins = 30)\n",
    "plt.xlabel(\"Gini Index (%)\")\n",
    "plt.ylabel(\"Count\")\n",
    "plt.show()"
   ]
  },
  {
   "cell_type": "markdown",
   "metadata": {},
   "source": [
    "This data is close to normally distributed, with a slight right skew. "
   ]
  },
  {
   "cell_type": "markdown",
   "metadata": {},
   "source": [
    "Histogram of cumulative positive cases per capita"
   ]
  },
  {
   "cell_type": "code",
   "execution_count": 11,
   "metadata": {},
   "outputs": [
    {
     "data": {
      "image/png": "[encoded data removed]",
      "text/plain": [
       "<Figure size 432x288 with 1 Axes>"
      ]
     },
     "metadata": {
      "needs_background": "light"
     },
     "output_type": "display_data"
    }
   ],
   "source": [
    "plt.hist(covid_data[\"cpos_norm\"], bins = 30)\n",
    "plt.xlabel(\"Cumulative positive cases per capita\")\n",
    "plt.ylabel(\"Count\")\n",
    "plt.show()"
   ]
  },
  {
   "cell_type": "markdown",
   "metadata": {},
   "source": [
    "Histogram of cumulative deaths per capita"
   ]
  },
  {
   "cell_type": "code",
   "execution_count": 12,
   "metadata": {},
   "outputs": [
    {
     "data": {
      "image/png": "[encoded data removed]",
      "text/plain": [
       "<Figure size 432x288 with 1 Axes>"
      ]
     },
     "metadata": {
      "needs_background": "light"
     },
     "output_type": "display_data"
    }
   ],
   "source": [
    "plt.hist(covid_data[\"cdec_norm\"], bins = 30)\n",
    "plt.xlabel(\"Cumulative deaths per capita\")\n",
    "plt.ylabel(\"Count\")\n",
    "plt.show()"
   ]
  },
  {
   "cell_type": "markdown",
   "metadata": {},
   "source": [
    "Both cumulative positive cases and deaths per capita are very right skewed, especially deaths.  "
   ]
  },
  {
   "cell_type": "markdown",
   "metadata": {},
   "source": [
    "#### Scatterplot of normalized cumulative positive cases vs GDP per capita"
   ]
  },
  {
   "cell_type": "code",
   "execution_count": 13,
   "metadata": {},
   "outputs": [
    {
     "data": {
      "image/png": "[encoded data removed]",
      "text/plain": [
       "<Figure size 432x288 with 1 Axes>"
      ]
     },
     "metadata": {
      "needs_background": "light"
     },
     "output_type": "display_data"
    }
   ],
   "source": [
    "plt.scatter(x = covid_data[\"gdp_per_cap\"],y = covid_data[\"cpos_norm\"], alpha = 0.3)\n",
    "plt.xlabel(\"GDP Per Capita\")\n",
    "plt.ylabel(\"Cumulative Positive Cases Per Capita\")\n",
    "plt.show()"
   ]
  },
  {
   "cell_type": "markdown",
   "metadata": {},
   "source": [
    "To see a clearer trend we might have to plot this on a log graph or consider removing outliers."
   ]
  },
  {
   "cell_type": "markdown",
   "metadata": {},
   "source": [
    "#### Scatterplot of normalized cumulative deaths vs GDP per capita:"
   ]
  },
  {
   "cell_type": "code",
   "execution_count": 14,
   "metadata": {},
   "outputs": [
    {
     "data": {
      "image/png": "[encoded data removed]",
      "text/plain": [
       "<Figure size 432x288 with 1 Axes>"
      ]
     },
     "metadata": {
      "needs_background": "light"
     },
     "output_type": "display_data"
    }
   ],
   "source": [
    "plt.scatter(x = covid_data[\"gdp_per_cap\"],y = covid_data[\"cdec_norm\"], alpha = 0.3)\n",
    "plt.xlabel(\"GDP Per Capita\")\n",
    "plt.ylabel(\"Cumulative COVID Deaths Per Capita\")\n",
    "plt.show()"
   ]
  },
  {
   "cell_type": "markdown",
   "metadata": {},
   "source": [
    "There is a similar issue with this graph.  Part of the issue is that GDP isn't normally distributed."
   ]
  },
  {
   "cell_type": "markdown",
   "metadata": {},
   "source": [
    "#### Scatterplot of normalized cumulative positive cases vs gini index:"
   ]
  },
  {
   "cell_type": "code",
   "execution_count": 15,
   "metadata": {},
   "outputs": [
    {
     "data": {
      "image/png": "[encoded data removed]",
      "text/plain": [
       "<Figure size 432x288 with 1 Axes>"
      ]
     },
     "metadata": {
      "needs_background": "light"
     },
     "output_type": "display_data"
    }
   ],
   "source": [
    "plt.scatter(x = covid_data[\"gini_index\"],y = covid_data[\"cpos_norm\"], alpha = 0.3)\n",
    "plt.xlabel(\"Gini Index\")\n",
    "plt.ylabel(\"Cumulative COVID Positive Cases Per Capita\")\n",
    "plt.show()"
   ]
  },
  {
   "cell_type": "markdown",
   "metadata": {},
   "source": [
    "Because this data is not normally distributed, it is difficult to discern trends from the scatterplot.  We may have to try other methods to find trends in gini data. "
   ]
  },
  {
   "cell_type": "markdown",
   "metadata": {},
   "source": [
    "#### Scatterplot of normalized cumulative deaths cases vs gini index:"
   ]
  },
  {
   "cell_type": "code",
   "execution_count": 16,
   "metadata": {},
   "outputs": [
    {
     "data": {
      "image/png": "[encoded data removed]",
      "text/plain": [
       "<Figure size 432x288 with 1 Axes>"
      ]
     },
     "metadata": {
      "needs_background": "light"
     },
     "output_type": "display_data"
    }
   ],
   "source": [
    "plt.scatter(x = covid_data[\"gini_index\"],y = covid_data[\"cdec_norm\"], alpha = 0.3)\n",
    "plt.xlabel(\"Gini Index\")\n",
    "plt.ylabel(\"Cumulative COVID Deaths Per Capita\")\n",
    "plt.show()"
   ]
  },
  {
   "cell_type": "markdown",
   "metadata": {},
   "source": [
    "## Questions for reviewers\n",
    "\n",
    "- Should we be concerned about other possible external factors that may also influence a country’s positive COVID rate and death rate? For example, the density and the distribution of the population? Or the effect of government COVID policies?\n",
    "- We are interested in two potential factors (GDP per capita and Gini Index) that may affect a country’s COVID data. What kind of test should we use to determine whether each or both factor(s) may have a correlation with positive and death rates? Maybe a Factorial (Two-Factor) Anova Test? Should we also test both the main effects and the interaction effects?\n",
    "- What type(s) of graph do you recommend us to use for our particular research questions?\n",
    "- Does the scope of our project seem too small or too large?\n"
   ]
  },
  {
   "cell_type": "code",
   "execution_count": null,
   "metadata": {},
   "outputs": [],
   "source": []
  }
 ],
 "metadata": {
  "kernelspec": {
   "display_name": "Python 3",
   "language": "python",
   "name": "python3"
  },
  "language_info": {
   "codemirror_mode": {
    "name": "ipython",
    "version": 3
   },
   "file_extension": ".py",
   "mimetype": "text/x-python",
   "name": "python",
   "nbconvert_exporter": "python",
   "pygments_lexer": "ipython3",
   "version": "3.7.4"
  }
 },
 "nbformat": 4,
 "nbformat_minor": 4
}
