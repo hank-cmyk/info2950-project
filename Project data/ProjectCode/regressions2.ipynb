{
 "cells": [
  {
   "cell_type": "code",
   "execution_count": 1,
   "id": "unnecessary-board",
   "metadata": {},
   "outputs": [],
   "source": [
    "import pandas as pd\n",
    "import numpy as np\n",
    "import matplotlib.pyplot as plt\n",
    "%matplotlib inline\n",
    "\n",
    "from sklearn.linear_model import LinearRegression\n",
    "from sklearn.linear_model import LogisticRegression\n",
    "from sklearn.model_selection import train_test_split\n",
    "import seaborn as sns"
   ]
  },
  {
   "cell_type": "code",
   "execution_count": 2,
   "id": "democratic-laugh",
   "metadata": {},
   "outputs": [],
   "source": [
    "raw_covid = pd.read_csv(\"jrc-covid-19-world-latest.csv\")\n",
    "gini_data = pd.read_csv(\"gini_data2.csv\")\n",
    "gdp_data = pd.read_csv(\"gdp_data.csv\")\n",
    "pop_data = pd.read_csv(\"API_SP.POP.TOTL_DS2_en_csv_v2_2106202.csv\")\n",
    "pop_den = pd.read_csv(\"pop_density.csv\")\n",
    "unemploy_rates = pd.read_csv(\"unemployment_rates.csv\")"
   ]
  },
  {
   "cell_type": "code",
   "execution_count": 3,
   "id": "naked-muslim",
   "metadata": {},
   "outputs": [],
   "source": [
    "gdp_data.columns = gdp_data.loc[3]\n",
    "gdp_data = gdp_data.drop(index = [0,1,2,3])"
   ]
  },
  {
   "cell_type": "code",
   "execution_count": 4,
   "id": "relevant-poland",
   "metadata": {},
   "outputs": [],
   "source": [
    "new_colnames = [i.lower() for i in raw_covid.columns]\n",
    "covid_cases = raw_covid.copy()\n",
    "for i in covid_cases.columns:\n",
    "    covid_cases.columns = new_colnames\n",
    "    \n",
    "#dropping unnecessary columns:\n",
    "covid_cases = covid_cases[['date', 'iso3', 'continent', 'countryname'\n",
    "                           , 'cumulativepositive', 'cumulativedeceased'\n",
    "                           , 'currentlypositive']]\n",
    "#renaming columns\n",
    "covid_cases.rename(columns = {'iso3':'country_code','countryname':'country_name'\n",
    "                              , 'cumulativepositive':'cumulative_pos', 'cumulativedeceased':'cumulative_dec'\n",
    "                              , 'currentlypositive':'curr_pos'}, inplace = True)\n",
    "\n",
    "\n",
    "\n",
    "#clean gdp data, drop unecessary columns and rename them\n",
    "new_colnames = []\n",
    "gdp = gdp_data.copy()\n",
    "gdp.rename(columns = {\"Country Name\":\"country_name\",\"Country Code\":\"country_code\",2019:\"gdp_per_cap\"}\n",
    "           , inplace = True)\n",
    "gdp = gdp[[\"country_name\",\"country_code\",\"gdp_per_cap\"]]\n",
    "\n",
    "#drop NaNs in gdp\n",
    "gdp = gdp.dropna(axis = 0,subset=[\"gdp_per_cap\"])\n",
    "\n",
    "#clean gini column names\n",
    "gini_data.rename(columns = {\"Country Code\":\"country_code\",\n",
    "                          \"Country\":\"country\",\"Value\":\"gini_index\",'Year':\"gini_year\"},inplace = True)\n",
    "\n",
    "#clean population data\n",
    "pop_data.rename(columns = {\"Country Code\":\"country_code\",\"Country Name\":\"country_name\",\"2019\":\"population\"}\n",
    "                ,inplace = True)\n",
    "pop_data = pop_data[[\"country_code\",'country_name','population']]\n",
    "\n",
    "#clean population density \n",
    "pop_den.rename(columns = {\"Country Code\":\"country_code\",\"Country Name\":\"country_name\",\"2018\":\"density\"}\n",
    "               ,inplace = True)\n",
    "pop_den = pop_den[['country_code','country_name','density']]\n",
    "\n",
    "#clean unemployment rates \n",
    "unemploy_rates.rename(columns = {\"Country Code\":\"country_code\",\"Country Name\":\"country_name\",\"2019\":\"rates\"}\n",
    "                      ,inplace = True)\n",
    "unemploy_rates = unemploy_rates[['country_code','country_name','rates']]\n"
   ]
  },
  {
   "cell_type": "code",
   "execution_count": 5,
   "id": "municipal-publication",
   "metadata": {},
   "outputs": [
    {
     "name": "stdout",
     "output_type": "stream",
     "text": [
      "166\n",
      "140\n",
      "140\n",
      "136\n",
      "136\n"
     ]
    }
   ],
   "source": [
    "#adding gdp \n",
    "covid_gdp = pd.merge(left = covid_cases, right = gdp, left_on = \"country_code\",right_on = \"country_code\")\n",
    "print(len(covid_gdp))\n",
    "\n",
    "#adding gini\n",
    "covid_gdp_gini = pd.merge(left = covid_gdp, right = gini_data, left_on = \"country_code\",right_on = \"country_code\")\n",
    "print(len(covid_gdp_gini))\n",
    "\n",
    "#adding population \n",
    "covid_gdp_gini = pd.merge(left = covid_gdp_gini, right = pop_data, left_on = \"country_code\",right_on = \"country_code\")\n",
    "print(len(covid_gdp_gini))\n",
    "\n",
    "#adding population density\n",
    "covid_gdp_gini = pd.merge(left = covid_gdp_gini, right = pop_den, left_on = \"country_code\",right_on = \"country_code\")\n",
    "print(len(covid_gdp_gini))\n",
    "\n",
    "#adding unemployment rates\n",
    "covid_data = pd.merge(left = covid_gdp_gini, right = unemploy_rates, left_on = \"country_code\",right_on = \"country_code\")\n",
    "print(len(covid_data))\n",
    "\n",
    "\n",
    "#removing duplicate columns\n",
    "covid_data = covid_data.drop(columns = [\"country\",'country_name_y',\"country_name\"])\n",
    "covid_data.rename(columns = {\"country_name_x\":\"country_name\"},inplace = True)"
   ]
  },
  {
   "cell_type": "code",
   "execution_count": 6,
   "id": "piano-opportunity",
   "metadata": {},
   "outputs": [],
   "source": [
    "#creating a new column for the ratio of covid deaths to covid positives\n",
    "covid_data['dec_pos_ratio'] = covid_data['cumulative_dec'] / covid_data['cumulative_pos']\n",
    "\n",
    "#creating two columns: cumulative COVID positives per capita, and cumulative COVID deaths per capita\n",
    "cpos_norm = []\n",
    "for i in range(len(covid_data.cumulative_pos)):\n",
    "    cpos_norm.append(covid_data.cumulative_pos[i]/covid_data.population[i])\n",
    "covid_data['cpos_norm'] = cpos_norm\n",
    "\n",
    "cdec_norm = []\n",
    "for i in range(len(covid_data.cumulative_dec)):\n",
    "    cdec_norm.append(covid_data.cumulative_dec[i]/covid_data.population[i])\n",
    "covid_data['cdec_norm'] = cdec_norm"
   ]
  },
  {
   "cell_type": "code",
   "execution_count": 7,
   "id": "supreme-phoenix",
   "metadata": {},
   "outputs": [
    {
     "data": {
      "text/html": [
       "<div>\n",
       "<style scoped>\n",
       "    .dataframe tbody tr th:only-of-type {\n",
       "        vertical-align: middle;\n",
       "    }\n",
       "\n",
       "    .dataframe tbody tr th {\n",
       "        vertical-align: top;\n",
       "    }\n",
       "\n",
       "    .dataframe thead th {\n",
       "        text-align: right;\n",
       "    }\n",
       "</style>\n",
       "<table border=\"1\" class=\"dataframe\">\n",
       "  <thead>\n",
       "    <tr style=\"text-align: right;\">\n",
       "      <th></th>\n",
       "      <th>date</th>\n",
       "      <th>country_code</th>\n",
       "      <th>continent</th>\n",
       "      <th>cumulative_pos</th>\n",
       "      <th>cumulative_dec</th>\n",
       "      <th>curr_pos</th>\n",
       "      <th>gdp_per_cap</th>\n",
       "      <th>gini_index</th>\n",
       "      <th>gini_year</th>\n",
       "      <th>population</th>\n",
       "      <th>pop_density</th>\n",
       "      <th>unemploy_rates</th>\n",
       "      <th>dec_pos_ratio</th>\n",
       "      <th>cpos_norm</th>\n",
       "      <th>cdec_norm</th>\n",
       "    </tr>\n",
       "  </thead>\n",
       "  <tbody>\n",
       "    <tr>\n",
       "      <th>0</th>\n",
       "      <td>2021-03-13</td>\n",
       "      <td>ALB</td>\n",
       "      <td>EU</td>\n",
       "      <td>116821</td>\n",
       "      <td>2030</td>\n",
       "      <td>34970.0</td>\n",
       "      <td>5353.244856</td>\n",
       "      <td>29.0</td>\n",
       "      <td>2012</td>\n",
       "      <td>2854191.0</td>\n",
       "      <td>104.6122628</td>\n",
       "      <td>11.47000027</td>\n",
       "      <td>0.017377</td>\n",
       "      <td>0.040930</td>\n",
       "      <td>0.000711</td>\n",
       "    </tr>\n",
       "    <tr>\n",
       "      <th>1</th>\n",
       "      <td>2021-02-15</td>\n",
       "      <td>DZA</td>\n",
       "      <td>AF</td>\n",
       "      <td>110711</td>\n",
       "      <td>2939</td>\n",
       "      <td>107772.0</td>\n",
       "      <td>3973.964072</td>\n",
       "      <td>27.6</td>\n",
       "      <td>2011</td>\n",
       "      <td>43053054.0</td>\n",
       "      <td>17.73006763</td>\n",
       "      <td>11.81000042</td>\n",
       "      <td>0.026547</td>\n",
       "      <td>0.002572</td>\n",
       "      <td>0.000068</td>\n",
       "    </tr>\n",
       "    <tr>\n",
       "      <th>2</th>\n",
       "      <td>2021-02-15</td>\n",
       "      <td>AGO</td>\n",
       "      <td>AF</td>\n",
       "      <td>20366</td>\n",
       "      <td>492</td>\n",
       "      <td>19874.0</td>\n",
       "      <td>2790.726615</td>\n",
       "      <td>42.7</td>\n",
       "      <td>2008</td>\n",
       "      <td>31825295.0</td>\n",
       "      <td>24.71305206</td>\n",
       "      <td>6.929999828</td>\n",
       "      <td>0.024158</td>\n",
       "      <td>0.000640</td>\n",
       "      <td>0.000015</td>\n",
       "    </tr>\n",
       "    <tr>\n",
       "      <th>3</th>\n",
       "      <td>2021-02-15</td>\n",
       "      <td>ARG</td>\n",
       "      <td>SA</td>\n",
       "      <td>2029008</td>\n",
       "      <td>50327</td>\n",
       "      <td>1978681.0</td>\n",
       "      <td>9912.281809</td>\n",
       "      <td>41.2</td>\n",
       "      <td>2017</td>\n",
       "      <td>44938712.0</td>\n",
       "      <td>16.2585101</td>\n",
       "      <td>9.840000153</td>\n",
       "      <td>0.024804</td>\n",
       "      <td>0.045151</td>\n",
       "      <td>0.001120</td>\n",
       "    </tr>\n",
       "    <tr>\n",
       "      <th>4</th>\n",
       "      <td>2021-02-15</td>\n",
       "      <td>AUS</td>\n",
       "      <td>OC</td>\n",
       "      <td>28900</td>\n",
       "      <td>909</td>\n",
       "      <td>27991.0</td>\n",
       "      <td>55060.326100</td>\n",
       "      <td>35.8</td>\n",
       "      <td>2014</td>\n",
       "      <td>25364307.0</td>\n",
       "      <td>3.24787091</td>\n",
       "      <td>5.159999847</td>\n",
       "      <td>0.031453</td>\n",
       "      <td>0.001139</td>\n",
       "      <td>0.000036</td>\n",
       "    </tr>\n",
       "  </tbody>\n",
       "</table>\n",
       "</div>"
      ],
      "text/plain": [
       "         date country_code continent  cumulative_pos  cumulative_dec  \\\n",
       "0  2021-03-13          ALB        EU          116821            2030   \n",
       "1  2021-02-15          DZA        AF          110711            2939   \n",
       "2  2021-02-15          AGO        AF           20366             492   \n",
       "3  2021-02-15          ARG        SA         2029008           50327   \n",
       "4  2021-02-15          AUS        OC           28900             909   \n",
       "\n",
       "    curr_pos   gdp_per_cap  gini_index  gini_year  population  pop_density  \\\n",
       "0    34970.0   5353.244856        29.0       2012   2854191.0  104.6122628   \n",
       "1   107772.0   3973.964072        27.6       2011  43053054.0  17.73006763   \n",
       "2    19874.0   2790.726615        42.7       2008  31825295.0  24.71305206   \n",
       "3  1978681.0   9912.281809        41.2       2017  44938712.0   16.2585101   \n",
       "4    27991.0  55060.326100        35.8       2014  25364307.0   3.24787091   \n",
       "\n",
       "  unemploy_rates  dec_pos_ratio  cpos_norm  cdec_norm  \n",
       "0    11.47000027       0.017377   0.040930   0.000711  \n",
       "1    11.81000042       0.026547   0.002572   0.000068  \n",
       "2    6.929999828       0.024158   0.000640   0.000015  \n",
       "3    9.840000153       0.024804   0.045151   0.001120  \n",
       "4    5.159999847       0.031453   0.001139   0.000036  "
      ]
     },
     "execution_count": 7,
     "metadata": {},
     "output_type": "execute_result"
    }
   ],
   "source": [
    "#cleaning columns\n",
    "covid_data.rename(columns = {'density':'pop_density', 'rates': 'unemploy_rates'}, inplace = True)\n",
    "covid_data.drop(labels = 'country_name', axis = 1, inplace = True)\n",
    "covid_data.head()"
   ]
  },
  {
   "cell_type": "code",
   "execution_count": 8,
   "id": "filled-technology",
   "metadata": {},
   "outputs": [
    {
     "data": {
      "text/html": [
       "<div>\n",
       "<style scoped>\n",
       "    .dataframe tbody tr th:only-of-type {\n",
       "        vertical-align: middle;\n",
       "    }\n",
       "\n",
       "    .dataframe tbody tr th {\n",
       "        vertical-align: top;\n",
       "    }\n",
       "\n",
       "    .dataframe thead th {\n",
       "        text-align: right;\n",
       "    }\n",
       "</style>\n",
       "<table border=\"1\" class=\"dataframe\">\n",
       "  <thead>\n",
       "    <tr style=\"text-align: right;\">\n",
       "      <th></th>\n",
       "      <th>date</th>\n",
       "      <th>country_code</th>\n",
       "      <th>continent</th>\n",
       "      <th>cumulative_pos</th>\n",
       "      <th>cumulative_dec</th>\n",
       "      <th>curr_pos</th>\n",
       "      <th>gdp_per_cap</th>\n",
       "      <th>gini_index</th>\n",
       "      <th>gini_year</th>\n",
       "      <th>population</th>\n",
       "      <th>pop_density</th>\n",
       "      <th>unemploy_rates</th>\n",
       "      <th>dec_pos_ratio</th>\n",
       "      <th>cpos_norm</th>\n",
       "      <th>cdec_norm</th>\n",
       "    </tr>\n",
       "  </thead>\n",
       "  <tbody>\n",
       "    <tr>\n",
       "      <th>0</th>\n",
       "      <td>2021-03-13</td>\n",
       "      <td>ALB</td>\n",
       "      <td>EU</td>\n",
       "      <td>116821</td>\n",
       "      <td>2030</td>\n",
       "      <td>34970.0</td>\n",
       "      <td>5353.244856</td>\n",
       "      <td>29.0</td>\n",
       "      <td>2012</td>\n",
       "      <td>2854191.0</td>\n",
       "      <td>104.6122628</td>\n",
       "      <td>11.47</td>\n",
       "      <td>0.017377</td>\n",
       "      <td>0.040930</td>\n",
       "      <td>0.000711</td>\n",
       "    </tr>\n",
       "    <tr>\n",
       "      <th>1</th>\n",
       "      <td>2021-02-15</td>\n",
       "      <td>DZA</td>\n",
       "      <td>AF</td>\n",
       "      <td>110711</td>\n",
       "      <td>2939</td>\n",
       "      <td>107772.0</td>\n",
       "      <td>3973.964072</td>\n",
       "      <td>27.6</td>\n",
       "      <td>2011</td>\n",
       "      <td>43053054.0</td>\n",
       "      <td>17.73006763</td>\n",
       "      <td>11.81</td>\n",
       "      <td>0.026547</td>\n",
       "      <td>0.002572</td>\n",
       "      <td>0.000068</td>\n",
       "    </tr>\n",
       "    <tr>\n",
       "      <th>2</th>\n",
       "      <td>2021-02-15</td>\n",
       "      <td>AGO</td>\n",
       "      <td>AF</td>\n",
       "      <td>20366</td>\n",
       "      <td>492</td>\n",
       "      <td>19874.0</td>\n",
       "      <td>2790.726615</td>\n",
       "      <td>42.7</td>\n",
       "      <td>2008</td>\n",
       "      <td>31825295.0</td>\n",
       "      <td>24.71305206</td>\n",
       "      <td>6.93</td>\n",
       "      <td>0.024158</td>\n",
       "      <td>0.000640</td>\n",
       "      <td>0.000015</td>\n",
       "    </tr>\n",
       "    <tr>\n",
       "      <th>3</th>\n",
       "      <td>2021-02-15</td>\n",
       "      <td>ARG</td>\n",
       "      <td>SA</td>\n",
       "      <td>2029008</td>\n",
       "      <td>50327</td>\n",
       "      <td>1978681.0</td>\n",
       "      <td>9912.281809</td>\n",
       "      <td>41.2</td>\n",
       "      <td>2017</td>\n",
       "      <td>44938712.0</td>\n",
       "      <td>16.2585101</td>\n",
       "      <td>9.84</td>\n",
       "      <td>0.024804</td>\n",
       "      <td>0.045151</td>\n",
       "      <td>0.001120</td>\n",
       "    </tr>\n",
       "    <tr>\n",
       "      <th>4</th>\n",
       "      <td>2021-02-15</td>\n",
       "      <td>AUS</td>\n",
       "      <td>OC</td>\n",
       "      <td>28900</td>\n",
       "      <td>909</td>\n",
       "      <td>27991.0</td>\n",
       "      <td>55060.326100</td>\n",
       "      <td>35.8</td>\n",
       "      <td>2014</td>\n",
       "      <td>25364307.0</td>\n",
       "      <td>3.24787091</td>\n",
       "      <td>5.16</td>\n",
       "      <td>0.031453</td>\n",
       "      <td>0.001139</td>\n",
       "      <td>0.000036</td>\n",
       "    </tr>\n",
       "  </tbody>\n",
       "</table>\n",
       "</div>"
      ],
      "text/plain": [
       "         date country_code continent  cumulative_pos  cumulative_dec  \\\n",
       "0  2021-03-13          ALB        EU          116821            2030   \n",
       "1  2021-02-15          DZA        AF          110711            2939   \n",
       "2  2021-02-15          AGO        AF           20366             492   \n",
       "3  2021-02-15          ARG        SA         2029008           50327   \n",
       "4  2021-02-15          AUS        OC           28900             909   \n",
       "\n",
       "    curr_pos   gdp_per_cap  gini_index  gini_year  population  pop_density  \\\n",
       "0    34970.0   5353.244856        29.0       2012   2854191.0  104.6122628   \n",
       "1   107772.0   3973.964072        27.6       2011  43053054.0  17.73006763   \n",
       "2    19874.0   2790.726615        42.7       2008  31825295.0  24.71305206   \n",
       "3  1978681.0   9912.281809        41.2       2017  44938712.0   16.2585101   \n",
       "4    27991.0  55060.326100        35.8       2014  25364307.0   3.24787091   \n",
       "\n",
       "  unemploy_rates  dec_pos_ratio  cpos_norm  cdec_norm  \n",
       "0          11.47       0.017377   0.040930   0.000711  \n",
       "1          11.81       0.026547   0.002572   0.000068  \n",
       "2           6.93       0.024158   0.000640   0.000015  \n",
       "3           9.84       0.024804   0.045151   0.001120  \n",
       "4           5.16       0.031453   0.001139   0.000036  "
      ]
     },
     "execution_count": 8,
     "metadata": {},
     "output_type": "execute_result"
    }
   ],
   "source": [
    "#trying to get rid of strings that are in the unemployment columns \n",
    "for i in range(len(covid_data['unemploy_rates'])):\n",
    "    if \"*\" in covid_data.unemploy_rates[i]:\n",
    "        covid_data.loc[i,\"unemploy_rates\"]=np.nan\n",
    "    else:\n",
    "        covid_data.loc[i,\"unemploy_rates\"]=float(covid_data.unemploy_rates[i])\n",
    "covid_data.dropna(axis=0, subset=[\"unemploy_rates\"], inplace=True)\n",
    "covid_data.head()\n"
   ]
  },
  {
   "cell_type": "code",
   "execution_count": 9,
   "id": "lined-numbers",
   "metadata": {},
   "outputs": [
    {
     "name": "stdout",
     "output_type": "stream",
     "text": [
      "Number of countries included: 135\n"
     ]
    }
   ],
   "source": [
    "print(\"Number of countries included: {}\".format(covid_data.shape[0]))"
   ]
  },
  {
   "cell_type": "markdown",
   "id": "bearing-cincinnati",
   "metadata": {},
   "source": [
    "## Linear Models\n",
    "Below are several models we use to try predicting positive COVID cases per capita, COVID deaths per capita, and the ratio of COVID deaths to COVID positives based on different predictor variables including GDP per capita, Gini index, unemployment rate and population density."
   ]
  },
  {
   "cell_type": "markdown",
   "id": "about-reproduction",
   "metadata": {},
   "source": [
    "#### 1: Predict cumulative positive covid cases per capita (Y) based on GDP per capita (X) (Linear Regression)"
   ]
  },
  {
   "cell_type": "code",
   "execution_count": 10,
   "id": "blessed-joyce",
   "metadata": {
    "tags": []
   },
   "outputs": [
    {
     "data": {
      "image/png": "[encoded data removed]",
      "text/plain": [
       "<Figure size 432x288 with 1 Axes>"
      ]
     },
     "metadata": {
      "needs_background": "light"
     },
     "output_type": "display_data"
    },
    {
     "name": "stdout",
     "output_type": "stream",
     "text": [
      "r squared: 0.242\n"
     ]
    }
   ],
   "source": [
    "pos_gdp_regressor = LinearRegression()\n",
    "\n",
    "pos_gdp_reshapeX = np.reshape(covid_data[['gdp_per_cap']], (-1, 1))\n",
    "\n",
    "\n",
    "pos_gdp_regressor.fit(pos_gdp_reshapeX, covid_data['cpos_norm'])\n",
    "\n",
    "pos_gdp_pred = pos_gdp_regressor.predict(pos_gdp_reshapeX)\n",
    "\n",
    "plt.scatter(pos_gdp_reshapeX, covid_data['cpos_norm'], alpha = 0.8)\n",
    "plt.scatter(pos_gdp_reshapeX, pos_gdp_pred, c ='lightgreen', alpha = 0.8)\n",
    "plt.title('Cumulative Positive Cases based on GDP per capita (Linear)')\n",
    "plt.xlabel('gdp_per_cap')\n",
    "plt.ylabel('cumulative positives per capita')\n",
    "plt.legend(['observed', 'predicted'])\n",
    "\n",
    "plt.show()\n",
    "print(\"r squared: {:.3f}\".format(pos_gdp_regressor.score(pos_gdp_reshapeX, covid_data['cpos_norm'])))\n"
   ]
  },
  {
   "cell_type": "markdown",
   "id": "latter-separation",
   "metadata": {},
   "source": [
    "#### 2: Predict cumulative positive covid cases per capita (Y) based on gini index (X) (Linear Regression)"
   ]
  },
  {
   "cell_type": "code",
   "execution_count": 11,
   "id": "altered-split",
   "metadata": {},
   "outputs": [
    {
     "data": {
      "image/png": "[encoded data removed]",
      "text/plain": [
       "<Figure size 432x288 with 1 Axes>"
      ]
     },
     "metadata": {
      "needs_background": "light"
     },
     "output_type": "display_data"
    },
    {
     "name": "stdout",
     "output_type": "stream",
     "text": [
      "r squared: 0.10\n"
     ]
    }
   ],
   "source": [
    "pos_gini_regressor = LinearRegression()\n",
    "\n",
    "pos_gini_reshapeX = np.reshape(covid_data[['gini_index']], (-1, 1))\n",
    "\n",
    "\n",
    "pos_gini_regressor.fit(pos_gini_reshapeX, covid_data['cpos_norm'])\n",
    "\n",
    "pos_gini_pred = pos_gini_regressor.predict(pos_gini_reshapeX)\n",
    "\n",
    "plt.scatter(pos_gini_reshapeX, covid_data['cpos_norm'], alpha = 0.8)\n",
    "plt.scatter(pos_gini_reshapeX, pos_gini_pred, c ='lightgreen', alpha = 0.8)\n",
    "plt.title('Cumulative Positive Cases based on Gini Index (Linear)')\n",
    "plt.xlabel('gini_index')\n",
    "plt.ylabel('cumulative pos per capita')\n",
    "plt.legend(['observed', 'predicted'])\n",
    "\n",
    "plt.show()\n",
    "print(\"r squared: {:.2f}\".format(pos_gini_regressor.score(pos_gini_reshapeX, covid_data['cpos_norm'])))"
   ]
  },
  {
   "cell_type": "markdown",
   "id": "careful-quick",
   "metadata": {},
   "source": [
    "#### 3: Predict cumulative positive covid cases per capita (Y) based on population density (X) (Linear Regression)"
   ]
  },
  {
   "cell_type": "code",
   "execution_count": 12,
   "id": "internal-cinema",
   "metadata": {},
   "outputs": [
    {
     "data": {
      "image/png": "[encoded data removed]",
      "text/plain": [
       "<Figure size 432x288 with 1 Axes>"
      ]
     },
     "metadata": {
      "needs_background": "light"
     },
     "output_type": "display_data"
    },
    {
     "name": "stdout",
     "output_type": "stream",
     "text": [
      "r squared: 0.0006\n"
     ]
    }
   ],
   "source": [
    "pos_den_regressor = LinearRegression()\n",
    "\n",
    "pos_den_regressor.fit(covid_data[['pop_density']], covid_data['cpos_norm'])\n",
    "\n",
    "pos_den_pred = pos_den_regressor.predict(covid_data[['pop_density']])\n",
    "\n",
    "%matplotlib inline\n",
    "plt.scatter(covid_data['pop_density'], covid_data['cpos_norm'], alpha = 0.8)\n",
    "plt.scatter(covid_data['pop_density'], pos_den_pred, c ='lightgreen', alpha = 0.8)\n",
    "plt.title('Cumulative Positive Cases based on Population Density (Linear)')\n",
    "plt.xlabel('population density')\n",
    "plt.ylabel('cumulative positives per capita')\n",
    "plt.legend(['observed', 'predicted'])\n",
    "plt.show()\n",
    "print(\"r squared: {:.4f}\".format(pos_den_regressor.score(covid_data[['pop_density']], covid_data['cpos_norm'])))"
   ]
  },
  {
   "cell_type": "markdown",
   "id": "adjusted-danger",
   "metadata": {},
   "source": [
    "#### 4: Predict cumulative positive covid cases per capita (Y) based on unemployment rates (X) (Linear Regression)"
   ]
  },
  {
   "cell_type": "code",
   "execution_count": 13,
   "id": "foster-exemption",
   "metadata": {},
   "outputs": [
    {
     "data": {
      "image/png": "[encoded data removed]",
      "text/plain": [
       "<Figure size 432x288 with 1 Axes>"
      ]
     },
     "metadata": {
      "needs_background": "light"
     },
     "output_type": "display_data"
    },
    {
     "name": "stdout",
     "output_type": "stream",
     "text": [
      "r squared: 0.0083\n"
     ]
    }
   ],
   "source": [
    "pos_rates_regressor = LinearRegression()\n",
    "\n",
    "pos_rates_regressor.fit(covid_data[['unemploy_rates']], covid_data['cpos_norm'])\n",
    "\n",
    "pos_rates_pred = pos_rates_regressor.predict(covid_data[['unemploy_rates']])\n",
    "\n",
    "plt.scatter(covid_data[['unemploy_rates']], covid_data['cpos_norm'], alpha = 0.8)\n",
    "plt.scatter(covid_data[['unemploy_rates']], pos_rates_pred, c ='lightgreen', alpha = 0.8)\n",
    "plt.title('Cumulative Positive Cases based on Unemployment Rates (Linear)')\n",
    "plt.xlabel('unemploy_rates')\n",
    "plt.ylabel('cumulative_pos per cap')\n",
    "plt.legend(['observed', 'predicted'])\n",
    "\n",
    "plt.show()\n",
    "print(\"r squared: {:.4f}\".format(pos_rates_regressor.score(covid_data[['unemploy_rates']], covid_data['cpos_norm'])))"
   ]
  },
  {
   "cell_type": "markdown",
   "id": "greatest-headline",
   "metadata": {},
   "source": [
    "#### 5: Using GDP per capita, gini index, population density, and unemployment rates to predict the cumulative positive COVID cases per capita"
   ]
  },
  {
   "cell_type": "code",
   "execution_count": 14,
   "id": "turkish-going",
   "metadata": {},
   "outputs": [
    {
     "name": "stdout",
     "output_type": "stream",
     "text": [
      "gdp_per_cap coefficient: 6.376E-07\n",
      "gini_index coefficient: -7.082E-04\n",
      "population density coefficient: -4.363E-07\n",
      "unemployment rates coefficient: 1.140E-03\n",
      "r^2 score: 0.2982\n"
     ]
    }
   ],
   "source": [
    "multi_model = LinearRegression()\n",
    "multi_model.fit(covid_data[['gdp_per_cap', 'gini_index', 'pop_density','unemploy_rates']], covid_data['cpos_norm'])\n",
    "print('gdp_per_cap coefficient: {:.3E}'.format(multi_model.coef_[0]))\n",
    "print('gini_index coefficient: {:.3E}'.format(multi_model.coef_[1]))\n",
    "print('population density coefficient: {:.3E}'.format(multi_model.coef_[2]))\n",
    "print('unemployment rates coefficient: {:.3E}'.format(multi_model.coef_[3]))\n",
    "\n",
    "score = multi_model.score(covid_data[['gdp_per_cap', 'gini_index', 'pop_density','unemploy_rates']], covid_data['cpos_norm'])\n",
    "print('r^2 score: {:.4f}'.format(score))"
   ]
  },
  {
   "cell_type": "markdown",
   "id": "orange-grounds",
   "metadata": {},
   "source": [
    "#### 6: Using GDP per capita, gini index, population density, and unemployment rates to predict covid deaths per capita"
   ]
  },
  {
   "cell_type": "code",
   "execution_count": 15,
   "id": "powerful-mathematics",
   "metadata": {},
   "outputs": [
    {
     "name": "stdout",
     "output_type": "stream",
     "text": [
      "gdp_per_cap coefficient: 1.026E-08\n",
      "gini_index coefficient: -1.194E-05\n",
      "population density coefficient: -1.663E-07\n",
      "unemployment rates coefficient: 1.954E-05\n",
      "r^2 score: 0.1914\n"
     ]
    }
   ],
   "source": [
    "multi_model_dec = LinearRegression()\n",
    "multi_model_dec.fit(covid_data[['gdp_per_cap', 'gini_index', 'pop_density','unemploy_rates']], covid_data['cdec_norm'])\n",
    "print('gdp_per_cap coefficient: {:.3E}'.format(multi_model_dec.coef_[0]))\n",
    "print('gini_index coefficient: {:.3E}'.format(multi_model_dec.coef_[1]))\n",
    "print('population density coefficient: {:.3E}'.format(multi_model_dec.coef_[2]))\n",
    "print('unemployment rates coefficient: {:.3E}'.format(multi_model_dec.coef_[3]))\n",
    "\n",
    "score_dec = multi_model_dec.score(covid_data[['gdp_per_cap', 'gini_index', 'pop_density','unemploy_rates']], covid_data['cdec_norm'])\n",
    "print('r^2 score: {:.4f}'.format(score_dec))"
   ]
  },
  {
   "cell_type": "markdown",
   "id": "incomplete-dylan",
   "metadata": {},
   "source": [
    "#### 7: Using GDP per capita, gini index, population density, and unemployment rates to predict ratio of covid deaths to covid positives"
   ]
  },
  {
   "cell_type": "code",
   "execution_count": 16,
   "id": "excellent-skating",
   "metadata": {},
   "outputs": [
    {
     "name": "stdout",
     "output_type": "stream",
     "text": [
      "gdp_per_cap coefficient: -3.696E-08\n",
      "gini_index coefficient: 1.007E-04\n",
      "population density coefficient: -5.800E-06\n",
      "unemployment rates coefficient: 6.896E-05\n",
      "r^2 score: 0.0244\n"
     ]
    }
   ],
   "source": [
    "multi_model_ratio = LinearRegression()\n",
    "multi_model_ratio.fit(covid_data[['gdp_per_cap', 'gini_index', 'pop_density','unemploy_rates']], covid_data['dec_pos_ratio'])\n",
    "\n",
    "\n",
    "print('gdp_per_cap coefficient: {:.3E}'.format(multi_model_ratio.coef_[0]))\n",
    "print('gini_index coefficient: {:.3E}'.format(multi_model_ratio.coef_[1]))\n",
    "print('population density coefficient: {:.3E}'.format(multi_model_ratio.coef_[2]))\n",
    "print('unemployment rates coefficient: {:.3E}'.format(multi_model_ratio.coef_[3]))\n",
    "\n",
    "score_ratio = multi_model_ratio.score(covid_data[['gdp_per_cap', 'gini_index', 'pop_density','unemploy_rates']], covid_data['dec_pos_ratio'])\n",
    "print('r^2 score: {:.4f}'.format(score_ratio))"
   ]
  },
  {
   "cell_type": "markdown",
   "id": "expected-limit",
   "metadata": {},
   "source": []
  },
  {
   "cell_type": "code",
   "execution_count": null,
   "id": "indonesian-certification",
   "metadata": {},
   "outputs": [],
   "source": []
  }
 ],
 "metadata": {
  "kernelspec": {
   "display_name": "Python 3",
   "language": "python",
   "name": "python3"
  },
  "language_info": {
   "codemirror_mode": {
    "name": "ipython",
    "version": 3
   },
   "file_extension": ".py",
   "mimetype": "text/x-python",
   "name": "python",
   "nbconvert_exporter": "python",
   "pygments_lexer": "ipython3",
   "version": "3.7.4"
  }
 },
 "nbformat": 4,
 "nbformat_minor": 5
}
