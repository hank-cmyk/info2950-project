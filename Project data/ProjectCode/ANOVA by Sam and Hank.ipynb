{
 "cells": [
  {
   "cell_type": "markdown",
   "metadata": {},
   "source": [
    "# Project Phase 2\n",
    "### Samantha Rubin, Hanwen Lin, Liz Espinoza, and Hanna Kang"
   ]
  },
  {
   "cell_type": "markdown",
   "metadata": {},
   "source": [
    "## Research questions:\n",
    "- Is there a relationship between wealth inequality (Gini index) and high rates of positive COVID cases in relation to the total population and/or COVID deaths across different countries?\n",
    "- Is there a relationship between GDP per capita and high rates of positive COVID cases in relation to the total population and/or COVID deaths across different countries?\n",
    "- Is there a relationship between the ratio of positive COVID results to COVID deaths and a country’s GDP and/or Gini index?\n"
   ]
  },
  {
   "cell_type": "markdown",
   "metadata": {},
   "source": [
    "-----\n",
    "## Data collection and cleaning"
   ]
  },
  {
   "cell_type": "code",
   "execution_count": 1,
   "metadata": {},
   "outputs": [],
   "source": [
    "import pandas as pd\n",
    "import numpy as np\n",
    "import matplotlib.pyplot as plt\n",
    "%matplotlib inline"
   ]
  },
  {
   "cell_type": "markdown",
   "metadata": {},
   "source": [
    "Data is imported below."
   ]
  },
  {
   "cell_type": "code",
   "execution_count": 2,
   "metadata": {},
   "outputs": [],
   "source": [
    "raw_covid = pd.read_csv(\"jrc-covid-19-world-latest.csv\")\n",
    "gini_data = pd.read_csv(\"gini_data2.csv\")\n",
    "gdp_data = pd.read_csv(\"gdp_data.csv\")\n",
    "pop_data = pd.read_csv(\"API_SP.POP.TOTL_DS2_en_csv_v2_2106202.csv\")\n",
    "pop_den = pd.read_csv(\"pop_density.csv\")\n",
    "unemploy_rates = pd.read_csv(\"unemployment_rates.csv\")\n",
    "#avg_households = pd.read_csv(\"avg_house.csv\")"
   ]
  },
  {
   "cell_type": "markdown",
   "metadata": {},
   "source": [
    "For gdp_data and gini_data, what should be the column labels are actually stored in the third row, and the data starts on the fourth row.  We fix this below."
   ]
  },
  {
   "cell_type": "code",
   "execution_count": 3,
   "metadata": {},
   "outputs": [],
   "source": [
    "gdp_data.columns = gdp_data.loc[3]\n",
    "gdp_data = gdp_data.drop(index = [0,1,2,3])"
   ]
  },
  {
   "cell_type": "markdown",
   "metadata": {},
   "source": [
    "Removing unnecessary columns and renaming them:"
   ]
  },
  {
   "cell_type": "code",
   "execution_count": 4,
   "metadata": {},
   "outputs": [],
   "source": [
    "#making covid data column names lowercase\n",
    "new_colnames = [i.lower() for i in raw_covid.columns]\n",
    "covid_cases = raw_covid.copy()\n",
    "for i in covid_cases.columns:\n",
    "    covid_cases.columns = new_colnames\n",
    "# #dropping unnecessary columns:\n",
    "# covid_cases = covid_cases[['date', 'iso3', 'continent', 'countryname'\n",
    "#                            , 'cumulativepositive', 'cumulativedeceased', 'cumulativerecovered'\n",
    "#                            , 'currentlypositive', 'hospitalized', 'intensivecare']]\n",
    "# #renaming columns\n",
    "# covid_cases.rename(columns = {'iso3':'country_code','countryname':'country_name'\n",
    "#                               , 'cumulativepositive':'cumulative_pos', 'cumulativedeceased':'cumulative_dec'\n",
    "#                               , 'cumulativerecovered':'cumulative_rec', 'currentlypositive':'curr_pos'\n",
    "#                               , 'intensivecare':'intensive_care'}, inplace = True)\n",
    "\n",
    "\n",
    "#dropping unnecessary columns:\n",
    "covid_cases = covid_cases[['date', 'iso3', 'continent', 'countryname'\n",
    "                           , 'cumulativepositive', 'cumulativedeceased'\n",
    "                           , 'currentlypositive']]\n",
    "#renaming columns\n",
    "covid_cases.rename(columns = {'iso3':'country_code','countryname':'country_name'\n",
    "                              , 'cumulativepositive':'cumulative_pos', 'cumulativedeceased':'cumulative_dec'\n",
    "                              , 'currentlypositive':'curr_pos'}, inplace = True)\n",
    "\n",
    "\n",
    "\n",
    "#clean gdp data, drop unecessary columns and rename them\n",
    "new_colnames = []\n",
    "gdp = gdp_data.copy()\n",
    "gdp.rename(columns = {\"Country Name\":\"country_name\",\"Country Code\":\"country_code\",2019:\"gdp_per_cap\"}, inplace = True)\n",
    "gdp = gdp[[\"country_name\",\"country_code\",\"gdp_per_cap\"]]\n",
    "\n",
    "#drop NaNs in gdp\n",
    "gdp = gdp.dropna(axis = 0,subset=[\"gdp_per_cap\"])\n",
    "\n",
    "#clean gini column names\n",
    "gini_data.rename(columns = {\"Country Code\":\"country_code\",\n",
    "                          \"Country\":\"country\",\"Value\":\"gini_index\",'Year':\"gini_year\"},inplace = True)\n",
    "\n",
    "#clean population data\n",
    "pop_data.rename(columns = {\"Country Code\":\"country_code\",\"Country Name\":\"country_name\",\"2019\":\"population\"}\n",
    "                ,inplace = True)\n",
    "pop_data = pop_data[[\"country_code\",'country_name','population']]\n",
    "\n",
    "#clean population density \n",
    "pop_den.rename(columns = {\"Country Code\":\"country_code\",\"Country Name\":\"country_name\",\"2018\":\"density\"}\n",
    "               ,inplace = True)\n",
    "pop_den = pop_den[['country_code','country_name','density']]\n",
    "\n",
    "#clean unemployment rates \n",
    "unemploy_rates.rename(columns = {\"Country Code\":\"country_code\",\"Country Name\":\"country_name\",\"2019\":\"rates\"}\n",
    "                      ,inplace = True)\n",
    "unemploy_rates = unemploy_rates[['country_code','country_name','rates']]\n",
    "\n",
    "#clean average households \n",
    "# avg_households.rename(columns = {\"Country Code\":\"country_code\",\"Country Name\":\"country_name\",\"2019\":\"size\"}\n",
    "#                       ,inplace = True)\n",
    "# avg_households = avg_households[['country_code','country_name','size']]\n",
    "\n"
   ]
  },
  {
   "cell_type": "markdown",
   "metadata": {},
   "source": [
    "Matching countries via country codes, only keeping the countries that have GDP, gini, and covid data. We printed the length to see how many countries were dropped"
   ]
  },
  {
   "cell_type": "code",
   "execution_count": 5,
   "metadata": {},
   "outputs": [
    {
     "name": "stdout",
     "output_type": "stream",
     "text": [
      "166\n",
      "140\n",
      "140\n",
      "136\n",
      "136\n"
     ]
    }
   ],
   "source": [
    "#adding gdp \n",
    "covid_gdp = pd.merge(left = covid_cases, right = gdp, left_on = \"country_code\",right_on = \"country_code\")\n",
    "print(len(covid_gdp))\n",
    "\n",
    "#adding gini\n",
    "covid_gdp_gini = pd.merge(left = covid_gdp, right = gini_data, left_on = \"country_code\",right_on = \"country_code\")\n",
    "print(len(covid_gdp_gini))\n",
    "\n",
    "#adding population \n",
    "covid_gdp_gini = pd.merge(left = covid_gdp_gini, right = pop_data, left_on = \"country_code\",right_on = \"country_code\")\n",
    "print(len(covid_gdp_gini))\n",
    "\n",
    "#adding population density\n",
    "covid_gdp_gini = pd.merge(left = covid_gdp_gini, right = pop_den, left_on = \"country_code\",right_on = \"country_code\")\n",
    "print(len(covid_gdp_gini))\n",
    "\n",
    "#adding unemployment rates\n",
    "covid_data = pd.merge(left = covid_gdp_gini, right = unemploy_rates, left_on = \"country_code\",right_on = \"country_code\")\n",
    "print(len(covid_data))\n",
    "\n",
    "#adding average households\n",
    "# covid_data = pd.merge(left = covid_gdp_gini, right = avg_households, left_on = \"country_code\",right_on = \"country_code\")\n",
    "# print(len(covid_data))\n",
    "\n",
    "\n",
    "\n",
    "#removing duplicate columns\n",
    "covid_data = covid_data.drop(columns = [\"country\",'country_name_y',\"country_name\"])\n",
    "covid_data.rename(columns = {\"country_name_x\":\"country_name\"},inplace = True)"
   ]
  },
  {
   "cell_type": "code",
   "execution_count": 6,
   "metadata": {},
   "outputs": [
    {
     "data": {
      "text/html": [
       "<div>\n",
       "<style scoped>\n",
       "    .dataframe tbody tr th:only-of-type {\n",
       "        vertical-align: middle;\n",
       "    }\n",
       "\n",
       "    .dataframe tbody tr th {\n",
       "        vertical-align: top;\n",
       "    }\n",
       "\n",
       "    .dataframe thead th {\n",
       "        text-align: right;\n",
       "    }\n",
       "</style>\n",
       "<table border=\"1\" class=\"dataframe\">\n",
       "  <thead>\n",
       "    <tr style=\"text-align: right;\">\n",
       "      <th></th>\n",
       "      <th>date</th>\n",
       "      <th>country_code</th>\n",
       "      <th>continent</th>\n",
       "      <th>country_name</th>\n",
       "      <th>cumulative_pos</th>\n",
       "      <th>cumulative_dec</th>\n",
       "      <th>curr_pos</th>\n",
       "      <th>gdp_per_cap</th>\n",
       "      <th>gini_index</th>\n",
       "      <th>gini_year</th>\n",
       "      <th>country_name</th>\n",
       "      <th>population</th>\n",
       "      <th>pop_density</th>\n",
       "      <th>unemploy_rates</th>\n",
       "    </tr>\n",
       "  </thead>\n",
       "  <tbody>\n",
       "    <tr>\n",
       "      <th>0</th>\n",
       "      <td>2021-03-13</td>\n",
       "      <td>ALB</td>\n",
       "      <td>EU</td>\n",
       "      <td>Albania</td>\n",
       "      <td>116821</td>\n",
       "      <td>2030</td>\n",
       "      <td>34970.0</td>\n",
       "      <td>5353.244856</td>\n",
       "      <td>29.0</td>\n",
       "      <td>2012</td>\n",
       "      <td>Albania</td>\n",
       "      <td>2854191.0</td>\n",
       "      <td>104.6122628</td>\n",
       "      <td>11.47000027</td>\n",
       "    </tr>\n",
       "    <tr>\n",
       "      <th>1</th>\n",
       "      <td>2021-02-15</td>\n",
       "      <td>DZA</td>\n",
       "      <td>AF</td>\n",
       "      <td>Algeria</td>\n",
       "      <td>110711</td>\n",
       "      <td>2939</td>\n",
       "      <td>107772.0</td>\n",
       "      <td>3973.964072</td>\n",
       "      <td>27.6</td>\n",
       "      <td>2011</td>\n",
       "      <td>Algeria</td>\n",
       "      <td>43053054.0</td>\n",
       "      <td>17.73006763</td>\n",
       "      <td>11.81000042</td>\n",
       "    </tr>\n",
       "    <tr>\n",
       "      <th>2</th>\n",
       "      <td>2021-02-15</td>\n",
       "      <td>AGO</td>\n",
       "      <td>AF</td>\n",
       "      <td>Angola</td>\n",
       "      <td>20366</td>\n",
       "      <td>492</td>\n",
       "      <td>19874.0</td>\n",
       "      <td>2790.726615</td>\n",
       "      <td>42.7</td>\n",
       "      <td>2008</td>\n",
       "      <td>Angola</td>\n",
       "      <td>31825295.0</td>\n",
       "      <td>24.71305206</td>\n",
       "      <td>6.929999828</td>\n",
       "    </tr>\n",
       "    <tr>\n",
       "      <th>3</th>\n",
       "      <td>2021-02-15</td>\n",
       "      <td>ARG</td>\n",
       "      <td>SA</td>\n",
       "      <td>Argentina</td>\n",
       "      <td>2029008</td>\n",
       "      <td>50327</td>\n",
       "      <td>1978681.0</td>\n",
       "      <td>9912.281809</td>\n",
       "      <td>41.2</td>\n",
       "      <td>2017</td>\n",
       "      <td>Argentina</td>\n",
       "      <td>44938712.0</td>\n",
       "      <td>16.2585101</td>\n",
       "      <td>9.840000153</td>\n",
       "    </tr>\n",
       "    <tr>\n",
       "      <th>4</th>\n",
       "      <td>2021-02-15</td>\n",
       "      <td>AUS</td>\n",
       "      <td>OC</td>\n",
       "      <td>Australia</td>\n",
       "      <td>28900</td>\n",
       "      <td>909</td>\n",
       "      <td>27991.0</td>\n",
       "      <td>55060.326100</td>\n",
       "      <td>35.8</td>\n",
       "      <td>2014</td>\n",
       "      <td>Australia</td>\n",
       "      <td>25364307.0</td>\n",
       "      <td>3.24787091</td>\n",
       "      <td>5.159999847</td>\n",
       "    </tr>\n",
       "  </tbody>\n",
       "</table>\n",
       "</div>"
      ],
      "text/plain": [
       "         date country_code continent country_name  cumulative_pos  \\\n",
       "0  2021-03-13          ALB        EU      Albania          116821   \n",
       "1  2021-02-15          DZA        AF      Algeria          110711   \n",
       "2  2021-02-15          AGO        AF       Angola           20366   \n",
       "3  2021-02-15          ARG        SA    Argentina         2029008   \n",
       "4  2021-02-15          AUS        OC    Australia           28900   \n",
       "\n",
       "   cumulative_dec   curr_pos   gdp_per_cap  gini_index  gini_year  \\\n",
       "0            2030    34970.0   5353.244856        29.0       2012   \n",
       "1            2939   107772.0   3973.964072        27.6       2011   \n",
       "2             492    19874.0   2790.726615        42.7       2008   \n",
       "3           50327  1978681.0   9912.281809        41.2       2017   \n",
       "4             909    27991.0  55060.326100        35.8       2014   \n",
       "\n",
       "  country_name  population  pop_density unemploy_rates  \n",
       "0      Albania   2854191.0  104.6122628    11.47000027  \n",
       "1      Algeria  43053054.0  17.73006763    11.81000042  \n",
       "2       Angola  31825295.0  24.71305206    6.929999828  \n",
       "3    Argentina  44938712.0   16.2585101    9.840000153  \n",
       "4    Australia  25364307.0   3.24787091    5.159999847  "
      ]
     },
     "execution_count": 6,
     "metadata": {},
     "output_type": "execute_result"
    }
   ],
   "source": [
    "covid_data.rename(columns = {'density':'pop_density', 'rates': 'unemploy_rates'}, inplace = True)\n",
    "\n",
    "covid_data.drop_duplicates(subset = 'country_name', keep = 'first', inplace = True)\n",
    "\n",
    "covid_data.head()"
   ]
  },
  {
   "cell_type": "code",
   "execution_count": null,
   "metadata": {},
   "outputs": [],
   "source": []
  },
  {
   "cell_type": "markdown",
   "metadata": {},
   "source": [
    "## Data Description"
   ]
  },
  {
   "cell_type": "markdown",
   "metadata": {},
   "source": [
    " There is not a lot of information on the relationship between wealth inequality (quantified by the Gini index) or GDP per capita, and high rates of positive COVID-19 cases and/or COVID-19 deaths across different countries. This is especially the case as COVID-19 is still ongoing to the present day. To address this, we have chosen to analyze three datasets. The first dataset contains data from the Joint Research Centre (JRC), which was made to further understand COVID-19, to predict any potential impacts, and to support future planning. Included columns are cumulative positive and cumulative recovered COVID-19 cases, as well as cumulative deceased and the number of hospitalized and intensive care patients. Rows in this dataset include the names of countries and their respective country codes. \n",
    "     The other two datasets are simpler, only having data of country names and codes, and either the respective Gini indexes or the GDP per capita. These were created to look at all of the Gini indexes and GDP per capita of countries. We will only be analyzing countries that have both of these values, and are also on the COVID-19 dataset. \n",
    "     Analysis on these datasets will help to find potential relationships between COVID-19 cases and the Gini indexes and GDP per capita of countries. Through this, we hope to determine how the wealth of a country changes how it has been affected by COVID-19.\n",
    "\n",
    "Here is a shared Google Drive folder with all four of our raw datasets:\n",
    "https://drive.google.com/drive/folders/1OAunMYE2SKDuoehcmpewYIPKlBWcg3fU?usp=sharing \n",
    "The data was sourced from the following sites:\n",
    "Covid data source: https://github.com/ec-jrc/COVID-19/blob/master/data-of-world/jrc-covid-19-world-latest.csv  \n",
    "This dataset contains COVID-19 data of each country in the world, with columns such as cumulative positive cases and hospitalizations.  \n",
    "\n",
    "Gini index data source: https://data.worldbank.org/indicator/SI.POV.GINI/?end=2018&start=2015 \n",
    "This dataset contains the Gini index for each country for which it is available.\n",
    "\n",
    "GDP per capita data source: https://data.worldbank.org/indicator/NY.GDP.PCAP.CD \n",
    "note: for this data set, we had to remove the final column (2020), which had no data in it to avoid errors.  This dataset contains the gross domestic product per capita of each country.\n",
    "\n",
    "Population data source: https://data.worldbank.org/indicator/SP.POP.TOTL "
   ]
  },
  {
   "cell_type": "markdown",
   "metadata": {},
   "source": [
    "## Data Limitations\n",
    "\n",
    "- Not all countries have reported a Gini index or GDP per capita value, so this is not representative of the whole world.  \n",
    "- Some countries’ Gini indexes are up-to-date, while some countries’ are not.\n",
    "- Some countries with low GDP per capita and/or low Gini indices may also have low life expectancies due to many social, political and environmental factors. A country’s high Covid death rate may thus also be influenced by its low life expectancy.\n",
    "- Some countries might have less accurate COVID data than others.\n",
    "- Because the original dataset is updated daily, the dataset we have saved will not have all current COVID data, and may not be accurate to the present day. \n"
   ]
  },
  {
   "cell_type": "markdown",
   "metadata": {},
   "source": [
    "------\n",
    "## Exploratory Data Analysis"
   ]
  },
  {
   "cell_type": "markdown",
   "metadata": {},
   "source": [
    "Scatterplot of cumulative positive cases vs population"
   ]
  },
  {
   "cell_type": "code",
   "execution_count": 7,
   "metadata": {},
   "outputs": [
    {
     "data": {
      "image/png": "[encoded data removed]",
      "text/plain": [
       "<Figure size 432x288 with 1 Axes>"
      ]
     },
     "metadata": {
      "needs_background": "light"
     },
     "output_type": "display_data"
    }
   ],
   "source": [
    "plt.axes(xscale = \"log\", yscale = \"log\")\n",
    "plt.scatter(x = covid_data[\"population\"],y = covid_data[\"cumulative_pos\"], alpha = 0.3)\n",
    "plt.xlabel(\"Population\")\n",
    "plt.ylabel(\"Cumulative Positive Cases\")\n",
    "plt.show()"
   ]
  },
  {
   "cell_type": "markdown",
   "metadata": {},
   "source": [
    "Above we can see that population and cumulative positive cases are positively correlated.  To account for this, we make 2 new columns, cumulative positive COVID cases by country normalized by the population of each country, and cumulative COVID deaths normalized by population."
   ]
  },
  {
   "cell_type": "code",
   "execution_count": 8,
   "metadata": {},
   "outputs": [],
   "source": [
    "cpos_norm = []\n",
    "for i in range(len(covid_data.cumulative_pos)):\n",
    "    cpos_norm.append(covid_data.cumulative_pos[i]/covid_data.population[i])\n",
    "covid_data['cpos_norm'] = cpos_norm\n",
    "\n",
    "cdec_norm = []\n",
    "for i in range(len(covid_data.cumulative_dec)):\n",
    "    cdec_norm.append(covid_data.cumulative_dec[i]/covid_data.population[i])\n",
    "covid_data['cdec_norm'] = cdec_norm"
   ]
  },
  {
   "cell_type": "markdown",
   "metadata": {},
   "source": [
    "Histogram of GDP per capita:"
   ]
  },
  {
   "cell_type": "code",
   "execution_count": 9,
   "metadata": {},
   "outputs": [
    {
     "data": {
      "image/png": "[encoded data removed]",
      "text/plain": [
       "<Figure size 432x288 with 1 Axes>"
      ]
     },
     "metadata": {
      "needs_background": "light"
     },
     "output_type": "display_data"
    }
   ],
   "source": [
    "plt.hist(covid_data[\"gdp_per_cap\"], bins = 30)\n",
    "plt.xlabel(\"GDP Per Capita (USD)\")\n",
    "plt.ylabel(\"Count\")\n",
    "plt.show()"
   ]
  },
  {
   "cell_type": "markdown",
   "metadata": {},
   "source": [
    "This data is very right skewed. "
   ]
  },
  {
   "cell_type": "markdown",
   "metadata": {},
   "source": [
    "Histogram of Gini index:"
   ]
  },
  {
   "cell_type": "code",
   "execution_count": 10,
   "metadata": {},
   "outputs": [
    {
     "data": {
      "image/png": "[encoded data removed]",
      "text/plain": [
       "<Figure size 432x288 with 1 Axes>"
      ]
     },
     "metadata": {
      "needs_background": "light"
     },
     "output_type": "display_data"
    }
   ],
   "source": [
    "plt.hist(covid_data[\"gini_index\"], bins = 30)\n",
    "plt.xlabel(\"Gini Index (%)\")\n",
    "plt.ylabel(\"Count\")\n",
    "plt.show()"
   ]
  },
  {
   "cell_type": "markdown",
   "metadata": {},
   "source": [
    "This data is close to normally distributed, with a slight right skew. "
   ]
  },
  {
   "cell_type": "markdown",
   "metadata": {},
   "source": [
    "Histogram of cumulative positive cases per capita"
   ]
  },
  {
   "cell_type": "code",
   "execution_count": 11,
   "metadata": {},
   "outputs": [
    {
     "data": {
      "image/png": "[encoded data removed]",
      "text/plain": [
       "<Figure size 432x288 with 1 Axes>"
      ]
     },
     "metadata": {
      "needs_background": "light"
     },
     "output_type": "display_data"
    }
   ],
   "source": [
    "plt.hist(covid_data[\"cpos_norm\"], bins = 30)\n",
    "plt.xlabel(\"Cumulative positive cases per capita\")\n",
    "plt.ylabel(\"Count\")\n",
    "plt.show()"
   ]
  },
  {
   "cell_type": "markdown",
   "metadata": {},
   "source": [
    "Histogram of cumulative deaths per capita"
   ]
  },
  {
   "cell_type": "code",
   "execution_count": 12,
   "metadata": {},
   "outputs": [
    {
     "data": {
      "image/png": "[encoded data removed]",
      "text/plain": [
       "<Figure size 432x288 with 1 Axes>"
      ]
     },
     "metadata": {
      "needs_background": "light"
     },
     "output_type": "display_data"
    }
   ],
   "source": [
    "plt.hist(covid_data[\"cdec_norm\"], bins = 30)\n",
    "plt.xlabel(\"Cumulative deaths per capita\")\n",
    "plt.ylabel(\"Count\")\n",
    "plt.show()"
   ]
  },
  {
   "cell_type": "markdown",
   "metadata": {},
   "source": [
    "Both cumulative positive cases and deaths per capita are very right skewed, especially deaths.  "
   ]
  },
  {
   "cell_type": "markdown",
   "metadata": {},
   "source": [
    "#### Scatterplot of normalized cumulative positive cases vs GDP per capita"
   ]
  },
  {
   "cell_type": "code",
   "execution_count": 13,
   "metadata": {},
   "outputs": [
    {
     "data": {
      "image/png": "[encoded data removed]",
      "text/plain": [
       "<Figure size 432x288 with 1 Axes>"
      ]
     },
     "metadata": {
      "needs_background": "light"
     },
     "output_type": "display_data"
    }
   ],
   "source": [
    "plt.scatter(x = covid_data[\"gdp_per_cap\"],y = covid_data[\"cpos_norm\"], alpha = 0.3)\n",
    "plt.xlabel(\"GDP Per Capita\")\n",
    "plt.ylabel(\"Cumulative Positive Cases Per Capita\")\n",
    "plt.show()"
   ]
  },
  {
   "cell_type": "markdown",
   "metadata": {},
   "source": [
    "To see a clearer trend we might have to plot this on a log graph or consider removing outliers."
   ]
  },
  {
   "cell_type": "markdown",
   "metadata": {},
   "source": [
    "#### Scatterplot of normalized cumulative deaths vs GDP per capita:"
   ]
  },
  {
   "cell_type": "code",
   "execution_count": 14,
   "metadata": {},
   "outputs": [
    {
     "data": {
      "image/png": "[encoded data removed]",
      "text/plain": [
       "<Figure size 432x288 with 1 Axes>"
      ]
     },
     "metadata": {
      "needs_background": "light"
     },
     "output_type": "display_data"
    }
   ],
   "source": [
    "plt.scatter(x = covid_data[\"gdp_per_cap\"],y = covid_data[\"cdec_norm\"], alpha = 0.3)\n",
    "plt.xlabel(\"GDP Per Capita\")\n",
    "plt.ylabel(\"Cumulative COVID Deaths Per Capita\")\n",
    "plt.show()"
   ]
  },
  {
   "cell_type": "markdown",
   "metadata": {},
   "source": [
    "There is a similar issue with this graph.  Part of the issue is that GDP isn't normally distributed."
   ]
  },
  {
   "cell_type": "markdown",
   "metadata": {},
   "source": [
    "#### Scatterplot of normalized cumulative positive cases vs gini index:"
   ]
  },
  {
   "cell_type": "code",
   "execution_count": 15,
   "metadata": {},
   "outputs": [
    {
     "data": {
      "image/png": "[encoded data removed]",
      "text/plain": [
       "<Figure size 432x288 with 1 Axes>"
      ]
     },
     "metadata": {
      "needs_background": "light"
     },
     "output_type": "display_data"
    }
   ],
   "source": [
    "plt.scatter(x = covid_data[\"gini_index\"],y = covid_data[\"cpos_norm\"], alpha = 0.3)\n",
    "plt.xlabel(\"Gini Index\")\n",
    "plt.ylabel(\"Cumulative COVID Positive Cases Per Capita\")\n",
    "plt.show()"
   ]
  },
  {
   "cell_type": "markdown",
   "metadata": {},
   "source": [
    "Because this data is not normally distributed, it is difficult to discern trends from the scatterplot.  We may have to try other methods to find trends in gini data. "
   ]
  },
  {
   "cell_type": "markdown",
   "metadata": {},
   "source": [
    "#### Scatterplot of normalized cumulative deaths cases vs gini index:"
   ]
  },
  {
   "cell_type": "code",
   "execution_count": 16,
   "metadata": {},
   "outputs": [
    {
     "data": {
      "image/png": "[encoded data removed]",
      "text/plain": [
       "<Figure size 432x288 with 1 Axes>"
      ]
     },
     "metadata": {
      "needs_background": "light"
     },
     "output_type": "display_data"
    }
   ],
   "source": [
    "plt.scatter(x = covid_data[\"gini_index\"],y = covid_data[\"cdec_norm\"], alpha = 0.3)\n",
    "plt.xlabel(\"Gini Index\")\n",
    "plt.ylabel(\"Cumulative COVID Deaths Per Capita\")\n",
    "plt.show()"
   ]
  },
  {
   "cell_type": "markdown",
   "metadata": {},
   "source": [
    "## Questions for reviewers\n",
    "\n",
    "- Should we be concerned about other possible external factors that may also influence a country’s positive COVID rate and death rate? For example, the density and the distribution of the population? Or the effect of government COVID policies?\n",
    "- We are interested in two potential factors (GDP per capita and Gini Index) that may affect a country’s COVID data. What kind of test should we use to determine whether each or both factor(s) may have a correlation with positive and death rates? Maybe a Factorial (Two-Factor) Anova Test? Should we also test both the main effects and the interaction effects?\n",
    "- What type(s) of graph do you recommend us to use for our particular research questions?\n",
    "- Does the scope of our project seem too small or too large?\n"
   ]
  },
  {
   "cell_type": "markdown",
   "metadata": {},
   "source": [
    "## ANOVA"
   ]
  },
  {
   "cell_type": "markdown",
   "metadata": {},
   "source": [
    "### We will perform a two-way ANOVA (“analysis of variance”) to determine how the GDP per capita and gini index of a country affect cumulative COVID cases per capita, and if there are any interaction effects between GDP per capita and gini index.\n"
   ]
  },
  {
   "cell_type": "markdown",
   "metadata": {},
   "source": [
    "Below we group countries into thirds based on GDP per capita, make the three groups into new columns and append them to the dataframe, and create indicator variables to indicate whether a country has a low, medium, or high GDP. Please swipe all the way to the right to see the three new columns (third-to-last column: low GDP; second-to-last: medium GDP; last: high GDP).  \n"
   ]
  },
  {
   "cell_type": "code",
   "execution_count": 17,
   "metadata": {},
   "outputs": [
    {
     "data": {
      "text/html": [
       "<div>\n",
       "<style scoped>\n",
       "    .dataframe tbody tr th:only-of-type {\n",
       "        vertical-align: middle;\n",
       "    }\n",
       "\n",
       "    .dataframe tbody tr th {\n",
       "        vertical-align: top;\n",
       "    }\n",
       "\n",
       "    .dataframe thead th {\n",
       "        text-align: right;\n",
       "    }\n",
       "</style>\n",
       "<table border=\"1\" class=\"dataframe\">\n",
       "  <thead>\n",
       "    <tr style=\"text-align: right;\">\n",
       "      <th></th>\n",
       "      <th>date</th>\n",
       "      <th>country_code</th>\n",
       "      <th>continent</th>\n",
       "      <th>country_name</th>\n",
       "      <th>cumulative_pos</th>\n",
       "      <th>cumulative_dec</th>\n",
       "      <th>curr_pos</th>\n",
       "      <th>gdp_per_cap</th>\n",
       "      <th>gini_index</th>\n",
       "      <th>gini_year</th>\n",
       "      <th>country_name</th>\n",
       "      <th>population</th>\n",
       "      <th>pop_density</th>\n",
       "      <th>unemploy_rates</th>\n",
       "      <th>cpos_norm</th>\n",
       "      <th>cdec_norm</th>\n",
       "      <th>gdp_thirds</th>\n",
       "      <th>(261.24600000000004, 3316.176]</th>\n",
       "      <th>(3316.176, 10261.679]</th>\n",
       "      <th>(10261.679, 114704.594]</th>\n",
       "    </tr>\n",
       "  </thead>\n",
       "  <tbody>\n",
       "    <tr>\n",
       "      <th>0</th>\n",
       "      <td>2021-03-13</td>\n",
       "      <td>ALB</td>\n",
       "      <td>EU</td>\n",
       "      <td>Albania</td>\n",
       "      <td>116821</td>\n",
       "      <td>2030</td>\n",
       "      <td>34970.0</td>\n",
       "      <td>5353.244856</td>\n",
       "      <td>29.0</td>\n",
       "      <td>2012</td>\n",
       "      <td>Albania</td>\n",
       "      <td>2854191.0</td>\n",
       "      <td>104.6122628</td>\n",
       "      <td>11.47000027</td>\n",
       "      <td>0.040930</td>\n",
       "      <td>0.000711</td>\n",
       "      <td>(3316.176, 10261.679]</td>\n",
       "      <td>0</td>\n",
       "      <td>1</td>\n",
       "      <td>0</td>\n",
       "    </tr>\n",
       "    <tr>\n",
       "      <th>1</th>\n",
       "      <td>2021-02-15</td>\n",
       "      <td>DZA</td>\n",
       "      <td>AF</td>\n",
       "      <td>Algeria</td>\n",
       "      <td>110711</td>\n",
       "      <td>2939</td>\n",
       "      <td>107772.0</td>\n",
       "      <td>3973.964072</td>\n",
       "      <td>27.6</td>\n",
       "      <td>2011</td>\n",
       "      <td>Algeria</td>\n",
       "      <td>43053054.0</td>\n",
       "      <td>17.73006763</td>\n",
       "      <td>11.81000042</td>\n",
       "      <td>0.002572</td>\n",
       "      <td>0.000068</td>\n",
       "      <td>(3316.176, 10261.679]</td>\n",
       "      <td>0</td>\n",
       "      <td>1</td>\n",
       "      <td>0</td>\n",
       "    </tr>\n",
       "    <tr>\n",
       "      <th>2</th>\n",
       "      <td>2021-02-15</td>\n",
       "      <td>AGO</td>\n",
       "      <td>AF</td>\n",
       "      <td>Angola</td>\n",
       "      <td>20366</td>\n",
       "      <td>492</td>\n",
       "      <td>19874.0</td>\n",
       "      <td>2790.726615</td>\n",
       "      <td>42.7</td>\n",
       "      <td>2008</td>\n",
       "      <td>Angola</td>\n",
       "      <td>31825295.0</td>\n",
       "      <td>24.71305206</td>\n",
       "      <td>6.929999828</td>\n",
       "      <td>0.000640</td>\n",
       "      <td>0.000015</td>\n",
       "      <td>(261.24600000000004, 3316.176]</td>\n",
       "      <td>1</td>\n",
       "      <td>0</td>\n",
       "      <td>0</td>\n",
       "    </tr>\n",
       "    <tr>\n",
       "      <th>3</th>\n",
       "      <td>2021-02-15</td>\n",
       "      <td>ARG</td>\n",
       "      <td>SA</td>\n",
       "      <td>Argentina</td>\n",
       "      <td>2029008</td>\n",
       "      <td>50327</td>\n",
       "      <td>1978681.0</td>\n",
       "      <td>9912.281809</td>\n",
       "      <td>41.2</td>\n",
       "      <td>2017</td>\n",
       "      <td>Argentina</td>\n",
       "      <td>44938712.0</td>\n",
       "      <td>16.2585101</td>\n",
       "      <td>9.840000153</td>\n",
       "      <td>0.045151</td>\n",
       "      <td>0.001120</td>\n",
       "      <td>(3316.176, 10261.679]</td>\n",
       "      <td>0</td>\n",
       "      <td>1</td>\n",
       "      <td>0</td>\n",
       "    </tr>\n",
       "    <tr>\n",
       "      <th>4</th>\n",
       "      <td>2021-02-15</td>\n",
       "      <td>AUS</td>\n",
       "      <td>OC</td>\n",
       "      <td>Australia</td>\n",
       "      <td>28900</td>\n",
       "      <td>909</td>\n",
       "      <td>27991.0</td>\n",
       "      <td>55060.326100</td>\n",
       "      <td>35.8</td>\n",
       "      <td>2014</td>\n",
       "      <td>Australia</td>\n",
       "      <td>25364307.0</td>\n",
       "      <td>3.24787091</td>\n",
       "      <td>5.159999847</td>\n",
       "      <td>0.001139</td>\n",
       "      <td>0.000036</td>\n",
       "      <td>(10261.679, 114704.594]</td>\n",
       "      <td>0</td>\n",
       "      <td>0</td>\n",
       "      <td>1</td>\n",
       "    </tr>\n",
       "  </tbody>\n",
       "</table>\n",
       "</div>"
      ],
      "text/plain": [
       "         date country_code continent country_name  cumulative_pos  \\\n",
       "0  2021-03-13          ALB        EU      Albania          116821   \n",
       "1  2021-02-15          DZA        AF      Algeria          110711   \n",
       "2  2021-02-15          AGO        AF       Angola           20366   \n",
       "3  2021-02-15          ARG        SA    Argentina         2029008   \n",
       "4  2021-02-15          AUS        OC    Australia           28900   \n",
       "\n",
       "   cumulative_dec   curr_pos   gdp_per_cap  gini_index  gini_year  \\\n",
       "0            2030    34970.0   5353.244856        29.0       2012   \n",
       "1            2939   107772.0   3973.964072        27.6       2011   \n",
       "2             492    19874.0   2790.726615        42.7       2008   \n",
       "3           50327  1978681.0   9912.281809        41.2       2017   \n",
       "4             909    27991.0  55060.326100        35.8       2014   \n",
       "\n",
       "  country_name  population  pop_density unemploy_rates  cpos_norm  cdec_norm  \\\n",
       "0      Albania   2854191.0  104.6122628    11.47000027   0.040930   0.000711   \n",
       "1      Algeria  43053054.0  17.73006763    11.81000042   0.002572   0.000068   \n",
       "2       Angola  31825295.0  24.71305206    6.929999828   0.000640   0.000015   \n",
       "3    Argentina  44938712.0   16.2585101    9.840000153   0.045151   0.001120   \n",
       "4    Australia  25364307.0   3.24787091    5.159999847   0.001139   0.000036   \n",
       "\n",
       "                       gdp_thirds  (261.24600000000004, 3316.176]  \\\n",
       "0           (3316.176, 10261.679]                               0   \n",
       "1           (3316.176, 10261.679]                               0   \n",
       "2  (261.24600000000004, 3316.176]                               1   \n",
       "3           (3316.176, 10261.679]                               0   \n",
       "4         (10261.679, 114704.594]                               0   \n",
       "\n",
       "   (3316.176, 10261.679]  (10261.679, 114704.594]  \n",
       "0                      1                        0  \n",
       "1                      1                        0  \n",
       "2                      0                        0  \n",
       "3                      1                        0  \n",
       "4                      0                        1  "
      ]
     },
     "execution_count": 17,
     "metadata": {},
     "output_type": "execute_result"
    }
   ],
   "source": [
    "x=pd.qcut(covid_data['gdp_per_cap'], q=3)\n",
    "covid_data[['gdp_thirds']]=x\n",
    "categories=pd.get_dummies(covid_data['gdp_thirds'])\n",
    "covid_data=pd.concat([covid_data, categories], axis=1)\n",
    "covid_data.head()"
   ]
  },
  {
   "cell_type": "markdown",
   "metadata": {},
   "source": [
    "Renaming columns to make them easier to work with:"
   ]
  },
  {
   "cell_type": "code",
   "execution_count": 26,
   "metadata": {},
   "outputs": [
    {
     "data": {
      "text/html": [
       "<div>\n",
       "<style scoped>\n",
       "    .dataframe tbody tr th:only-of-type {\n",
       "        vertical-align: middle;\n",
       "    }\n",
       "\n",
       "    .dataframe tbody tr th {\n",
       "        vertical-align: top;\n",
       "    }\n",
       "\n",
       "    .dataframe thead th {\n",
       "        text-align: right;\n",
       "    }\n",
       "</style>\n",
       "<table border=\"1\" class=\"dataframe\">\n",
       "  <thead>\n",
       "    <tr style=\"text-align: right;\">\n",
       "      <th></th>\n",
       "      <th>date</th>\n",
       "      <th>country_code</th>\n",
       "      <th>continent</th>\n",
       "      <th>country_name</th>\n",
       "      <th>cumulative_pos</th>\n",
       "      <th>cumulative_dec</th>\n",
       "      <th>curr_pos</th>\n",
       "      <th>gdp_per_cap</th>\n",
       "      <th>gini_index</th>\n",
       "      <th>gini_year</th>\n",
       "      <th>country_name</th>\n",
       "      <th>population</th>\n",
       "      <th>pop_density</th>\n",
       "      <th>unemploy_rates</th>\n",
       "      <th>cpos_norm</th>\n",
       "      <th>cdec_norm</th>\n",
       "      <th>gdp_thirds</th>\n",
       "      <th>low_gdp_pc</th>\n",
       "      <th>med_gdp_pc</th>\n",
       "      <th>high_gdp_pc</th>\n",
       "    </tr>\n",
       "  </thead>\n",
       "  <tbody>\n",
       "    <tr>\n",
       "      <th>0</th>\n",
       "      <td>2021-03-13</td>\n",
       "      <td>ALB</td>\n",
       "      <td>EU</td>\n",
       "      <td>Albania</td>\n",
       "      <td>116821</td>\n",
       "      <td>2030</td>\n",
       "      <td>34970.0</td>\n",
       "      <td>5353.244856</td>\n",
       "      <td>29.0</td>\n",
       "      <td>2012</td>\n",
       "      <td>Albania</td>\n",
       "      <td>2854191.0</td>\n",
       "      <td>104.6122628</td>\n",
       "      <td>11.47000027</td>\n",
       "      <td>0.040930</td>\n",
       "      <td>0.000711</td>\n",
       "      <td>(3316.176, 10261.679]</td>\n",
       "      <td>0</td>\n",
       "      <td>1</td>\n",
       "      <td>0</td>\n",
       "    </tr>\n",
       "    <tr>\n",
       "      <th>1</th>\n",
       "      <td>2021-02-15</td>\n",
       "      <td>DZA</td>\n",
       "      <td>AF</td>\n",
       "      <td>Algeria</td>\n",
       "      <td>110711</td>\n",
       "      <td>2939</td>\n",
       "      <td>107772.0</td>\n",
       "      <td>3973.964072</td>\n",
       "      <td>27.6</td>\n",
       "      <td>2011</td>\n",
       "      <td>Algeria</td>\n",
       "      <td>43053054.0</td>\n",
       "      <td>17.73006763</td>\n",
       "      <td>11.81000042</td>\n",
       "      <td>0.002572</td>\n",
       "      <td>0.000068</td>\n",
       "      <td>(3316.176, 10261.679]</td>\n",
       "      <td>0</td>\n",
       "      <td>1</td>\n",
       "      <td>0</td>\n",
       "    </tr>\n",
       "    <tr>\n",
       "      <th>2</th>\n",
       "      <td>2021-02-15</td>\n",
       "      <td>AGO</td>\n",
       "      <td>AF</td>\n",
       "      <td>Angola</td>\n",
       "      <td>20366</td>\n",
       "      <td>492</td>\n",
       "      <td>19874.0</td>\n",
       "      <td>2790.726615</td>\n",
       "      <td>42.7</td>\n",
       "      <td>2008</td>\n",
       "      <td>Angola</td>\n",
       "      <td>31825295.0</td>\n",
       "      <td>24.71305206</td>\n",
       "      <td>6.929999828</td>\n",
       "      <td>0.000640</td>\n",
       "      <td>0.000015</td>\n",
       "      <td>(261.24600000000004, 3316.176]</td>\n",
       "      <td>1</td>\n",
       "      <td>0</td>\n",
       "      <td>0</td>\n",
       "    </tr>\n",
       "    <tr>\n",
       "      <th>3</th>\n",
       "      <td>2021-02-15</td>\n",
       "      <td>ARG</td>\n",
       "      <td>SA</td>\n",
       "      <td>Argentina</td>\n",
       "      <td>2029008</td>\n",
       "      <td>50327</td>\n",
       "      <td>1978681.0</td>\n",
       "      <td>9912.281809</td>\n",
       "      <td>41.2</td>\n",
       "      <td>2017</td>\n",
       "      <td>Argentina</td>\n",
       "      <td>44938712.0</td>\n",
       "      <td>16.2585101</td>\n",
       "      <td>9.840000153</td>\n",
       "      <td>0.045151</td>\n",
       "      <td>0.001120</td>\n",
       "      <td>(3316.176, 10261.679]</td>\n",
       "      <td>0</td>\n",
       "      <td>1</td>\n",
       "      <td>0</td>\n",
       "    </tr>\n",
       "    <tr>\n",
       "      <th>4</th>\n",
       "      <td>2021-02-15</td>\n",
       "      <td>AUS</td>\n",
       "      <td>OC</td>\n",
       "      <td>Australia</td>\n",
       "      <td>28900</td>\n",
       "      <td>909</td>\n",
       "      <td>27991.0</td>\n",
       "      <td>55060.326100</td>\n",
       "      <td>35.8</td>\n",
       "      <td>2014</td>\n",
       "      <td>Australia</td>\n",
       "      <td>25364307.0</td>\n",
       "      <td>3.24787091</td>\n",
       "      <td>5.159999847</td>\n",
       "      <td>0.001139</td>\n",
       "      <td>0.000036</td>\n",
       "      <td>(10261.679, 114704.594]</td>\n",
       "      <td>0</td>\n",
       "      <td>0</td>\n",
       "      <td>1</td>\n",
       "    </tr>\n",
       "  </tbody>\n",
       "</table>\n",
       "</div>"
      ],
      "text/plain": [
       "         date country_code continent country_name  cumulative_pos  \\\n",
       "0  2021-03-13          ALB        EU      Albania          116821   \n",
       "1  2021-02-15          DZA        AF      Algeria          110711   \n",
       "2  2021-02-15          AGO        AF       Angola           20366   \n",
       "3  2021-02-15          ARG        SA    Argentina         2029008   \n",
       "4  2021-02-15          AUS        OC    Australia           28900   \n",
       "\n",
       "   cumulative_dec   curr_pos   gdp_per_cap  gini_index  gini_year  \\\n",
       "0            2030    34970.0   5353.244856        29.0       2012   \n",
       "1            2939   107772.0   3973.964072        27.6       2011   \n",
       "2             492    19874.0   2790.726615        42.7       2008   \n",
       "3           50327  1978681.0   9912.281809        41.2       2017   \n",
       "4             909    27991.0  55060.326100        35.8       2014   \n",
       "\n",
       "  country_name  population  pop_density unemploy_rates  cpos_norm  cdec_norm  \\\n",
       "0      Albania   2854191.0  104.6122628    11.47000027   0.040930   0.000711   \n",
       "1      Algeria  43053054.0  17.73006763    11.81000042   0.002572   0.000068   \n",
       "2       Angola  31825295.0  24.71305206    6.929999828   0.000640   0.000015   \n",
       "3    Argentina  44938712.0   16.2585101    9.840000153   0.045151   0.001120   \n",
       "4    Australia  25364307.0   3.24787091    5.159999847   0.001139   0.000036   \n",
       "\n",
       "                       gdp_thirds  low_gdp_pc  med_gdp_pc  high_gdp_pc  \n",
       "0           (3316.176, 10261.679]           0           1            0  \n",
       "1           (3316.176, 10261.679]           0           1            0  \n",
       "2  (261.24600000000004, 3316.176]           1           0            0  \n",
       "3           (3316.176, 10261.679]           0           1            0  \n",
       "4         (10261.679, 114704.594]           0           0            1  "
      ]
     },
     "execution_count": 26,
     "metadata": {},
     "output_type": "execute_result"
    }
   ],
   "source": [
    "covid_data.rename(columns = {pd.Interval(261.24600000000004, 3316.176, closed='right'):\"low_gdp_pc\", pd.Interval(3316.176, 10261.679, closed='right'):\"med_gdp_pc\", pd.Interval(10261.679, 114704.594, closed='right'):\"high_gdp_pc\" }, inplace = True)\n",
    "\n",
    "covid_data.head()"
   ]
  },
  {
   "cell_type": "markdown",
   "metadata": {},
   "source": [
    "Below we do the same things, but we group by *gini index* instead."
   ]
  },
  {
   "cell_type": "code",
   "execution_count": 28,
   "metadata": {},
   "outputs": [
    {
     "data": {
      "text/html": [
       "<div>\n",
       "<style scoped>\n",
       "    .dataframe tbody tr th:only-of-type {\n",
       "        vertical-align: middle;\n",
       "    }\n",
       "\n",
       "    .dataframe tbody tr th {\n",
       "        vertical-align: top;\n",
       "    }\n",
       "\n",
       "    .dataframe thead th {\n",
       "        text-align: right;\n",
       "    }\n",
       "</style>\n",
       "<table border=\"1\" class=\"dataframe\">\n",
       "  <thead>\n",
       "    <tr style=\"text-align: right;\">\n",
       "      <th></th>\n",
       "      <th>date</th>\n",
       "      <th>country_code</th>\n",
       "      <th>continent</th>\n",
       "      <th>country_name</th>\n",
       "      <th>cumulative_pos</th>\n",
       "      <th>cumulative_dec</th>\n",
       "      <th>curr_pos</th>\n",
       "      <th>gdp_per_cap</th>\n",
       "      <th>gini_index</th>\n",
       "      <th>gini_year</th>\n",
       "      <th>...</th>\n",
       "      <th>cpos_norm</th>\n",
       "      <th>cdec_norm</th>\n",
       "      <th>gdp_thirds</th>\n",
       "      <th>low_gdp_pc</th>\n",
       "      <th>med_gdp_pc</th>\n",
       "      <th>high_gdp_pc</th>\n",
       "      <th>gini_thirds</th>\n",
       "      <th>(24.999, 34.0]</th>\n",
       "      <th>(34.0, 41.5]</th>\n",
       "      <th>(41.5, 63.0]</th>\n",
       "    </tr>\n",
       "  </thead>\n",
       "  <tbody>\n",
       "    <tr>\n",
       "      <th>0</th>\n",
       "      <td>2021-03-13</td>\n",
       "      <td>ALB</td>\n",
       "      <td>EU</td>\n",
       "      <td>Albania</td>\n",
       "      <td>116821</td>\n",
       "      <td>2030</td>\n",
       "      <td>34970.0</td>\n",
       "      <td>5353.244856</td>\n",
       "      <td>29.0</td>\n",
       "      <td>2012</td>\n",
       "      <td>...</td>\n",
       "      <td>0.040930</td>\n",
       "      <td>0.000711</td>\n",
       "      <td>(3316.176, 10261.679]</td>\n",
       "      <td>0</td>\n",
       "      <td>1</td>\n",
       "      <td>0</td>\n",
       "      <td>(24.999, 34.0]</td>\n",
       "      <td>1</td>\n",
       "      <td>0</td>\n",
       "      <td>0</td>\n",
       "    </tr>\n",
       "    <tr>\n",
       "      <th>1</th>\n",
       "      <td>2021-02-15</td>\n",
       "      <td>DZA</td>\n",
       "      <td>AF</td>\n",
       "      <td>Algeria</td>\n",
       "      <td>110711</td>\n",
       "      <td>2939</td>\n",
       "      <td>107772.0</td>\n",
       "      <td>3973.964072</td>\n",
       "      <td>27.6</td>\n",
       "      <td>2011</td>\n",
       "      <td>...</td>\n",
       "      <td>0.002572</td>\n",
       "      <td>0.000068</td>\n",
       "      <td>(3316.176, 10261.679]</td>\n",
       "      <td>0</td>\n",
       "      <td>1</td>\n",
       "      <td>0</td>\n",
       "      <td>(24.999, 34.0]</td>\n",
       "      <td>1</td>\n",
       "      <td>0</td>\n",
       "      <td>0</td>\n",
       "    </tr>\n",
       "    <tr>\n",
       "      <th>2</th>\n",
       "      <td>2021-02-15</td>\n",
       "      <td>AGO</td>\n",
       "      <td>AF</td>\n",
       "      <td>Angola</td>\n",
       "      <td>20366</td>\n",
       "      <td>492</td>\n",
       "      <td>19874.0</td>\n",
       "      <td>2790.726615</td>\n",
       "      <td>42.7</td>\n",
       "      <td>2008</td>\n",
       "      <td>...</td>\n",
       "      <td>0.000640</td>\n",
       "      <td>0.000015</td>\n",
       "      <td>(261.24600000000004, 3316.176]</td>\n",
       "      <td>1</td>\n",
       "      <td>0</td>\n",
       "      <td>0</td>\n",
       "      <td>(41.5, 63.0]</td>\n",
       "      <td>0</td>\n",
       "      <td>0</td>\n",
       "      <td>1</td>\n",
       "    </tr>\n",
       "    <tr>\n",
       "      <th>3</th>\n",
       "      <td>2021-02-15</td>\n",
       "      <td>ARG</td>\n",
       "      <td>SA</td>\n",
       "      <td>Argentina</td>\n",
       "      <td>2029008</td>\n",
       "      <td>50327</td>\n",
       "      <td>1978681.0</td>\n",
       "      <td>9912.281809</td>\n",
       "      <td>41.2</td>\n",
       "      <td>2017</td>\n",
       "      <td>...</td>\n",
       "      <td>0.045151</td>\n",
       "      <td>0.001120</td>\n",
       "      <td>(3316.176, 10261.679]</td>\n",
       "      <td>0</td>\n",
       "      <td>1</td>\n",
       "      <td>0</td>\n",
       "      <td>(34.0, 41.5]</td>\n",
       "      <td>0</td>\n",
       "      <td>1</td>\n",
       "      <td>0</td>\n",
       "    </tr>\n",
       "    <tr>\n",
       "      <th>4</th>\n",
       "      <td>2021-02-15</td>\n",
       "      <td>AUS</td>\n",
       "      <td>OC</td>\n",
       "      <td>Australia</td>\n",
       "      <td>28900</td>\n",
       "      <td>909</td>\n",
       "      <td>27991.0</td>\n",
       "      <td>55060.326100</td>\n",
       "      <td>35.8</td>\n",
       "      <td>2014</td>\n",
       "      <td>...</td>\n",
       "      <td>0.001139</td>\n",
       "      <td>0.000036</td>\n",
       "      <td>(10261.679, 114704.594]</td>\n",
       "      <td>0</td>\n",
       "      <td>0</td>\n",
       "      <td>1</td>\n",
       "      <td>(34.0, 41.5]</td>\n",
       "      <td>0</td>\n",
       "      <td>1</td>\n",
       "      <td>0</td>\n",
       "    </tr>\n",
       "  </tbody>\n",
       "</table>\n",
       "<p>5 rows × 24 columns</p>\n",
       "</div>"
      ],
      "text/plain": [
       "         date country_code continent country_name  cumulative_pos  \\\n",
       "0  2021-03-13          ALB        EU      Albania          116821   \n",
       "1  2021-02-15          DZA        AF      Algeria          110711   \n",
       "2  2021-02-15          AGO        AF       Angola           20366   \n",
       "3  2021-02-15          ARG        SA    Argentina         2029008   \n",
       "4  2021-02-15          AUS        OC    Australia           28900   \n",
       "\n",
       "   cumulative_dec   curr_pos   gdp_per_cap  gini_index  gini_year  ...  \\\n",
       "0            2030    34970.0   5353.244856        29.0       2012  ...   \n",
       "1            2939   107772.0   3973.964072        27.6       2011  ...   \n",
       "2             492    19874.0   2790.726615        42.7       2008  ...   \n",
       "3           50327  1978681.0   9912.281809        41.2       2017  ...   \n",
       "4             909    27991.0  55060.326100        35.8       2014  ...   \n",
       "\n",
       "  cpos_norm  cdec_norm                      gdp_thirds low_gdp_pc  med_gdp_pc  \\\n",
       "0  0.040930   0.000711           (3316.176, 10261.679]          0           1   \n",
       "1  0.002572   0.000068           (3316.176, 10261.679]          0           1   \n",
       "2  0.000640   0.000015  (261.24600000000004, 3316.176]          1           0   \n",
       "3  0.045151   0.001120           (3316.176, 10261.679]          0           1   \n",
       "4  0.001139   0.000036         (10261.679, 114704.594]          0           0   \n",
       "\n",
       "   high_gdp_pc     gini_thirds  (24.999, 34.0]  (34.0, 41.5]  (41.5, 63.0]  \n",
       "0            0  (24.999, 34.0]               1             0             0  \n",
       "1            0  (24.999, 34.0]               1             0             0  \n",
       "2            0    (41.5, 63.0]               0             0             1  \n",
       "3            0    (34.0, 41.5]               0             1             0  \n",
       "4            1    (34.0, 41.5]               0             1             0  \n",
       "\n",
       "[5 rows x 24 columns]"
      ]
     },
     "execution_count": 28,
     "metadata": {},
     "output_type": "execute_result"
    }
   ],
   "source": [
    "y=pd.qcut(covid_data['gini_index'], q=3)\n",
    "covid_data[['gini_thirds']]=y\n",
    "gini_categories=pd.get_dummies(covid_data['gini_thirds'])\n",
    "covid_data=pd.concat([covid_data, gini_categories], axis=1)\n",
    "covid_data.head()"
   ]
  },
  {
   "cell_type": "markdown",
   "metadata": {},
   "source": [
    "Again, for the new low, med and high gini index columns, we rename columns to make them easier to work with:"
   ]
  },
  {
   "cell_type": "code",
   "execution_count": 29,
   "metadata": {},
   "outputs": [
    {
     "data": {
      "text/html": [
       "<div>\n",
       "<style scoped>\n",
       "    .dataframe tbody tr th:only-of-type {\n",
       "        vertical-align: middle;\n",
       "    }\n",
       "\n",
       "    .dataframe tbody tr th {\n",
       "        vertical-align: top;\n",
       "    }\n",
       "\n",
       "    .dataframe thead th {\n",
       "        text-align: right;\n",
       "    }\n",
       "</style>\n",
       "<table border=\"1\" class=\"dataframe\">\n",
       "  <thead>\n",
       "    <tr style=\"text-align: right;\">\n",
       "      <th></th>\n",
       "      <th>date</th>\n",
       "      <th>country_code</th>\n",
       "      <th>continent</th>\n",
       "      <th>country_name</th>\n",
       "      <th>cumulative_pos</th>\n",
       "      <th>cumulative_dec</th>\n",
       "      <th>curr_pos</th>\n",
       "      <th>gdp_per_cap</th>\n",
       "      <th>gini_index</th>\n",
       "      <th>gini_year</th>\n",
       "      <th>...</th>\n",
       "      <th>cpos_norm</th>\n",
       "      <th>cdec_norm</th>\n",
       "      <th>gdp_thirds</th>\n",
       "      <th>low_gdp_pc</th>\n",
       "      <th>med_gdp_pc</th>\n",
       "      <th>high_gdp_pc</th>\n",
       "      <th>gini_thirds</th>\n",
       "      <th>low_gini</th>\n",
       "      <th>med_gini</th>\n",
       "      <th>high_gini</th>\n",
       "    </tr>\n",
       "  </thead>\n",
       "  <tbody>\n",
       "    <tr>\n",
       "      <th>0</th>\n",
       "      <td>2021-03-13</td>\n",
       "      <td>ALB</td>\n",
       "      <td>EU</td>\n",
       "      <td>Albania</td>\n",
       "      <td>116821</td>\n",
       "      <td>2030</td>\n",
       "      <td>34970.0</td>\n",
       "      <td>5353.244856</td>\n",
       "      <td>29.0</td>\n",
       "      <td>2012</td>\n",
       "      <td>...</td>\n",
       "      <td>0.040930</td>\n",
       "      <td>0.000711</td>\n",
       "      <td>(3316.176, 10261.679]</td>\n",
       "      <td>0</td>\n",
       "      <td>1</td>\n",
       "      <td>0</td>\n",
       "      <td>(24.999, 34.0]</td>\n",
       "      <td>1</td>\n",
       "      <td>0</td>\n",
       "      <td>0</td>\n",
       "    </tr>\n",
       "    <tr>\n",
       "      <th>1</th>\n",
       "      <td>2021-02-15</td>\n",
       "      <td>DZA</td>\n",
       "      <td>AF</td>\n",
       "      <td>Algeria</td>\n",
       "      <td>110711</td>\n",
       "      <td>2939</td>\n",
       "      <td>107772.0</td>\n",
       "      <td>3973.964072</td>\n",
       "      <td>27.6</td>\n",
       "      <td>2011</td>\n",
       "      <td>...</td>\n",
       "      <td>0.002572</td>\n",
       "      <td>0.000068</td>\n",
       "      <td>(3316.176, 10261.679]</td>\n",
       "      <td>0</td>\n",
       "      <td>1</td>\n",
       "      <td>0</td>\n",
       "      <td>(24.999, 34.0]</td>\n",
       "      <td>1</td>\n",
       "      <td>0</td>\n",
       "      <td>0</td>\n",
       "    </tr>\n",
       "    <tr>\n",
       "      <th>2</th>\n",
       "      <td>2021-02-15</td>\n",
       "      <td>AGO</td>\n",
       "      <td>AF</td>\n",
       "      <td>Angola</td>\n",
       "      <td>20366</td>\n",
       "      <td>492</td>\n",
       "      <td>19874.0</td>\n",
       "      <td>2790.726615</td>\n",
       "      <td>42.7</td>\n",
       "      <td>2008</td>\n",
       "      <td>...</td>\n",
       "      <td>0.000640</td>\n",
       "      <td>0.000015</td>\n",
       "      <td>(261.24600000000004, 3316.176]</td>\n",
       "      <td>1</td>\n",
       "      <td>0</td>\n",
       "      <td>0</td>\n",
       "      <td>(41.5, 63.0]</td>\n",
       "      <td>0</td>\n",
       "      <td>0</td>\n",
       "      <td>1</td>\n",
       "    </tr>\n",
       "    <tr>\n",
       "      <th>3</th>\n",
       "      <td>2021-02-15</td>\n",
       "      <td>ARG</td>\n",
       "      <td>SA</td>\n",
       "      <td>Argentina</td>\n",
       "      <td>2029008</td>\n",
       "      <td>50327</td>\n",
       "      <td>1978681.0</td>\n",
       "      <td>9912.281809</td>\n",
       "      <td>41.2</td>\n",
       "      <td>2017</td>\n",
       "      <td>...</td>\n",
       "      <td>0.045151</td>\n",
       "      <td>0.001120</td>\n",
       "      <td>(3316.176, 10261.679]</td>\n",
       "      <td>0</td>\n",
       "      <td>1</td>\n",
       "      <td>0</td>\n",
       "      <td>(34.0, 41.5]</td>\n",
       "      <td>0</td>\n",
       "      <td>1</td>\n",
       "      <td>0</td>\n",
       "    </tr>\n",
       "    <tr>\n",
       "      <th>4</th>\n",
       "      <td>2021-02-15</td>\n",
       "      <td>AUS</td>\n",
       "      <td>OC</td>\n",
       "      <td>Australia</td>\n",
       "      <td>28900</td>\n",
       "      <td>909</td>\n",
       "      <td>27991.0</td>\n",
       "      <td>55060.326100</td>\n",
       "      <td>35.8</td>\n",
       "      <td>2014</td>\n",
       "      <td>...</td>\n",
       "      <td>0.001139</td>\n",
       "      <td>0.000036</td>\n",
       "      <td>(10261.679, 114704.594]</td>\n",
       "      <td>0</td>\n",
       "      <td>0</td>\n",
       "      <td>1</td>\n",
       "      <td>(34.0, 41.5]</td>\n",
       "      <td>0</td>\n",
       "      <td>1</td>\n",
       "      <td>0</td>\n",
       "    </tr>\n",
       "  </tbody>\n",
       "</table>\n",
       "<p>5 rows × 24 columns</p>\n",
       "</div>"
      ],
      "text/plain": [
       "         date country_code continent country_name  cumulative_pos  \\\n",
       "0  2021-03-13          ALB        EU      Albania          116821   \n",
       "1  2021-02-15          DZA        AF      Algeria          110711   \n",
       "2  2021-02-15          AGO        AF       Angola           20366   \n",
       "3  2021-02-15          ARG        SA    Argentina         2029008   \n",
       "4  2021-02-15          AUS        OC    Australia           28900   \n",
       "\n",
       "   cumulative_dec   curr_pos   gdp_per_cap  gini_index  gini_year  ...  \\\n",
       "0            2030    34970.0   5353.244856        29.0       2012  ...   \n",
       "1            2939   107772.0   3973.964072        27.6       2011  ...   \n",
       "2             492    19874.0   2790.726615        42.7       2008  ...   \n",
       "3           50327  1978681.0   9912.281809        41.2       2017  ...   \n",
       "4             909    27991.0  55060.326100        35.8       2014  ...   \n",
       "\n",
       "  cpos_norm  cdec_norm                      gdp_thirds low_gdp_pc  med_gdp_pc  \\\n",
       "0  0.040930   0.000711           (3316.176, 10261.679]          0           1   \n",
       "1  0.002572   0.000068           (3316.176, 10261.679]          0           1   \n",
       "2  0.000640   0.000015  (261.24600000000004, 3316.176]          1           0   \n",
       "3  0.045151   0.001120           (3316.176, 10261.679]          0           1   \n",
       "4  0.001139   0.000036         (10261.679, 114704.594]          0           0   \n",
       "\n",
       "   high_gdp_pc     gini_thirds  low_gini  med_gini  high_gini  \n",
       "0            0  (24.999, 34.0]         1         0          0  \n",
       "1            0  (24.999, 34.0]         1         0          0  \n",
       "2            0    (41.5, 63.0]         0         0          1  \n",
       "3            0    (34.0, 41.5]         0         1          0  \n",
       "4            1    (34.0, 41.5]         0         1          0  \n",
       "\n",
       "[5 rows x 24 columns]"
      ]
     },
     "execution_count": 29,
     "metadata": {},
     "output_type": "execute_result"
    }
   ],
   "source": [
    "covid_data.rename(columns = {pd.Interval(24.999, 34.0, closed='right'):\"low_gini\", pd.Interval(34.0, 41.5, closed='right'):\"med_gini\", pd.Interval(41.5, 63.0, closed='right'):\"high_gini\" }, inplace = True)\n",
    "\n",
    "covid_data.head()"
   ]
  },
  {
   "cell_type": "markdown",
   "metadata": {},
   "source": [
    "## Data Analysis"
   ]
  },
  {
   "cell_type": "markdown",
   "metadata": {},
   "source": [
    "Now, we convert our indicator variables to two columns, one for GDP groups and one for Gini groups.  We also make a new dataframe with all columns relevant to this analysis.\n"
   ]
  },
  {
   "cell_type": "code",
   "execution_count": 34,
   "metadata": {},
   "outputs": [
    {
     "data": {
      "text/html": [
       "<div>\n",
       "<style scoped>\n",
       "    .dataframe tbody tr th:only-of-type {\n",
       "        vertical-align: middle;\n",
       "    }\n",
       "\n",
       "    .dataframe tbody tr th {\n",
       "        vertical-align: top;\n",
       "    }\n",
       "\n",
       "    .dataframe thead th {\n",
       "        text-align: right;\n",
       "    }\n",
       "</style>\n",
       "<table border=\"1\" class=\"dataframe\">\n",
       "  <thead>\n",
       "    <tr style=\"text-align: right;\">\n",
       "      <th></th>\n",
       "      <th>gdp_group</th>\n",
       "      <th>gini_group</th>\n",
       "      <th>cpos_norm</th>\n",
       "      <th>cdec_norm</th>\n",
       "    </tr>\n",
       "  </thead>\n",
       "  <tbody>\n",
       "    <tr>\n",
       "      <th>0</th>\n",
       "      <td>med</td>\n",
       "      <td>low</td>\n",
       "      <td>0.040930</td>\n",
       "      <td>0.000711</td>\n",
       "    </tr>\n",
       "    <tr>\n",
       "      <th>1</th>\n",
       "      <td>med</td>\n",
       "      <td>low</td>\n",
       "      <td>0.002572</td>\n",
       "      <td>0.000068</td>\n",
       "    </tr>\n",
       "    <tr>\n",
       "      <th>2</th>\n",
       "      <td>low</td>\n",
       "      <td>high</td>\n",
       "      <td>0.000640</td>\n",
       "      <td>0.000015</td>\n",
       "    </tr>\n",
       "    <tr>\n",
       "      <th>3</th>\n",
       "      <td>med</td>\n",
       "      <td>med</td>\n",
       "      <td>0.045151</td>\n",
       "      <td>0.001120</td>\n",
       "    </tr>\n",
       "    <tr>\n",
       "      <th>4</th>\n",
       "      <td>high</td>\n",
       "      <td>med</td>\n",
       "      <td>0.001139</td>\n",
       "      <td>0.000036</td>\n",
       "    </tr>\n",
       "  </tbody>\n",
       "</table>\n",
       "</div>"
      ],
      "text/plain": [
       "  gdp_group gini_group  cpos_norm  cdec_norm\n",
       "0       med        low   0.040930   0.000711\n",
       "1       med        low   0.002572   0.000068\n",
       "2       low       high   0.000640   0.000015\n",
       "3       med        med   0.045151   0.001120\n",
       "4      high        med   0.001139   0.000036"
      ]
     },
     "execution_count": 34,
     "metadata": {},
     "output_type": "execute_result"
    }
   ],
   "source": [
    "gdp_group=[]\n",
    "gini_group=[]\n",
    "for i in range(len(covid_data)):\n",
    "    if covid_data.high_gdp_pc.iloc[i]==1:\n",
    "        gdp_group.append(\"high\")\n",
    "    elif covid_data.med_gdp_pc.iloc[i]==1:\n",
    "        gdp_group.append(\"med\")\n",
    "    elif covid_data.low_gdp_pc.iloc[i]==1: \n",
    "        gdp_group.append(\"low\")\n",
    "        \n",
    "    if covid_data.low_gini.iloc[i]==1:\n",
    "        gini_group.append(\"low\")\n",
    "    if covid_data.med_gini.iloc[i]==1:\n",
    "        gini_group.append(\"med\")\n",
    "    if covid_data.high_gini.iloc[i]==1: \n",
    "        gini_group.append(\"high\")\n",
    "anova_df= pd.DataFrame({'gdp_group': gdp_group,'gini_group': gini_group, 'cpos_norm': covid_data.cpos_norm, 'cdec_norm': covid_data.cdec_norm})\n",
    "anova_df.head()\n"
   ]
  },
  {
   "cell_type": "markdown",
   "metadata": {},
   "source": [
    "### Run ANOVA Test"
   ]
  },
  {
   "cell_type": "code",
   "execution_count": 32,
   "metadata": {},
   "outputs": [
    {
     "data": {
      "text/html": [
       "<div>\n",
       "<style scoped>\n",
       "    .dataframe tbody tr th:only-of-type {\n",
       "        vertical-align: middle;\n",
       "    }\n",
       "\n",
       "    .dataframe tbody tr th {\n",
       "        vertical-align: top;\n",
       "    }\n",
       "\n",
       "    .dataframe thead th {\n",
       "        text-align: right;\n",
       "    }\n",
       "</style>\n",
       "<table border=\"1\" class=\"dataframe\">\n",
       "  <thead>\n",
       "    <tr style=\"text-align: right;\">\n",
       "      <th></th>\n",
       "      <th>sum_sq</th>\n",
       "      <th>df</th>\n",
       "      <th>F</th>\n",
       "      <th>PR(&gt;F)</th>\n",
       "    </tr>\n",
       "  </thead>\n",
       "  <tbody>\n",
       "    <tr>\n",
       "      <th>C(gdp_group)</th>\n",
       "      <td>0.034228</td>\n",
       "      <td>2.0</td>\n",
       "      <td>33.868907</td>\n",
       "      <td>1.627207e-12</td>\n",
       "    </tr>\n",
       "    <tr>\n",
       "      <th>C(gini_group)</th>\n",
       "      <td>0.003192</td>\n",
       "      <td>2.0</td>\n",
       "      <td>3.158309</td>\n",
       "      <td>4.585473e-02</td>\n",
       "    </tr>\n",
       "    <tr>\n",
       "      <th>C(gdp_group):C(gini_group)</th>\n",
       "      <td>0.000914</td>\n",
       "      <td>4.0</td>\n",
       "      <td>0.452264</td>\n",
       "      <td>7.705855e-01</td>\n",
       "    </tr>\n",
       "    <tr>\n",
       "      <th>Residual</th>\n",
       "      <td>0.064174</td>\n",
       "      <td>127.0</td>\n",
       "      <td>NaN</td>\n",
       "      <td>NaN</td>\n",
       "    </tr>\n",
       "  </tbody>\n",
       "</table>\n",
       "</div>"
      ],
      "text/plain": [
       "                              sum_sq     df          F        PR(>F)\n",
       "C(gdp_group)                0.034228    2.0  33.868907  1.627207e-12\n",
       "C(gini_group)               0.003192    2.0   3.158309  4.585473e-02\n",
       "C(gdp_group):C(gini_group)  0.000914    4.0   0.452264  7.705855e-01\n",
       "Residual                    0.064174  127.0        NaN           NaN"
      ]
     },
     "execution_count": 32,
     "metadata": {},
     "output_type": "execute_result"
    }
   ],
   "source": [
    "# importing libraries to help with ANOVA\n",
    "import statsmodels.api as sm\n",
    "# performing our ANOVA analysis:\n",
    "from statsmodels.formula.api import ols\n",
    "#reference:https://www.statology.org/two-way-anova-python/\n",
    "model = ols('cpos_norm ~ C(gdp_group) + C(gini_group) + C(gdp_group):C(gini_group)', data=anova_df).fit()\n",
    "sm.stats.anova_lm(model, typ=2)"
   ]
  },
  {
   "cell_type": "markdown",
   "metadata": {},
   "source": [
    "The table above shows __the sum of sqaures(sum_sq)__, __degree of freedom(df), __F-statistic (F)__ and __the residual variance (\"the variation in the dependent variable that isn't explained by the independent variables\")__for the three independent variables __(gdp per capita, gini index, and the interaction between gdp per capita and gini index)__. \n",
    "\n",
    "More importantly, the table's last column lists the __p-value of each independent variable's F-statistic__. In other words, this column's values are the probabilities that the F-statistics would have occurred due to pure random chance (i.e. if the independent variable had no effect and the null hypothesis was true):\n",
    "\n",
    "\n",
    "__P-values of F-statistics:__\n",
    "- gdp_group: 1.627e-12\n",
    "- gini_group: 0.046\n",
    "- interaction between gdp and gini: 0.771\n",
    "\n",
    "\n",
    "\n",
    "#### ANOVA Test Results:\n",
    "\n",
    "Setting the significance level to 0.05 (p<0.05), we compare the PR(>F) value for each independent variable to the significance level:\n",
    "1. Main effect GDP per capita: F(2,127) = 33.87, p<0.05. Since the __p-value of gdp_group(1.627e-12) is much lower than 0.05__, we can conclude that GDP per capita has a statistically __significant effect__ on a country's cumulative positive rate per capita. \n",
    "\n",
    "\n",
    "2. Main effect Gini index: F(2,127) = 3.16, p<0.05. Since the __p-value of gini_group is also lower than 0.05__, we can also conclude that gini index has a statistically __significant effect__ on a country's cumulative positive rate per capita. However, as that p-value __(0.046) is very close to the significance level (0.05)__, we preliminarily conclude that the significant effect by gini index __may not be very high__. This will be tested in later steps. \n",
    "\n",
    "\n",
    "3. InteractiSince the __p-value of interaction (0.771) is higher than 0.05__, we can conclude that there is __no significant interaction effect__ on a country's cumulative positive rate per capita. By interaction effect, we mean the effect of one independent variable depends on the state of the other independent variable (e.g. rich sunlight may have a more powerful effect on plant growth if the water is sufficient, as opposed to insufficient). Here, such interaction between GDP per capita and gini index does not exist.\n",
    "\n",
    "\n",
    "*definition of residual: https://www.scribbr.com/statistics/two-way-anova/"
   ]
  },
  {
   "cell_type": "markdown",
   "metadata": {},
   "source": [
    "### Evaluation of Significance: Effect Sizes (η^2) "
   ]
  },
  {
   "cell_type": "markdown",
   "metadata": {},
   "source": [
    "Now that we have determined that GDP per capita and Gini index both have a significant effect on a country's cumulative positive rate per capita, we want to also find out each factor's effect size (η^2), or __the proportion of the total variance in the scores that can be accounted for by the treatment (i.e. the factor itself)__.\n",
    "\n",
    "From statistics we've learned that effect size (η) = Sum of squares (A)/ (sum of squares(A) + sum of squares(Residual)), where A is the desired factor:  "
   ]
  },
  {
   "cell_type": "code",
   "execution_count": 65,
   "metadata": {},
   "outputs": [
    {
     "name": "stdout",
     "output_type": "stream",
     "text": [
      "The Effect Size of GDP per Capita:0.348\n",
      "The Effect Size of Gini index:0.047\n"
     ]
    }
   ],
   "source": [
    "gdp_ss=0.034228\n",
    "gini_ss=0.003192\n",
    "residual_ss=0.064174\n",
    "\n",
    "η2_gdp=gdp_ss/(gdp_ss+residual_ss)\n",
    "η2_gini=gini_ss/(gini_ss+residual_ss)\n",
    "\n",
    "print('The Effect Size of GDP per Capita:{:.3f}'.format(η2_gdp))\n",
    "print('The Effect Size of Gini index:{:.3f}'.format(η2_gini))"
   ]
  },
  {
   "cell_type": "markdown",
   "metadata": {},
   "source": [
    "The effect sizes shows that roughly 34.8% of the total variance in the cumulative positive rates per capita can be accoutned for by the differences in GDP per capita, while that proportion for Gini index is only 4.7%. This validates our preliminary judgement after the ANOVA test that the effect of Gini index is not very strong."
   ]
  },
  {
   "cell_type": "markdown",
   "metadata": {},
   "source": [
    "### Evaluation of Significance: Visual Representation of ANOVA Test Results"
   ]
  },
  {
   "cell_type": "markdown",
   "metadata": {},
   "source": [
    "Although it is hard to plot ANOVA results, we found another way to visualize our data by graphing the means of cumulative positive cases per capita against both Gini index levels and GDP per capita levels. Below are two versions of the same graph idea. The first has the Gini levels on the x-axis and GDP per capita levels as different colors on the graph, while the second is the exact opposite."
   ]
  },
  {
   "cell_type": "code",
   "execution_count": 62,
   "metadata": {},
   "outputs": [
    {
     "data": {
      "image/png": "[encoded data removed]",
      "text/plain": [
       "<Figure size 432x288 with 1 Axes>"
      ]
     },
     "metadata": {
      "needs_background": "light"
     },
     "output_type": "display_data"
    }
   ],
   "source": [
    "from statsmodels.graphics.factorplots import interaction_plot\n",
    "import matplotlib.pyplot as plt\n",
    "fig = interaction_plot(x=anova_df['gini_group'], trace=anova_df['gdp_group'], response=anova_df['cpos_norm'], \n",
    "    colors=['#4c061d','#d17a22', '#b4c292'])\n",
    "plt.title('the effect of Gini index on mean of cumulative positive per capita')\n",
    "plt.show()"
   ]
  },
  {
   "cell_type": "markdown",
   "metadata": {},
   "source": [
    "This first graph above generally matches the ANOVA results: the purple and green lines are almost perfectly parallel, which suggest that there is no interaction between GDP per capita and Gini index. When Gini level is constant, change in GDP per Capita also does signficantly change the mean of cumulative positive cases per capita, thus proving the significant effect of GDP per capita found in ANOVA. \n",
    "\n",
    "\n",
    "However, the graph also shows that within the same Gini index level, the higher GDP per capita of a country, the higher the cumulative positive cases per capita, which is rather surprising. Moreover, despite the lack of interaction effect, Gini index seem to not matter when GDP per capita level is low. Both findings are worth analyzing in the discussion."
   ]
  },
  {
   "cell_type": "code",
   "execution_count": 64,
   "metadata": {},
   "outputs": [
    {
     "data": {
      "image/png": "[encoded data removed]",
      "text/plain": [
       "<Figure size 432x288 with 1 Axes>"
      ]
     },
     "metadata": {
      "needs_background": "light"
     },
     "output_type": "display_data"
    }
   ],
   "source": [
    "fig2 = interaction_plot(x=anova_df['gdp_group'], trace=anova_df['gini_group'], response=anova_df['cpos_norm'], \n",
    "    colors=['#4c061d','#d17a22', '#b4c292'])\n",
    "plt.title('the effect of GDP per capita on mean of cumulative positive per capita')\n",
    "plt.show()"
   ]
  },
  {
   "cell_type": "markdown",
   "metadata": {},
   "source": [
    "This second graph visualizes the combination of ANOVA findings and effect size calculations of Gini Index––that is, although it has a significant effect on Cumulative positives per capita, such effect is rather small. Here on this graph, it is clear that within the same GDP per capita level, the higher the Gini level, the lower the value. However, the differences are significantly lower than those on the previous graph, especially the difference of value means between high and medium Gini indexes (and, again, especially at GDP per capita level = low, where there seem to be little to no difference). This finding is also worth discussing. To do so, we decide to first perform a Tukey HSD Test."
   ]
  },
  {
   "cell_type": "markdown",
   "metadata": {},
   "source": [
    "### Evaluation of Significance: Tukey HSD Tests "
   ]
  },
  {
   "cell_type": "markdown",
   "metadata": {},
   "source": [
    "Since the two-way ANOVA test could only tell us GDP per capita and Gini index are significant, but __not also how exactly different levels (high/med/low) of GDP per capita and Gini index affect cumulative positive rate per capita__, we decide to perform two post-hoc tests, one for each indepedent variable. And the tests are a Tukey Honestly-Significant-Difference (Tukey HSD) Tests."
   ]
  },
  {
   "cell_type": "markdown",
   "metadata": {},
   "source": [
    "The first Tukey HSD Test, for __GDP per capita__:"
   ]
  },
  {
   "cell_type": "code",
   "execution_count": 51,
   "metadata": {},
   "outputs": [
    {
     "data": {
      "text/html": [
       "<table class=\"simpletable\">\n",
       "<caption>Multiple Comparison of Means - Tukey HSD, FWER=0.05</caption>\n",
       "<tr>\n",
       "  <th>group1</th> <th>group2</th> <th>meandiff</th> <th>p-adj</th>  <th>lower</th>   <th>upper</th>  <th>reject</th>\n",
       "</tr>\n",
       "<tr>\n",
       "   <td>high</td>    <td>low</td>   <td>-0.0447</td> <td>0.001</td> <td>-0.056</td>  <td>-0.0335</td>  <td>True</td> \n",
       "</tr>\n",
       "<tr>\n",
       "   <td>high</td>    <td>med</td>   <td>-0.0203</td> <td>0.001</td> <td>-0.0317</td> <td>-0.009</td>   <td>True</td> \n",
       "</tr>\n",
       "<tr>\n",
       "    <td>low</td>    <td>med</td>   <td>0.0244</td>  <td>0.001</td> <td>0.0131</td>  <td>0.0356</td>   <td>True</td> \n",
       "</tr>\n",
       "</table>"
      ],
      "text/plain": [
       "<class 'statsmodels.iolib.table.SimpleTable'>"
      ]
     },
     "execution_count": 51,
     "metadata": {},
     "output_type": "execute_result"
    }
   ],
   "source": [
    "from statsmodels.stats.multicomp import pairwise_tukeyhsd\n",
    "\n",
    "# perform multiple pairwise comparison (Tukey HSD) for GDP per cap\n",
    "m_comp_gdp = pairwise_tukeyhsd(endog=anova_df['cpos_norm'], groups=anova_df['gdp_group'], alpha=0.05)\n",
    "m_comp_gdp.summary()"
   ]
  },
  {
   "cell_type": "markdown",
   "metadata": {},
   "source": [
    "This first Tukey HSD test returns a table that compares different pairs of GDP per capita levels (high vs. low, high vs. med, and low vs. med), and lists out each pair's mean difference (meandiff), p-value of the difference (p-adj) and the lower and upper bounds of the confidence intervals at 95% of mean difference (lower, upper). Also, it shows whether the null hypothesis that there is no sigfinicant difference between each pair's values should be rejected (reject). \n",
    "\n",
    "P.S. We continue to adopt a significance level of 0.05. But thanks to the function's convenient \"reject\" column, there is no need to manually compare 0.05 to p-adj.\n",
    "\n",
    "From this table, we can infer that there are significant differences between the means of:\n",
    "1. high and low GDP per capita\n",
    "2. high and medium GDP per capita\n",
    "3. low and medium GDP per capita\n",
    "\n",
    "Also, among the three significant differences, the mean difference between high and low GDP is the highest (|-0.0447|)."
   ]
  },
  {
   "cell_type": "markdown",
   "metadata": {},
   "source": [
    "The second Tukey HSD Test, for __Gini index__:"
   ]
  },
  {
   "cell_type": "code",
   "execution_count": 52,
   "metadata": {},
   "outputs": [
    {
     "data": {
      "text/html": [
       "<table class=\"simpletable\">\n",
       "<caption>Multiple Comparison of Means - Tukey HSD, FWER=0.05</caption>\n",
       "<tr>\n",
       "  <th>group1</th> <th>group2</th> <th>meandiff</th>  <th>p-adj</th>  <th>lower</th>   <th>upper</th>  <th>reject</th>\n",
       "</tr>\n",
       "<tr>\n",
       "   <td>high</td>    <td>low</td>   <td>0.0245</td>   <td>0.001</td> <td>0.0111</td>  <td>0.0379</td>   <td>True</td> \n",
       "</tr>\n",
       "<tr>\n",
       "   <td>high</td>    <td>med</td>   <td>0.0086</td>  <td>0.3082</td> <td>-0.0053</td> <td>0.0225</td>   <td>False</td>\n",
       "</tr>\n",
       "<tr>\n",
       "    <td>low</td>    <td>med</td>   <td>-0.0159</td> <td>0.0178</td> <td>-0.0295</td> <td>-0.0023</td>  <td>True</td> \n",
       "</tr>\n",
       "</table>"
      ],
      "text/plain": [
       "<class 'statsmodels.iolib.table.SimpleTable'>"
      ]
     },
     "execution_count": 52,
     "metadata": {},
     "output_type": "execute_result"
    }
   ],
   "source": [
    "m_comp_gini = pairwise_tukeyhsd(endog=anova_df['cpos_norm'], groups=anova_df['gini_group'], alpha=0.05)\n",
    "m_comp_gini.summary()"
   ]
  },
  {
   "cell_type": "markdown",
   "metadata": {},
   "source": [
    "Similar to the Tukey HSD Test for GDP per capita, the same Test for Gini index also returns a table with the same attributes. From this table, we can infer that there are significant differences between the means of:\n",
    "1. high and low Gini index\n",
    "2. low and medium Gini index\n",
    "\n",
    "There is not a significant difference between the means of:\n",
    "1. high and medium Gini index\n",
    "\n",
    "This helps explain the proximity between the purple and green lines on the second graph.\n",
    "\n",
    "Also, between the two significant differences, the mean difference between high and low Gini index is the highest (0.0245)."
   ]
  },
  {
   "cell_type": "markdown",
   "metadata": {},
   "source": [
    "### ANOVA and Tukey HSD Results Summary"
   ]
  },
  {
   "cell_type": "markdown",
   "metadata": {},
   "source": [
    "Through a two-way ANOVA test, we found that __both a country's GDP per capita and Gini Index cause significant difference__ on that country's cumulative positive cases per capita. Speficically, the significant effect by GDP per capita is __relatively stronger__ (F(2,127) = 33.87, p<0.05, η^2=34.8%), while the significant effect by Gini Index is __relatively weaker__ (F(2,127) = 3.16, p<0.05, η^2=4.7%). __We did not find a significant interaction effect__ between GDP per capita and Gini Index (F(4,127) = 0.45, p>0.05).\n"
   ]
  },
  {
   "cell_type": "markdown",
   "metadata": {},
   "source": [
    "Through a Tukey HSD test, we also found that all pairwise comparisons of different levels of __GDP per capita__  result in significant mean differences of a country's cumulative positive cases per capita, specifically the __high vs. medium__ (meandiff=-0.0447), __high vs. low__ (meandiff=-0.0203), and __low vs. medium__ (meandiff=0.0244) GDP per capita pairs. For the __Gini index__ levels, only the __high vs. low__ (meanfidd=0.0245) and __low vs. medium__ (0.0159) pairs yield significant mean value differences; the __high vs. medium__ (meandiff=0.0086) pair __yields no significant mean value difference__."
   ]
  },
  {
   "cell_type": "markdown",
   "metadata": {},
   "source": [
    "Within the same Gini index level (and true to every Gini index level), the __higher the GDP per capita level__, the __higher the country's cumulative positive cases per capita__. Within the same GDP per capita level (and true to all but GDP = low level), the __higher the country's Gini index level__, the __lower the cumulative positive cases per capita__."
   ]
  },
  {
   "cell_type": "markdown",
   "metadata": {},
   "source": [
    "## Discussion/Interpretation of ANOVA and Tukey HSD Tests Results"
   ]
  },
  {
   "cell_type": "markdown",
   "metadata": {},
   "source": [
    "The results come out as a surprise for us. We originally hypothesized that countries with higher GDP per capita (i.e. better economy and personal wealth) would yiled lower Covid positive cases per capita, because we assumed that  \n",
    "1. people from those countries would share higher affordability of masks, sanitizers and other Covid essentials,\n",
    "2. those countries usually provide better healthcare.\n",
    "We also hypothesized that a combination of lower Gini Index (i.e. higher equality in terms of wealth distribution) and higher GDP per capita would have lower Covid positive cases per capita, assuming that \n",
    "1. this combination would mean fewer groups in poverty,\n",
    "2. high Gini index alone (without medium or high GDP per capita) would probably yield higher numbers per capita due to \"equal\" lack of resources. \n",
    "\n",
    "However, the tests show just the opposite. \n",
    "\n",
    "First, within the same Gini level, the higher the level of GDP per capita, the higher the number of positive cases per capita. We believe that there are several factors that could possibly explain this significant effect:\n",
    "1. many countries with high GDP per capita (e.g. the U.S. and Western European countries) are also the ones that run the most Covid tests and do so most frequently; this would lead to higher sample sizes per capita, which would in turn result in higher per capita positive cases.\n",
    "2. many of those countries are also well-developed and have shrinking population age pyramids (i.e. has a higher percentage of elderly population; e.g. Japan). Since its common knowledge now that Covid-positive elderlies are more susceptible of developing (severe) symptoms, the percentage of those countries' Covid-positive population who feel and report symptons would naturally be higher. In other words, in low GDP per capita countries that has less % of elderly population, there might be a higher % of asymptomatic positive cases that are never reported or tested. For our next phase, we would further explore this idea by performing statistical tests on death rates per capita vs. GDP per capita.\n",
    "\n",
    "Second, within the same GDP per capita level, the higher the level of Gini index (i.e. more unequal wealth distribution), the lower the number of positive cases per capita. This main effect can also be explained by the factors above, as most countries on the bottom-third Gini index level also have low GDP per capita. This significant effect, however, is relatively weak, as indicated by both its small effect size (4.7%) and p-value (0.046). Also, it is important to note that Gini Index would only have a significant effect with the significance level = 0.05. If we were to set the level to the more conservative 0.01, from 0.046>0.01 we would have concluded that this main effect is not significant. Therefore between the two significant factors, GDP per capita––not Gini index––is the dominant factor that influences cumulative positive cases per capita.\n",
    "\n",
    "Third, shown by ANOVA, the fact that there is no significant interaction between GDP per capita and Gini index suggests that the strength of GDP per capita's effect does not depend on the state (level) of Gini index, and vice versa. However, from the two graphs in the Visual Representation section above, we could infer that when GDP per capita is low, the change in Gini index levels yields little difference in value means (and the values are very low). In other words, it seems that Gini index depends on the level of GDP per capita. We attribute this observation to the following possible reasons:\n",
    "1. Among these low GDP per capita countries, the difference in Gini index does not change the fact that the governments provide fewer Covid tests so that fewer positive cases are documented.\n",
    "2. The sample sizes for low GDP per capita countries that also has low or medium Gini index is low (i.e. most have high Gini index) and may have sampling errors.\n",
    "3. The main effect of Gini index is inherently weak and debatable. \n",
    "\n",
    "\n",
    "\n",
    "Finally, the Tukey HSD test reveals an interesting finding that their is no significant value mean difference between high and medium Gini levels; the real significant difference occurs between high/medium vs. low. We are yet able to find a plausible explanation for this finding."
   ]
  },
  {
   "cell_type": "code",
   "execution_count": null,
   "metadata": {},
   "outputs": [],
   "source": [
    "\n"
   ]
  },
  {
   "cell_type": "markdown",
   "metadata": {},
   "source": [
    "## Second Factorial Anova Test: Gini"
   ]
  },
  {
   "cell_type": "code",
   "execution_count": 35,
   "metadata": {},
   "outputs": [
    {
     "data": {
      "text/html": [
       "<div>\n",
       "<style scoped>\n",
       "    .dataframe tbody tr th:only-of-type {\n",
       "        vertical-align: middle;\n",
       "    }\n",
       "\n",
       "    .dataframe tbody tr th {\n",
       "        vertical-align: top;\n",
       "    }\n",
       "\n",
       "    .dataframe thead th {\n",
       "        text-align: right;\n",
       "    }\n",
       "</style>\n",
       "<table border=\"1\" class=\"dataframe\">\n",
       "  <thead>\n",
       "    <tr style=\"text-align: right;\">\n",
       "      <th></th>\n",
       "      <th>sum_sq</th>\n",
       "      <th>df</th>\n",
       "      <th>F</th>\n",
       "      <th>PR(&gt;F)</th>\n",
       "    </tr>\n",
       "  </thead>\n",
       "  <tbody>\n",
       "    <tr>\n",
       "      <th>C(gdp_group)</th>\n",
       "      <td>1.362762e-05</td>\n",
       "      <td>2.0</td>\n",
       "      <td>28.882553</td>\n",
       "      <td>4.583204e-11</td>\n",
       "    </tr>\n",
       "    <tr>\n",
       "      <th>C(gini_group)</th>\n",
       "      <td>5.766377e-07</td>\n",
       "      <td>2.0</td>\n",
       "      <td>1.222134</td>\n",
       "      <td>2.980418e-01</td>\n",
       "    </tr>\n",
       "    <tr>\n",
       "      <th>C(gdp_group):C(gini_group)</th>\n",
       "      <td>4.229644e-07</td>\n",
       "      <td>4.0</td>\n",
       "      <td>0.448218</td>\n",
       "      <td>7.735282e-01</td>\n",
       "    </tr>\n",
       "    <tr>\n",
       "      <th>Residual</th>\n",
       "      <td>2.996112e-05</td>\n",
       "      <td>127.0</td>\n",
       "      <td>NaN</td>\n",
       "      <td>NaN</td>\n",
       "    </tr>\n",
       "  </tbody>\n",
       "</table>\n",
       "</div>"
      ],
      "text/plain": [
       "                                  sum_sq     df          F        PR(>F)\n",
       "C(gdp_group)                1.362762e-05    2.0  28.882553  4.583204e-11\n",
       "C(gini_group)               5.766377e-07    2.0   1.222134  2.980418e-01\n",
       "C(gdp_group):C(gini_group)  4.229644e-07    4.0   0.448218  7.735282e-01\n",
       "Residual                    2.996112e-05  127.0        NaN           NaN"
      ]
     },
     "execution_count": 35,
     "metadata": {},
     "output_type": "execute_result"
    }
   ],
   "source": [
    "#model1 = ols('cdec_norm ~ C(gdp_group) + C(gini_group) + C(gdp_group):C(gini_group)', data=anova_df).fit()\n",
    "#sm.stats.anova_lm(model1, typ=2)"
   ]
  },
  {
   "cell_type": "code",
   "execution_count": 39,
   "metadata": {},
   "outputs": [
    {
     "data": {
      "image/png": "[encoded data removed]",
      "text/plain": [
       "<Figure size 432x288 with 1 Axes>"
      ]
     },
     "metadata": {
      "needs_background": "light"
     },
     "output_type": "display_data"
    }
   ],
   "source": [
    "#fig = interaction_plot(x=anova_df['gini_group'], trace=anova_df['gdp_group'], response=anova_df['cdec_norm'], \n",
    "   # colors=['#4c061d','#d17a22', '#b4c292'])\n",
    "#plt.show()"
   ]
  },
  {
   "cell_type": "code",
   "execution_count": null,
   "metadata": {},
   "outputs": [],
   "source": []
  }
 ],
 "metadata": {
  "kernelspec": {
   "display_name": "Python 3",
   "language": "python",
   "name": "python3"
  },
  "language_info": {
   "codemirror_mode": {
    "name": "ipython",
    "version": 3
   },
   "file_extension": ".py",
   "mimetype": "text/x-python",
   "name": "python",
   "nbconvert_exporter": "python",
   "pygments_lexer": "ipython3",
   "version": "3.8.5"
  }
 },
 "nbformat": 4,
 "nbformat_minor": 4
}
