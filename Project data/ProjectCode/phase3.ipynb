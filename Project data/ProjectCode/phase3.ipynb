{
 "cells": [
  {
   "cell_type": "markdown",
   "id": "upper-poker",
   "metadata": {},
   "source": [
    "# Project Phase 3\n",
    "### Samantha Rubin, Hanwen Lin, Liz Espinoza, and Hanna Kang"
   ]
  },
  {
   "cell_type": "markdown",
   "id": "offensive-builder",
   "metadata": {},
   "source": [
    "**Preregistration of analyses**\n",
    "\n",
    "*Analysis 1:* We will calculate a factorial ANOVA using the cells described below.  This will help determine if the difference in mean of covid data in countries with different economic indices is statistically significant.  \n",
    "\n",
    "|             | Low GDP | Medium GDP | High GDP  |\n",
    "|-------------|---------|------------|-----------|\n",
    "| Low Gini    | 1       | 2          | 3         |\n",
    "| Medium Gini | 4       | 5          | 6         |\n",
    "| High Gini   | 7       | 8          | 9         |\n",
    "\n",
    "\n",
    "*Analysis 2:* We will train a multivariable regression model that uses gini index, GDP per capita, and population density as inputs to predict cumulative positive COVID cases and cumulative COVID deaths.\n"
   ]
  },
  {
   "cell_type": "markdown",
   "id": "physical-frost",
   "metadata": {},
   "source": [
    "**Questions for Reviewers**\n",
    "1) Do you have ideas of other variables that we could add as predictors for our second analysis?  We were thinking about considering different policies/government reactions to COVID but we’re not sure how we would quantify that. \n",
    "2) How should we create the categories low, medium and high GDP and Gini indices for the factorial ANOVA? Or, is there a different grouping that would work better?\n"
   ]
  }
 ],
 "metadata": {
  "kernelspec": {
   "display_name": "Python 3",
   "language": "python",
   "name": "python3"
  },
  "language_info": {
   "codemirror_mode": {
    "name": "ipython",
    "version": 3
   },
   "file_extension": ".py",
   "mimetype": "text/x-python",
   "name": "python",
   "nbconvert_exporter": "python",
   "pygments_lexer": "ipython3",
   "version": "3.7.4"
  }
 },
 "nbformat": 4,
 "nbformat_minor": 5
}
