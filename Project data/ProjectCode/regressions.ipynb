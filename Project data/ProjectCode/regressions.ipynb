{
 "cells": [
  {
   "cell_type": "code",
   "execution_count": 1,
   "id": "broke-district",
   "metadata": {},
   "outputs": [],
   "source": [
    "import pandas as pd\n",
    "import numpy as np\n",
    "import matplotlib.pyplot as plt\n",
    "%matplotlib inline\n",
    "\n",
    "from sklearn.linear_model import LinearRegression\n",
    "from sklearn.linear_model import LogisticRegression\n",
    "from sklearn.model_selection import train_test_split\n",
    "import seaborn as sns"
   ]
  },
  {
   "cell_type": "code",
   "execution_count": 2,
   "id": "surface-juice",
   "metadata": {},
   "outputs": [],
   "source": [
    "raw_covid = pd.read_csv(\"jrc-covid-19-world-latest.csv\")\n",
    "gini_data = pd.read_csv(\"gini_data2.csv\")\n",
    "gdp_data = pd.read_csv(\"gdp_data.csv\")\n",
    "pop_data = pd.read_csv(\"API_SP.POP.TOTL_DS2_en_csv_v2_2106202.csv\")\n",
    "pop_den = pd.read_csv(\"pop_density.csv\")\n",
    "unemploy_rates = pd.read_csv(\"unemployment_rates.csv\")"
   ]
  },
  {
   "cell_type": "code",
   "execution_count": 3,
   "id": "critical-insertion",
   "metadata": {},
   "outputs": [],
   "source": [
    "gdp_data.columns = gdp_data.loc[3]\n",
    "gdp_data = gdp_data.drop(index = [0,1,2,3])"
   ]
  },
  {
   "cell_type": "code",
   "execution_count": 4,
   "id": "controlled-likelihood",
   "metadata": {},
   "outputs": [],
   "source": [
    "new_colnames = [i.lower() for i in raw_covid.columns]\n",
    "covid_cases = raw_covid.copy()\n",
    "for i in covid_cases.columns:\n",
    "    covid_cases.columns = new_colnames\n",
    "    \n",
    "#dropping unnecessary columns:\n",
    "covid_cases = covid_cases[['date', 'iso3', 'continent', 'countryname'\n",
    "                           , 'cumulativepositive', 'cumulativedeceased'\n",
    "                           , 'currentlypositive']]\n",
    "#renaming columns\n",
    "covid_cases.rename(columns = {'iso3':'country_code','countryname':'country_name'\n",
    "                              , 'cumulativepositive':'cumulative_pos', 'cumulativedeceased':'cumulative_dec'\n",
    "                              , 'currentlypositive':'curr_pos'}, inplace = True)\n",
    "\n",
    "\n",
    "\n",
    "#clean gdp data, drop unecessary columns and rename them\n",
    "new_colnames = []\n",
    "gdp = gdp_data.copy()\n",
    "gdp.rename(columns = {\"Country Name\":\"country_name\",\"Country Code\":\"country_code\",2019:\"gdp_per_cap\"}\n",
    "           , inplace = True)\n",
    "gdp = gdp[[\"country_name\",\"country_code\",\"gdp_per_cap\"]]\n",
    "\n",
    "#drop NaNs in gdp\n",
    "gdp = gdp.dropna(axis = 0,subset=[\"gdp_per_cap\"])\n",
    "\n",
    "#clean gini column names\n",
    "gini_data.rename(columns = {\"Country Code\":\"country_code\",\n",
    "                          \"Country\":\"country\",\"Value\":\"gini_index\",'Year':\"gini_year\"},inplace = True)\n",
    "\n",
    "#clean population data\n",
    "pop_data.rename(columns = {\"Country Code\":\"country_code\",\"Country Name\":\"country_name\",\"2019\":\"population\"}\n",
    "                ,inplace = True)\n",
    "pop_data = pop_data[[\"country_code\",'country_name','population']]\n",
    "\n",
    "#clean population density \n",
    "pop_den.rename(columns = {\"Country Code\":\"country_code\",\"Country Name\":\"country_name\",\"2018\":\"density\"}\n",
    "               ,inplace = True)\n",
    "pop_den = pop_den[['country_code','country_name','density']]\n",
    "\n",
    "#clean unemployment rates \n",
    "unemploy_rates.rename(columns = {\"Country Code\":\"country_code\",\"Country Name\":\"country_name\",\"2019\":\"rates\"}\n",
    "                      ,inplace = True)\n",
    "unemploy_rates = unemploy_rates[['country_code','country_name','rates']]\n"
   ]
  },
  {
   "cell_type": "code",
   "execution_count": 5,
   "id": "conceptual-connection",
   "metadata": {},
   "outputs": [
    {
     "name": "stdout",
     "output_type": "stream",
     "text": [
      "166\n",
      "140\n",
      "140\n",
      "136\n",
      "136\n"
     ]
    }
   ],
   "source": [
    "#adding gdp \n",
    "covid_gdp = pd.merge(left = covid_cases, right = gdp, left_on = \"country_code\",right_on = \"country_code\")\n",
    "print(len(covid_gdp))\n",
    "\n",
    "#adding gini\n",
    "covid_gdp_gini = pd.merge(left = covid_gdp, right = gini_data, left_on = \"country_code\",right_on = \"country_code\")\n",
    "print(len(covid_gdp_gini))\n",
    "\n",
    "#adding population \n",
    "covid_gdp_gini = pd.merge(left = covid_gdp_gini, right = pop_data, left_on = \"country_code\",right_on = \"country_code\")\n",
    "print(len(covid_gdp_gini))\n",
    "\n",
    "#adding population density\n",
    "covid_gdp_gini = pd.merge(left = covid_gdp_gini, right = pop_den, left_on = \"country_code\",right_on = \"country_code\")\n",
    "print(len(covid_gdp_gini))\n",
    "\n",
    "#adding unemployment rates\n",
    "covid_data = pd.merge(left = covid_gdp_gini, right = unemploy_rates, left_on = \"country_code\",right_on = \"country_code\")\n",
    "print(len(covid_data))\n",
    "\n",
    "\n",
    "#removing duplicate columns\n",
    "covid_data = covid_data.drop(columns = [\"country\",'country_name_y',\"country_name\"])\n",
    "covid_data.rename(columns = {\"country_name_x\":\"country_name\"},inplace = True)"
   ]
  },
  {
   "cell_type": "code",
   "execution_count": 77,
   "id": "governmental-costume",
   "metadata": {},
   "outputs": [],
   "source": [
    "#trying to get rid of strings that are in the unemployment columns \n",
    "for i in range(len(covid_data['unemploy_rates'])):\n",
    "    if (type(covid_data['unemploy_rates'][i]) != float):\n",
    "        covid_data = covid_data.drop(index = i)"
   ]
  },
  {
   "cell_type": "code",
   "execution_count": 6,
   "id": "accessible-camping",
   "metadata": {},
   "outputs": [],
   "source": [
    "covid_data['dec_pos_ratio'] = covid_data['cumulative_dec'] / covid_data['cumulative_pos']\n"
   ]
  },
  {
   "cell_type": "code",
   "execution_count": 8,
   "id": "excellent-couple",
   "metadata": {},
   "outputs": [
    {
     "data": {
      "text/html": [
       "<div>\n",
       "<style scoped>\n",
       "    .dataframe tbody tr th:only-of-type {\n",
       "        vertical-align: middle;\n",
       "    }\n",
       "\n",
       "    .dataframe tbody tr th {\n",
       "        vertical-align: top;\n",
       "    }\n",
       "\n",
       "    .dataframe thead th {\n",
       "        text-align: right;\n",
       "    }\n",
       "</style>\n",
       "<table border=\"1\" class=\"dataframe\">\n",
       "  <thead>\n",
       "    <tr style=\"text-align: right;\">\n",
       "      <th></th>\n",
       "      <th>date</th>\n",
       "      <th>country_code</th>\n",
       "      <th>continent</th>\n",
       "      <th>cumulative_pos</th>\n",
       "      <th>cumulative_dec</th>\n",
       "      <th>curr_pos</th>\n",
       "      <th>gdp_per_cap</th>\n",
       "      <th>gini_index</th>\n",
       "      <th>gini_year</th>\n",
       "      <th>population</th>\n",
       "      <th>pop_density</th>\n",
       "      <th>unemploy_rates</th>\n",
       "      <th>dec_pos_ratio</th>\n",
       "    </tr>\n",
       "  </thead>\n",
       "  <tbody>\n",
       "    <tr>\n",
       "      <th>0</th>\n",
       "      <td>2021-03-13</td>\n",
       "      <td>ALB</td>\n",
       "      <td>EU</td>\n",
       "      <td>116821</td>\n",
       "      <td>2030</td>\n",
       "      <td>34970.0</td>\n",
       "      <td>5353.244856</td>\n",
       "      <td>29.0</td>\n",
       "      <td>2012</td>\n",
       "      <td>2854191.0</td>\n",
       "      <td>104.6122628</td>\n",
       "      <td>11.47000027</td>\n",
       "      <td>0.017377</td>\n",
       "    </tr>\n",
       "    <tr>\n",
       "      <th>1</th>\n",
       "      <td>2021-02-15</td>\n",
       "      <td>DZA</td>\n",
       "      <td>AF</td>\n",
       "      <td>110711</td>\n",
       "      <td>2939</td>\n",
       "      <td>107772.0</td>\n",
       "      <td>3973.964072</td>\n",
       "      <td>27.6</td>\n",
       "      <td>2011</td>\n",
       "      <td>43053054.0</td>\n",
       "      <td>17.73006763</td>\n",
       "      <td>11.81000042</td>\n",
       "      <td>0.026547</td>\n",
       "    </tr>\n",
       "    <tr>\n",
       "      <th>2</th>\n",
       "      <td>2021-02-15</td>\n",
       "      <td>AGO</td>\n",
       "      <td>AF</td>\n",
       "      <td>20366</td>\n",
       "      <td>492</td>\n",
       "      <td>19874.0</td>\n",
       "      <td>2790.726615</td>\n",
       "      <td>42.7</td>\n",
       "      <td>2008</td>\n",
       "      <td>31825295.0</td>\n",
       "      <td>24.71305206</td>\n",
       "      <td>6.929999828</td>\n",
       "      <td>0.024158</td>\n",
       "    </tr>\n",
       "    <tr>\n",
       "      <th>3</th>\n",
       "      <td>2021-02-15</td>\n",
       "      <td>ARG</td>\n",
       "      <td>SA</td>\n",
       "      <td>2029008</td>\n",
       "      <td>50327</td>\n",
       "      <td>1978681.0</td>\n",
       "      <td>9912.281809</td>\n",
       "      <td>41.2</td>\n",
       "      <td>2017</td>\n",
       "      <td>44938712.0</td>\n",
       "      <td>16.2585101</td>\n",
       "      <td>9.840000153</td>\n",
       "      <td>0.024804</td>\n",
       "    </tr>\n",
       "    <tr>\n",
       "      <th>4</th>\n",
       "      <td>2021-02-15</td>\n",
       "      <td>AUS</td>\n",
       "      <td>OC</td>\n",
       "      <td>28900</td>\n",
       "      <td>909</td>\n",
       "      <td>27991.0</td>\n",
       "      <td>55060.326100</td>\n",
       "      <td>35.8</td>\n",
       "      <td>2014</td>\n",
       "      <td>25364307.0</td>\n",
       "      <td>3.24787091</td>\n",
       "      <td>5.159999847</td>\n",
       "      <td>0.031453</td>\n",
       "    </tr>\n",
       "  </tbody>\n",
       "</table>\n",
       "</div>"
      ],
      "text/plain": [
       "         date country_code continent  cumulative_pos  cumulative_dec  \\\n",
       "0  2021-03-13          ALB        EU          116821            2030   \n",
       "1  2021-02-15          DZA        AF          110711            2939   \n",
       "2  2021-02-15          AGO        AF           20366             492   \n",
       "3  2021-02-15          ARG        SA         2029008           50327   \n",
       "4  2021-02-15          AUS        OC           28900             909   \n",
       "\n",
       "    curr_pos   gdp_per_cap  gini_index  gini_year  population  pop_density  \\\n",
       "0    34970.0   5353.244856        29.0       2012   2854191.0  104.6122628   \n",
       "1   107772.0   3973.964072        27.6       2011  43053054.0  17.73006763   \n",
       "2    19874.0   2790.726615        42.7       2008  31825295.0  24.71305206   \n",
       "3  1978681.0   9912.281809        41.2       2017  44938712.0   16.2585101   \n",
       "4    27991.0  55060.326100        35.8       2014  25364307.0   3.24787091   \n",
       "\n",
       "  unemploy_rates  dec_pos_ratio  \n",
       "0    11.47000027       0.017377  \n",
       "1    11.81000042       0.026547  \n",
       "2    6.929999828       0.024158  \n",
       "3    9.840000153       0.024804  \n",
       "4    5.159999847       0.031453  "
      ]
     },
     "execution_count": 8,
     "metadata": {},
     "output_type": "execute_result"
    }
   ],
   "source": [
    "covid_data.rename(columns = {'density':'pop_density', 'rates': 'unemploy_rates'}, inplace = True)\n",
    "#covid_data.drop_duplicates(subset = 'country_name', keep = 'first', inplace = True)\n",
    "covid_data.drop(labels = 'country_name', axis = 1, inplace = True)\n",
    "covid_data.head()"
   ]
  },
  {
   "cell_type": "code",
   "execution_count": 50,
   "id": "nutritional-feedback",
   "metadata": {},
   "outputs": [
    {
     "data": {
      "text/plain": [
       "Index(['date', 'country_code', 'continent', 'country_name', 'cumulative_pos',\n",
       "       'cumulative_dec', 'curr_pos', 'gdp_per_cap', 'gini_index', 'gini_year',\n",
       "       'country_name', 'population', 'pop_density', 'unemploy_rates'],\n",
       "      dtype='object')"
      ]
     },
     "execution_count": 50,
     "metadata": {},
     "output_type": "execute_result"
    }
   ],
   "source": [
    "covid_data.columns"
   ]
  },
  {
   "cell_type": "code",
   "execution_count": 21,
   "id": "absent-mercury",
   "metadata": {
    "tags": []
   },
   "outputs": [
    {
     "data": {
      "image/png": "[encoded data removed]",
      "text/plain": [
       "<Figure size 432x288 with 1 Axes>"
      ]
     },
     "metadata": {
      "needs_background": "light"
     },
     "output_type": "display_data"
    },
    {
     "name": "stdout",
     "output_type": "stream",
     "text": [
      "r^2: 0.00\n"
     ]
    }
   ],
   "source": [
    "#predict cumulative_positive covid cases (Y) based on gdp_per_cap (X) -- Linear Regression\n",
    "\n",
    "pos_gdp_regressor = LinearRegression()\n",
    "\n",
    "pos_gdp_reshapeX = np.reshape(covid_data[['gdp_per_cap']], (-1, 1))\n",
    "\n",
    "\n",
    "pos_gdp_regressor.fit(pos_gdp_reshapeX, covid_data['cumulative_pos'])\n",
    "\n",
    "pos_gdp_pred = pos_gdp_regressor.predict(pos_gdp_reshapeX)\n",
    "\n",
    "plt.scatter(pos_gdp_reshapeX, covid_data['cumulative_pos'], alpha = 0.8)\n",
    "plt.scatter(pos_gdp_reshapeX, pos_gdp_pred, c ='lightgreen', alpha = 0.8)\n",
    "plt.title('Cumulative Positive Cases based on GDP per capita (Linear)')\n",
    "plt.xlabel('gdp_per_cap')\n",
    "plt.ylabel('cumulative_pos')\n",
    "plt.legend(['observed', 'predicted'])\n",
    "\n",
    "plt.ylim(0, 5000000)\n",
    "plt.show()\n",
    "\n",
    "\n",
    "score_gdp = pos_gini_regressor.score(covid_data[['gini_index']], covid_data['cumulative_pos'])\n",
    "\n",
    "print(\"r^2: {:.2f}\".format(score_gdp))\n",
    "\n"
   ]
  },
  {
   "cell_type": "code",
   "execution_count": 20,
   "id": "wrong-beatles",
   "metadata": {},
   "outputs": [
    {
     "data": {
      "image/png": "[encoded data removed]",
      "text/plain": [
       "<Figure size 432x288 with 1 Axes>"
      ]
     },
     "metadata": {
      "needs_background": "light"
     },
     "output_type": "display_data"
    },
    {
     "name": "stdout",
     "output_type": "stream",
     "text": [
      "r^2: 0.00\n"
     ]
    }
   ],
   "source": [
    "#predict cumulative_positive covid cases (Y) based on gini_index (X) -- Linear Regression\n",
    "\n",
    "pos_gini_regressor = LinearRegression()\n",
    "\n",
    "pos_gini_reshapeX = np.reshape(covid_data[['gini_index']], (-1, 1))\n",
    "\n",
    "\n",
    "pos_gini_regressor.fit(pos_gini_reshapeX, covid_data['cumulative_pos'])\n",
    "\n",
    "pos_gini_pred = pos_gini_regressor.predict(pos_gini_reshapeX)\n",
    "\n",
    "plt.scatter(pos_gini_reshapeX, covid_data['cumulative_pos'], alpha = 0.8)\n",
    "plt.scatter(pos_gini_reshapeX, pos_gini_pred, c ='lightgreen', alpha = 0.8)\n",
    "plt.title('Cumulative Positive Cases based on Gini Index (Linear)')\n",
    "plt.xlabel('gini_index')\n",
    "plt.ylabel('cumulative_pos')\n",
    "plt.legend(['observed', 'predicted'])\n",
    "\n",
    "plt.ylim(0, 3000000)\n",
    "plt.show()\n",
    "\n",
    "score_gini = pos_gini_regressor.score(covid_data[['gini_index']], covid_data['cumulative_pos'])\n",
    "\n",
    "print(\"r^2: {:.2f}\".format(score_gini))\n"
   ]
  },
  {
   "cell_type": "code",
   "execution_count": 73,
   "id": "owned-pricing",
   "metadata": {},
   "outputs": [
    {
     "ename": "TypeError",
     "evalue": "unhashable type: 'numpy.ndarray'",
     "output_type": "error",
     "traceback": [
      "\u001b[0;31m---------------------------------------------------------------------------\u001b[0m",
      "\u001b[0;31mTypeError\u001b[0m                                 Traceback (most recent call last)",
      "\u001b[0;32m<ipython-input-73-e835e55d0355>\u001b[0m in \u001b[0;36m<module>\u001b[0;34m\u001b[0m\n\u001b[1;32m     11\u001b[0m \u001b[0mpos_den_pred\u001b[0m \u001b[0;34m=\u001b[0m \u001b[0mpos_den_regressor\u001b[0m\u001b[0;34m.\u001b[0m\u001b[0mpredict\u001b[0m\u001b[0;34m(\u001b[0m\u001b[0mpos_den_reshapeX\u001b[0m\u001b[0;34m)\u001b[0m\u001b[0;34m\u001b[0m\u001b[0;34m\u001b[0m\u001b[0m\n\u001b[1;32m     12\u001b[0m \u001b[0;34m\u001b[0m\u001b[0m\n\u001b[0;32m---> 13\u001b[0;31m \u001b[0mplt\u001b[0m\u001b[0;34m.\u001b[0m\u001b[0mscatter\u001b[0m\u001b[0;34m(\u001b[0m\u001b[0mpos_den_reshapeX\u001b[0m\u001b[0;34m,\u001b[0m \u001b[0mcovid_data\u001b[0m\u001b[0;34m[\u001b[0m\u001b[0;34m'cumulative_pos'\u001b[0m\u001b[0;34m]\u001b[0m\u001b[0;34m,\u001b[0m \u001b[0malpha\u001b[0m \u001b[0;34m=\u001b[0m \u001b[0;36m0.8\u001b[0m\u001b[0;34m)\u001b[0m\u001b[0;34m\u001b[0m\u001b[0;34m\u001b[0m\u001b[0m\n\u001b[0m\u001b[1;32m     14\u001b[0m \u001b[0mplt\u001b[0m\u001b[0;34m.\u001b[0m\u001b[0mscatter\u001b[0m\u001b[0;34m(\u001b[0m\u001b[0mpos_den_reshapeX\u001b[0m\u001b[0;34m,\u001b[0m \u001b[0mpos_den_pred\u001b[0m\u001b[0;34m,\u001b[0m \u001b[0mc\u001b[0m \u001b[0;34m=\u001b[0m\u001b[0;34m'lightgreen'\u001b[0m\u001b[0;34m,\u001b[0m \u001b[0malpha\u001b[0m \u001b[0;34m=\u001b[0m \u001b[0;36m0.8\u001b[0m\u001b[0;34m)\u001b[0m\u001b[0;34m\u001b[0m\u001b[0;34m\u001b[0m\u001b[0m\n\u001b[1;32m     15\u001b[0m \u001b[0mplt\u001b[0m\u001b[0;34m.\u001b[0m\u001b[0mtitle\u001b[0m\u001b[0;34m(\u001b[0m\u001b[0;34m'Cumulative Positive Cases based on Population Density (Linear)'\u001b[0m\u001b[0;34m)\u001b[0m\u001b[0;34m\u001b[0m\u001b[0;34m\u001b[0m\u001b[0m\n",
      "\u001b[0;32m/opt/anaconda3/lib/python3.7/site-packages/matplotlib/pyplot.py\u001b[0m in \u001b[0;36mscatter\u001b[0;34m(x, y, s, c, marker, cmap, norm, vmin, vmax, alpha, linewidths, verts, edgecolors, plotnonfinite, data, **kwargs)\u001b[0m\n\u001b[1;32m   2893\u001b[0m         \u001b[0mverts\u001b[0m\u001b[0;34m=\u001b[0m\u001b[0mverts\u001b[0m\u001b[0;34m,\u001b[0m \u001b[0medgecolors\u001b[0m\u001b[0;34m=\u001b[0m\u001b[0medgecolors\u001b[0m\u001b[0;34m,\u001b[0m\u001b[0;34m\u001b[0m\u001b[0;34m\u001b[0m\u001b[0m\n\u001b[1;32m   2894\u001b[0m         \u001b[0mplotnonfinite\u001b[0m\u001b[0;34m=\u001b[0m\u001b[0mplotnonfinite\u001b[0m\u001b[0;34m,\u001b[0m\u001b[0;34m\u001b[0m\u001b[0;34m\u001b[0m\u001b[0m\n\u001b[0;32m-> 2895\u001b[0;31m         **({\"data\": data} if data is not None else {}), **kwargs)\n\u001b[0m\u001b[1;32m   2896\u001b[0m     \u001b[0msci\u001b[0m\u001b[0;34m(\u001b[0m\u001b[0m__ret\u001b[0m\u001b[0;34m)\u001b[0m\u001b[0;34m\u001b[0m\u001b[0;34m\u001b[0m\u001b[0m\n\u001b[1;32m   2897\u001b[0m     \u001b[0;32mreturn\u001b[0m \u001b[0m__ret\u001b[0m\u001b[0;34m\u001b[0m\u001b[0;34m\u001b[0m\u001b[0m\n",
      "\u001b[0;32m/opt/anaconda3/lib/python3.7/site-packages/matplotlib/__init__.py\u001b[0m in \u001b[0;36minner\u001b[0;34m(ax, data, *args, **kwargs)\u001b[0m\n\u001b[1;32m   1445\u001b[0m     \u001b[0;32mdef\u001b[0m \u001b[0minner\u001b[0m\u001b[0;34m(\u001b[0m\u001b[0max\u001b[0m\u001b[0;34m,\u001b[0m \u001b[0;34m*\u001b[0m\u001b[0margs\u001b[0m\u001b[0;34m,\u001b[0m \u001b[0mdata\u001b[0m\u001b[0;34m=\u001b[0m\u001b[0;32mNone\u001b[0m\u001b[0;34m,\u001b[0m \u001b[0;34m**\u001b[0m\u001b[0mkwargs\u001b[0m\u001b[0;34m)\u001b[0m\u001b[0;34m:\u001b[0m\u001b[0;34m\u001b[0m\u001b[0;34m\u001b[0m\u001b[0m\n\u001b[1;32m   1446\u001b[0m         \u001b[0;32mif\u001b[0m \u001b[0mdata\u001b[0m \u001b[0;32mis\u001b[0m \u001b[0;32mNone\u001b[0m\u001b[0;34m:\u001b[0m\u001b[0;34m\u001b[0m\u001b[0;34m\u001b[0m\u001b[0m\n\u001b[0;32m-> 1447\u001b[0;31m             \u001b[0;32mreturn\u001b[0m \u001b[0mfunc\u001b[0m\u001b[0;34m(\u001b[0m\u001b[0max\u001b[0m\u001b[0;34m,\u001b[0m \u001b[0;34m*\u001b[0m\u001b[0mmap\u001b[0m\u001b[0;34m(\u001b[0m\u001b[0msanitize_sequence\u001b[0m\u001b[0;34m,\u001b[0m \u001b[0margs\u001b[0m\u001b[0;34m)\u001b[0m\u001b[0;34m,\u001b[0m \u001b[0;34m**\u001b[0m\u001b[0mkwargs\u001b[0m\u001b[0;34m)\u001b[0m\u001b[0;34m\u001b[0m\u001b[0;34m\u001b[0m\u001b[0m\n\u001b[0m\u001b[1;32m   1448\u001b[0m \u001b[0;34m\u001b[0m\u001b[0m\n\u001b[1;32m   1449\u001b[0m         \u001b[0mbound\u001b[0m \u001b[0;34m=\u001b[0m \u001b[0mnew_sig\u001b[0m\u001b[0;34m.\u001b[0m\u001b[0mbind\u001b[0m\u001b[0;34m(\u001b[0m\u001b[0max\u001b[0m\u001b[0;34m,\u001b[0m \u001b[0;34m*\u001b[0m\u001b[0margs\u001b[0m\u001b[0;34m,\u001b[0m \u001b[0;34m**\u001b[0m\u001b[0mkwargs\u001b[0m\u001b[0;34m)\u001b[0m\u001b[0;34m\u001b[0m\u001b[0;34m\u001b[0m\u001b[0m\n",
      "\u001b[0;32m/opt/anaconda3/lib/python3.7/site-packages/matplotlib/cbook/deprecation.py\u001b[0m in \u001b[0;36mwrapper\u001b[0;34m(*inner_args, **inner_kwargs)\u001b[0m\n\u001b[1;32m    409\u001b[0m                          \u001b[0;32melse\u001b[0m \u001b[0mdeprecation_addendum\u001b[0m\u001b[0;34m,\u001b[0m\u001b[0;34m\u001b[0m\u001b[0;34m\u001b[0m\u001b[0m\n\u001b[1;32m    410\u001b[0m                 **kwargs)\n\u001b[0;32m--> 411\u001b[0;31m         \u001b[0;32mreturn\u001b[0m \u001b[0mfunc\u001b[0m\u001b[0;34m(\u001b[0m\u001b[0;34m*\u001b[0m\u001b[0minner_args\u001b[0m\u001b[0;34m,\u001b[0m \u001b[0;34m**\u001b[0m\u001b[0minner_kwargs\u001b[0m\u001b[0;34m)\u001b[0m\u001b[0;34m\u001b[0m\u001b[0;34m\u001b[0m\u001b[0m\n\u001b[0m\u001b[1;32m    412\u001b[0m \u001b[0;34m\u001b[0m\u001b[0m\n\u001b[1;32m    413\u001b[0m     \u001b[0;32mreturn\u001b[0m \u001b[0mwrapper\u001b[0m\u001b[0;34m\u001b[0m\u001b[0;34m\u001b[0m\u001b[0m\n",
      "\u001b[0;32m/opt/anaconda3/lib/python3.7/site-packages/matplotlib/axes/_axes.py\u001b[0m in \u001b[0;36mscatter\u001b[0;34m(self, x, y, s, c, marker, cmap, norm, vmin, vmax, alpha, linewidths, verts, edgecolors, plotnonfinite, **kwargs)\u001b[0m\n\u001b[1;32m   4430\u001b[0m         \u001b[0;31m# Process **kwargs to handle aliases, conflicts with explicit kwargs:\u001b[0m\u001b[0;34m\u001b[0m\u001b[0;34m\u001b[0m\u001b[0;34m\u001b[0m\u001b[0m\n\u001b[1;32m   4431\u001b[0m \u001b[0;34m\u001b[0m\u001b[0m\n\u001b[0;32m-> 4432\u001b[0;31m         \u001b[0mself\u001b[0m\u001b[0;34m.\u001b[0m\u001b[0m_process_unit_info\u001b[0m\u001b[0;34m(\u001b[0m\u001b[0mxdata\u001b[0m\u001b[0;34m=\u001b[0m\u001b[0mx\u001b[0m\u001b[0;34m,\u001b[0m \u001b[0mydata\u001b[0m\u001b[0;34m=\u001b[0m\u001b[0my\u001b[0m\u001b[0;34m,\u001b[0m \u001b[0mkwargs\u001b[0m\u001b[0;34m=\u001b[0m\u001b[0mkwargs\u001b[0m\u001b[0;34m)\u001b[0m\u001b[0;34m\u001b[0m\u001b[0;34m\u001b[0m\u001b[0m\n\u001b[0m\u001b[1;32m   4433\u001b[0m         \u001b[0mx\u001b[0m \u001b[0;34m=\u001b[0m \u001b[0mself\u001b[0m\u001b[0;34m.\u001b[0m\u001b[0mconvert_xunits\u001b[0m\u001b[0;34m(\u001b[0m\u001b[0mx\u001b[0m\u001b[0;34m)\u001b[0m\u001b[0;34m\u001b[0m\u001b[0;34m\u001b[0m\u001b[0m\n\u001b[1;32m   4434\u001b[0m         \u001b[0my\u001b[0m \u001b[0;34m=\u001b[0m \u001b[0mself\u001b[0m\u001b[0;34m.\u001b[0m\u001b[0mconvert_yunits\u001b[0m\u001b[0;34m(\u001b[0m\u001b[0my\u001b[0m\u001b[0;34m)\u001b[0m\u001b[0;34m\u001b[0m\u001b[0;34m\u001b[0m\u001b[0m\n",
      "\u001b[0;32m/opt/anaconda3/lib/python3.7/site-packages/matplotlib/axes/_base.py\u001b[0m in \u001b[0;36m_process_unit_info\u001b[0;34m(self, xdata, ydata, kwargs)\u001b[0m\n\u001b[1;32m   2187\u001b[0m             \u001b[0;32mreturn\u001b[0m \u001b[0mkwargs\u001b[0m\u001b[0;34m\u001b[0m\u001b[0;34m\u001b[0m\u001b[0m\n\u001b[1;32m   2188\u001b[0m \u001b[0;34m\u001b[0m\u001b[0m\n\u001b[0;32m-> 2189\u001b[0;31m         \u001b[0mkwargs\u001b[0m \u001b[0;34m=\u001b[0m \u001b[0m_process_single_axis\u001b[0m\u001b[0;34m(\u001b[0m\u001b[0mxdata\u001b[0m\u001b[0;34m,\u001b[0m \u001b[0mself\u001b[0m\u001b[0;34m.\u001b[0m\u001b[0mxaxis\u001b[0m\u001b[0;34m,\u001b[0m \u001b[0;34m'xunits'\u001b[0m\u001b[0;34m,\u001b[0m \u001b[0mkwargs\u001b[0m\u001b[0;34m)\u001b[0m\u001b[0;34m\u001b[0m\u001b[0;34m\u001b[0m\u001b[0m\n\u001b[0m\u001b[1;32m   2190\u001b[0m         \u001b[0mkwargs\u001b[0m \u001b[0;34m=\u001b[0m \u001b[0m_process_single_axis\u001b[0m\u001b[0;34m(\u001b[0m\u001b[0mydata\u001b[0m\u001b[0;34m,\u001b[0m \u001b[0mself\u001b[0m\u001b[0;34m.\u001b[0m\u001b[0myaxis\u001b[0m\u001b[0;34m,\u001b[0m \u001b[0;34m'yunits'\u001b[0m\u001b[0;34m,\u001b[0m \u001b[0mkwargs\u001b[0m\u001b[0;34m)\u001b[0m\u001b[0;34m\u001b[0m\u001b[0;34m\u001b[0m\u001b[0m\n\u001b[1;32m   2191\u001b[0m         \u001b[0;32mreturn\u001b[0m \u001b[0mkwargs\u001b[0m\u001b[0;34m\u001b[0m\u001b[0;34m\u001b[0m\u001b[0m\n",
      "\u001b[0;32m/opt/anaconda3/lib/python3.7/site-packages/matplotlib/axes/_base.py\u001b[0m in \u001b[0;36m_process_single_axis\u001b[0;34m(data, axis, unit_name, kwargs)\u001b[0m\n\u001b[1;32m   2170\u001b[0m                 \u001b[0;31m# We only need to update if there is nothing set yet.\u001b[0m\u001b[0;34m\u001b[0m\u001b[0;34m\u001b[0m\u001b[0;34m\u001b[0m\u001b[0m\n\u001b[1;32m   2171\u001b[0m                 \u001b[0;32mif\u001b[0m \u001b[0;32mnot\u001b[0m \u001b[0maxis\u001b[0m\u001b[0;34m.\u001b[0m\u001b[0mhave_units\u001b[0m\u001b[0;34m(\u001b[0m\u001b[0;34m)\u001b[0m\u001b[0;34m:\u001b[0m\u001b[0;34m\u001b[0m\u001b[0;34m\u001b[0m\u001b[0m\n\u001b[0;32m-> 2172\u001b[0;31m                     \u001b[0maxis\u001b[0m\u001b[0;34m.\u001b[0m\u001b[0mupdate_units\u001b[0m\u001b[0;34m(\u001b[0m\u001b[0mdata\u001b[0m\u001b[0;34m)\u001b[0m\u001b[0;34m\u001b[0m\u001b[0;34m\u001b[0m\u001b[0m\n\u001b[0m\u001b[1;32m   2173\u001b[0m \u001b[0;34m\u001b[0m\u001b[0m\n\u001b[1;32m   2174\u001b[0m             \u001b[0;31m# Check for units in the kwargs, and if present update axis\u001b[0m\u001b[0;34m\u001b[0m\u001b[0;34m\u001b[0m\u001b[0;34m\u001b[0m\u001b[0m\n",
      "\u001b[0;32m/opt/anaconda3/lib/python3.7/site-packages/matplotlib/axis.py\u001b[0m in \u001b[0;36mupdate_units\u001b[0;34m(self, data)\u001b[0m\n\u001b[1;32m   1464\u001b[0m         \u001b[0mneednew\u001b[0m \u001b[0;34m=\u001b[0m \u001b[0mself\u001b[0m\u001b[0;34m.\u001b[0m\u001b[0mconverter\u001b[0m \u001b[0;34m!=\u001b[0m \u001b[0mconverter\u001b[0m\u001b[0;34m\u001b[0m\u001b[0;34m\u001b[0m\u001b[0m\n\u001b[1;32m   1465\u001b[0m         \u001b[0mself\u001b[0m\u001b[0;34m.\u001b[0m\u001b[0mconverter\u001b[0m \u001b[0;34m=\u001b[0m \u001b[0mconverter\u001b[0m\u001b[0;34m\u001b[0m\u001b[0;34m\u001b[0m\u001b[0m\n\u001b[0;32m-> 1466\u001b[0;31m         \u001b[0mdefault\u001b[0m \u001b[0;34m=\u001b[0m \u001b[0mself\u001b[0m\u001b[0;34m.\u001b[0m\u001b[0mconverter\u001b[0m\u001b[0;34m.\u001b[0m\u001b[0mdefault_units\u001b[0m\u001b[0;34m(\u001b[0m\u001b[0mdata\u001b[0m\u001b[0;34m,\u001b[0m \u001b[0mself\u001b[0m\u001b[0;34m)\u001b[0m\u001b[0;34m\u001b[0m\u001b[0;34m\u001b[0m\u001b[0m\n\u001b[0m\u001b[1;32m   1467\u001b[0m         \u001b[0;32mif\u001b[0m \u001b[0mdefault\u001b[0m \u001b[0;32mis\u001b[0m \u001b[0;32mnot\u001b[0m \u001b[0;32mNone\u001b[0m \u001b[0;32mand\u001b[0m \u001b[0mself\u001b[0m\u001b[0;34m.\u001b[0m\u001b[0munits\u001b[0m \u001b[0;32mis\u001b[0m \u001b[0;32mNone\u001b[0m\u001b[0;34m:\u001b[0m\u001b[0;34m\u001b[0m\u001b[0;34m\u001b[0m\u001b[0m\n\u001b[1;32m   1468\u001b[0m             \u001b[0mself\u001b[0m\u001b[0;34m.\u001b[0m\u001b[0mset_units\u001b[0m\u001b[0;34m(\u001b[0m\u001b[0mdefault\u001b[0m\u001b[0;34m)\u001b[0m\u001b[0;34m\u001b[0m\u001b[0;34m\u001b[0m\u001b[0m\n",
      "\u001b[0;32m/opt/anaconda3/lib/python3.7/site-packages/matplotlib/category.py\u001b[0m in \u001b[0;36mdefault_units\u001b[0;34m(data, axis)\u001b[0m\n\u001b[1;32m    105\u001b[0m         \u001b[0;31m# the conversion call stack is default_units -> axis_info -> convert\u001b[0m\u001b[0;34m\u001b[0m\u001b[0;34m\u001b[0m\u001b[0;34m\u001b[0m\u001b[0m\n\u001b[1;32m    106\u001b[0m         \u001b[0;32mif\u001b[0m \u001b[0maxis\u001b[0m\u001b[0;34m.\u001b[0m\u001b[0munits\u001b[0m \u001b[0;32mis\u001b[0m \u001b[0;32mNone\u001b[0m\u001b[0;34m:\u001b[0m\u001b[0;34m\u001b[0m\u001b[0;34m\u001b[0m\u001b[0m\n\u001b[0;32m--> 107\u001b[0;31m             \u001b[0maxis\u001b[0m\u001b[0;34m.\u001b[0m\u001b[0mset_units\u001b[0m\u001b[0;34m(\u001b[0m\u001b[0mUnitData\u001b[0m\u001b[0;34m(\u001b[0m\u001b[0mdata\u001b[0m\u001b[0;34m)\u001b[0m\u001b[0;34m)\u001b[0m\u001b[0;34m\u001b[0m\u001b[0;34m\u001b[0m\u001b[0m\n\u001b[0m\u001b[1;32m    108\u001b[0m         \u001b[0;32melse\u001b[0m\u001b[0;34m:\u001b[0m\u001b[0;34m\u001b[0m\u001b[0;34m\u001b[0m\u001b[0m\n\u001b[1;32m    109\u001b[0m             \u001b[0maxis\u001b[0m\u001b[0;34m.\u001b[0m\u001b[0munits\u001b[0m\u001b[0;34m.\u001b[0m\u001b[0mupdate\u001b[0m\u001b[0;34m(\u001b[0m\u001b[0mdata\u001b[0m\u001b[0;34m)\u001b[0m\u001b[0;34m\u001b[0m\u001b[0;34m\u001b[0m\u001b[0m\n",
      "\u001b[0;32m/opt/anaconda3/lib/python3.7/site-packages/matplotlib/category.py\u001b[0m in \u001b[0;36m__init__\u001b[0;34m(self, data)\u001b[0m\n\u001b[1;32m    174\u001b[0m         \u001b[0mself\u001b[0m\u001b[0;34m.\u001b[0m\u001b[0m_counter\u001b[0m \u001b[0;34m=\u001b[0m \u001b[0mitertools\u001b[0m\u001b[0;34m.\u001b[0m\u001b[0mcount\u001b[0m\u001b[0;34m(\u001b[0m\u001b[0;34m)\u001b[0m\u001b[0;34m\u001b[0m\u001b[0;34m\u001b[0m\u001b[0m\n\u001b[1;32m    175\u001b[0m         \u001b[0;32mif\u001b[0m \u001b[0mdata\u001b[0m \u001b[0;32mis\u001b[0m \u001b[0;32mnot\u001b[0m \u001b[0;32mNone\u001b[0m\u001b[0;34m:\u001b[0m\u001b[0;34m\u001b[0m\u001b[0;34m\u001b[0m\u001b[0m\n\u001b[0;32m--> 176\u001b[0;31m             \u001b[0mself\u001b[0m\u001b[0;34m.\u001b[0m\u001b[0mupdate\u001b[0m\u001b[0;34m(\u001b[0m\u001b[0mdata\u001b[0m\u001b[0;34m)\u001b[0m\u001b[0;34m\u001b[0m\u001b[0;34m\u001b[0m\u001b[0m\n\u001b[0m\u001b[1;32m    177\u001b[0m \u001b[0;34m\u001b[0m\u001b[0m\n\u001b[1;32m    178\u001b[0m     \u001b[0;34m@\u001b[0m\u001b[0mstaticmethod\u001b[0m\u001b[0;34m\u001b[0m\u001b[0;34m\u001b[0m\u001b[0m\n",
      "\u001b[0;32m/opt/anaconda3/lib/python3.7/site-packages/matplotlib/category.py\u001b[0m in \u001b[0;36mupdate\u001b[0;34m(self, data)\u001b[0m\n\u001b[1;32m    207\u001b[0m         \u001b[0;31m# check if convertible to number:\u001b[0m\u001b[0;34m\u001b[0m\u001b[0;34m\u001b[0m\u001b[0;34m\u001b[0m\u001b[0m\n\u001b[1;32m    208\u001b[0m         \u001b[0mconvertible\u001b[0m \u001b[0;34m=\u001b[0m \u001b[0;32mTrue\u001b[0m\u001b[0;34m\u001b[0m\u001b[0;34m\u001b[0m\u001b[0m\n\u001b[0;32m--> 209\u001b[0;31m         \u001b[0;32mfor\u001b[0m \u001b[0mval\u001b[0m \u001b[0;32min\u001b[0m \u001b[0mOrderedDict\u001b[0m\u001b[0;34m.\u001b[0m\u001b[0mfromkeys\u001b[0m\u001b[0;34m(\u001b[0m\u001b[0mdata\u001b[0m\u001b[0;34m)\u001b[0m\u001b[0;34m:\u001b[0m\u001b[0;34m\u001b[0m\u001b[0;34m\u001b[0m\u001b[0m\n\u001b[0m\u001b[1;32m    210\u001b[0m             \u001b[0;31m# OrderedDict just iterates over unique values in data.\u001b[0m\u001b[0;34m\u001b[0m\u001b[0;34m\u001b[0m\u001b[0;34m\u001b[0m\u001b[0m\n\u001b[1;32m    211\u001b[0m             \u001b[0mcbook\u001b[0m\u001b[0;34m.\u001b[0m\u001b[0m_check_isinstance\u001b[0m\u001b[0;34m(\u001b[0m\u001b[0;34m(\u001b[0m\u001b[0mstr\u001b[0m\u001b[0;34m,\u001b[0m \u001b[0mbytes\u001b[0m\u001b[0;34m)\u001b[0m\u001b[0;34m,\u001b[0m \u001b[0mvalue\u001b[0m\u001b[0;34m=\u001b[0m\u001b[0mval\u001b[0m\u001b[0;34m)\u001b[0m\u001b[0;34m\u001b[0m\u001b[0;34m\u001b[0m\u001b[0m\n",
      "\u001b[0;31mTypeError\u001b[0m: unhashable type: 'numpy.ndarray'"
     ]
    },
    {
     "data": {
      "image/png": "[encoded data removed]",
      "text/plain": [
       "<Figure size 432x288 with 1 Axes>"
      ]
     },
     "metadata": {
      "needs_background": "light"
     },
     "output_type": "display_data"
    }
   ],
   "source": [
    "#predict cumulative_positive covid cases (Y) based on population density (X) -- Linear Regression\n",
    "\n",
    "pos_den_regressor = LinearRegression()\n",
    "\n",
    "pos_den_reshapeX = np.reshape((covid_data[['pop_density']]), (-1, 1))\n",
    "\n",
    "#pos_den_reshapeX = tuple(pos_den_reshapeX)\n",
    "\n",
    "pos_den_regressor.fit(pos_den_reshapeX, covid_data['cumulative_pos'])\n",
    "\n",
    "pos_den_pred = pos_den_regressor.predict(pos_den_reshapeX)\n",
    "\n",
    "plt.scatter(pos_den_reshapeX, covid_data['cumulative_pos'], alpha = 0.8)\n",
    "plt.scatter(pos_den_reshapeX, pos_den_pred, c ='lightgreen', alpha = 0.8)\n",
    "plt.title('Cumulative Positive Cases based on Population Density (Linear)')\n",
    "plt.xlabel('pop_den')\n",
    "plt.ylabel('cumulative_pos')\n",
    "plt.legend(['observed', 'predicted'])\n",
    "\n",
    "#plt.ylim(0, 3000000)\n",
    "\n",
    "plt.show()\n"
   ]
  },
  {
   "cell_type": "code",
   "execution_count": 53,
   "id": "piano-corps",
   "metadata": {},
   "outputs": [
    {
     "ename": "ValueError",
     "evalue": "could not convert string to float: '*'",
     "output_type": "error",
     "traceback": [
      "\u001b[0;31m---------------------------------------------------------------------------\u001b[0m",
      "\u001b[0;31mValueError\u001b[0m                                Traceback (most recent call last)",
      "\u001b[0;32m<ipython-input-53-0d052448d551>\u001b[0m in \u001b[0;36m<module>\u001b[0;34m\u001b[0m\n\u001b[1;32m      7\u001b[0m \u001b[0;31m#pos_den_reshapeX = tuple(pos_den_reshapeX)\u001b[0m\u001b[0;34m\u001b[0m\u001b[0;34m\u001b[0m\u001b[0;34m\u001b[0m\u001b[0m\n\u001b[1;32m      8\u001b[0m \u001b[0;34m\u001b[0m\u001b[0m\n\u001b[0;32m----> 9\u001b[0;31m \u001b[0mpos_rates_regressor\u001b[0m\u001b[0;34m.\u001b[0m\u001b[0mfit\u001b[0m\u001b[0;34m(\u001b[0m\u001b[0mpos_rates_reshapeX\u001b[0m\u001b[0;34m,\u001b[0m \u001b[0mcovid_data\u001b[0m\u001b[0;34m[\u001b[0m\u001b[0;34m'cumulative_pos'\u001b[0m\u001b[0;34m]\u001b[0m\u001b[0;34m)\u001b[0m\u001b[0;34m\u001b[0m\u001b[0;34m\u001b[0m\u001b[0m\n\u001b[0m\u001b[1;32m     10\u001b[0m \u001b[0;34m\u001b[0m\u001b[0m\n\u001b[1;32m     11\u001b[0m \u001b[0mpos_rates_pred\u001b[0m \u001b[0;34m=\u001b[0m \u001b[0mpos_rates_regressor\u001b[0m\u001b[0;34m.\u001b[0m\u001b[0mpredict\u001b[0m\u001b[0;34m(\u001b[0m\u001b[0mpos_rates_reshapeX\u001b[0m\u001b[0;34m)\u001b[0m\u001b[0;34m\u001b[0m\u001b[0;34m\u001b[0m\u001b[0m\n",
      "\u001b[0;32m/opt/anaconda3/lib/python3.7/site-packages/sklearn/linear_model/_base.py\u001b[0m in \u001b[0;36mfit\u001b[0;34m(self, X, y, sample_weight)\u001b[0m\n\u001b[1;32m    517\u001b[0m \u001b[0;34m\u001b[0m\u001b[0m\n\u001b[1;32m    518\u001b[0m         X, y = self._validate_data(X, y, accept_sparse=accept_sparse,\n\u001b[0;32m--> 519\u001b[0;31m                                    y_numeric=True, multi_output=True)\n\u001b[0m\u001b[1;32m    520\u001b[0m \u001b[0;34m\u001b[0m\u001b[0m\n\u001b[1;32m    521\u001b[0m         \u001b[0;32mif\u001b[0m \u001b[0msample_weight\u001b[0m \u001b[0;32mis\u001b[0m \u001b[0;32mnot\u001b[0m \u001b[0;32mNone\u001b[0m\u001b[0;34m:\u001b[0m\u001b[0;34m\u001b[0m\u001b[0;34m\u001b[0m\u001b[0m\n",
      "\u001b[0;32m/opt/anaconda3/lib/python3.7/site-packages/sklearn/base.py\u001b[0m in \u001b[0;36m_validate_data\u001b[0;34m(self, X, y, reset, validate_separately, **check_params)\u001b[0m\n\u001b[1;32m    431\u001b[0m                 \u001b[0my\u001b[0m \u001b[0;34m=\u001b[0m \u001b[0mcheck_array\u001b[0m\u001b[0;34m(\u001b[0m\u001b[0my\u001b[0m\u001b[0;34m,\u001b[0m \u001b[0;34m**\u001b[0m\u001b[0mcheck_y_params\u001b[0m\u001b[0;34m)\u001b[0m\u001b[0;34m\u001b[0m\u001b[0;34m\u001b[0m\u001b[0m\n\u001b[1;32m    432\u001b[0m             \u001b[0;32melse\u001b[0m\u001b[0;34m:\u001b[0m\u001b[0;34m\u001b[0m\u001b[0;34m\u001b[0m\u001b[0m\n\u001b[0;32m--> 433\u001b[0;31m                 \u001b[0mX\u001b[0m\u001b[0;34m,\u001b[0m \u001b[0my\u001b[0m \u001b[0;34m=\u001b[0m \u001b[0mcheck_X_y\u001b[0m\u001b[0;34m(\u001b[0m\u001b[0mX\u001b[0m\u001b[0;34m,\u001b[0m \u001b[0my\u001b[0m\u001b[0;34m,\u001b[0m \u001b[0;34m**\u001b[0m\u001b[0mcheck_params\u001b[0m\u001b[0;34m)\u001b[0m\u001b[0;34m\u001b[0m\u001b[0;34m\u001b[0m\u001b[0m\n\u001b[0m\u001b[1;32m    434\u001b[0m             \u001b[0mout\u001b[0m \u001b[0;34m=\u001b[0m \u001b[0mX\u001b[0m\u001b[0;34m,\u001b[0m \u001b[0my\u001b[0m\u001b[0;34m\u001b[0m\u001b[0;34m\u001b[0m\u001b[0m\n\u001b[1;32m    435\u001b[0m \u001b[0;34m\u001b[0m\u001b[0m\n",
      "\u001b[0;32m/opt/anaconda3/lib/python3.7/site-packages/sklearn/utils/validation.py\u001b[0m in \u001b[0;36minner_f\u001b[0;34m(*args, **kwargs)\u001b[0m\n\u001b[1;32m     61\u001b[0m             \u001b[0mextra_args\u001b[0m \u001b[0;34m=\u001b[0m \u001b[0mlen\u001b[0m\u001b[0;34m(\u001b[0m\u001b[0margs\u001b[0m\u001b[0;34m)\u001b[0m \u001b[0;34m-\u001b[0m \u001b[0mlen\u001b[0m\u001b[0;34m(\u001b[0m\u001b[0mall_args\u001b[0m\u001b[0;34m)\u001b[0m\u001b[0;34m\u001b[0m\u001b[0;34m\u001b[0m\u001b[0m\n\u001b[1;32m     62\u001b[0m             \u001b[0;32mif\u001b[0m \u001b[0mextra_args\u001b[0m \u001b[0;34m<=\u001b[0m \u001b[0;36m0\u001b[0m\u001b[0;34m:\u001b[0m\u001b[0;34m\u001b[0m\u001b[0;34m\u001b[0m\u001b[0m\n\u001b[0;32m---> 63\u001b[0;31m                 \u001b[0;32mreturn\u001b[0m \u001b[0mf\u001b[0m\u001b[0;34m(\u001b[0m\u001b[0;34m*\u001b[0m\u001b[0margs\u001b[0m\u001b[0;34m,\u001b[0m \u001b[0;34m**\u001b[0m\u001b[0mkwargs\u001b[0m\u001b[0;34m)\u001b[0m\u001b[0;34m\u001b[0m\u001b[0;34m\u001b[0m\u001b[0m\n\u001b[0m\u001b[1;32m     64\u001b[0m \u001b[0;34m\u001b[0m\u001b[0m\n\u001b[1;32m     65\u001b[0m             \u001b[0;31m# extra_args > 0\u001b[0m\u001b[0;34m\u001b[0m\u001b[0;34m\u001b[0m\u001b[0;34m\u001b[0m\u001b[0m\n",
      "\u001b[0;32m/opt/anaconda3/lib/python3.7/site-packages/sklearn/utils/validation.py\u001b[0m in \u001b[0;36mcheck_X_y\u001b[0;34m(X, y, accept_sparse, accept_large_sparse, dtype, order, copy, force_all_finite, ensure_2d, allow_nd, multi_output, ensure_min_samples, ensure_min_features, y_numeric, estimator)\u001b[0m\n\u001b[1;32m    819\u001b[0m                     \u001b[0mensure_min_samples\u001b[0m\u001b[0;34m=\u001b[0m\u001b[0mensure_min_samples\u001b[0m\u001b[0;34m,\u001b[0m\u001b[0;34m\u001b[0m\u001b[0;34m\u001b[0m\u001b[0m\n\u001b[1;32m    820\u001b[0m                     \u001b[0mensure_min_features\u001b[0m\u001b[0;34m=\u001b[0m\u001b[0mensure_min_features\u001b[0m\u001b[0;34m,\u001b[0m\u001b[0;34m\u001b[0m\u001b[0;34m\u001b[0m\u001b[0m\n\u001b[0;32m--> 821\u001b[0;31m                     estimator=estimator)\n\u001b[0m\u001b[1;32m    822\u001b[0m     \u001b[0;32mif\u001b[0m \u001b[0mmulti_output\u001b[0m\u001b[0;34m:\u001b[0m\u001b[0;34m\u001b[0m\u001b[0;34m\u001b[0m\u001b[0m\n\u001b[1;32m    823\u001b[0m         y = check_array(y, accept_sparse='csr', force_all_finite=True,\n",
      "\u001b[0;32m/opt/anaconda3/lib/python3.7/site-packages/sklearn/utils/validation.py\u001b[0m in \u001b[0;36minner_f\u001b[0;34m(*args, **kwargs)\u001b[0m\n\u001b[1;32m     61\u001b[0m             \u001b[0mextra_args\u001b[0m \u001b[0;34m=\u001b[0m \u001b[0mlen\u001b[0m\u001b[0;34m(\u001b[0m\u001b[0margs\u001b[0m\u001b[0;34m)\u001b[0m \u001b[0;34m-\u001b[0m \u001b[0mlen\u001b[0m\u001b[0;34m(\u001b[0m\u001b[0mall_args\u001b[0m\u001b[0;34m)\u001b[0m\u001b[0;34m\u001b[0m\u001b[0;34m\u001b[0m\u001b[0m\n\u001b[1;32m     62\u001b[0m             \u001b[0;32mif\u001b[0m \u001b[0mextra_args\u001b[0m \u001b[0;34m<=\u001b[0m \u001b[0;36m0\u001b[0m\u001b[0;34m:\u001b[0m\u001b[0;34m\u001b[0m\u001b[0;34m\u001b[0m\u001b[0m\n\u001b[0;32m---> 63\u001b[0;31m                 \u001b[0;32mreturn\u001b[0m \u001b[0mf\u001b[0m\u001b[0;34m(\u001b[0m\u001b[0;34m*\u001b[0m\u001b[0margs\u001b[0m\u001b[0;34m,\u001b[0m \u001b[0;34m**\u001b[0m\u001b[0mkwargs\u001b[0m\u001b[0;34m)\u001b[0m\u001b[0;34m\u001b[0m\u001b[0;34m\u001b[0m\u001b[0m\n\u001b[0m\u001b[1;32m     64\u001b[0m \u001b[0;34m\u001b[0m\u001b[0m\n\u001b[1;32m     65\u001b[0m             \u001b[0;31m# extra_args > 0\u001b[0m\u001b[0;34m\u001b[0m\u001b[0;34m\u001b[0m\u001b[0;34m\u001b[0m\u001b[0m\n",
      "\u001b[0;32m/opt/anaconda3/lib/python3.7/site-packages/sklearn/utils/validation.py\u001b[0m in \u001b[0;36mcheck_array\u001b[0;34m(array, accept_sparse, accept_large_sparse, dtype, order, copy, force_all_finite, ensure_2d, allow_nd, ensure_min_samples, ensure_min_features, estimator)\u001b[0m\n\u001b[1;32m    614\u001b[0m                     \u001b[0marray\u001b[0m \u001b[0;34m=\u001b[0m \u001b[0marray\u001b[0m\u001b[0;34m.\u001b[0m\u001b[0mastype\u001b[0m\u001b[0;34m(\u001b[0m\u001b[0mdtype\u001b[0m\u001b[0;34m,\u001b[0m \u001b[0mcasting\u001b[0m\u001b[0;34m=\u001b[0m\u001b[0;34m\"unsafe\"\u001b[0m\u001b[0;34m,\u001b[0m \u001b[0mcopy\u001b[0m\u001b[0;34m=\u001b[0m\u001b[0;32mFalse\u001b[0m\u001b[0;34m)\u001b[0m\u001b[0;34m\u001b[0m\u001b[0;34m\u001b[0m\u001b[0m\n\u001b[1;32m    615\u001b[0m                 \u001b[0;32melse\u001b[0m\u001b[0;34m:\u001b[0m\u001b[0;34m\u001b[0m\u001b[0;34m\u001b[0m\u001b[0m\n\u001b[0;32m--> 616\u001b[0;31m                     \u001b[0marray\u001b[0m \u001b[0;34m=\u001b[0m \u001b[0mnp\u001b[0m\u001b[0;34m.\u001b[0m\u001b[0masarray\u001b[0m\u001b[0;34m(\u001b[0m\u001b[0marray\u001b[0m\u001b[0;34m,\u001b[0m \u001b[0morder\u001b[0m\u001b[0;34m=\u001b[0m\u001b[0morder\u001b[0m\u001b[0;34m,\u001b[0m \u001b[0mdtype\u001b[0m\u001b[0;34m=\u001b[0m\u001b[0mdtype\u001b[0m\u001b[0;34m)\u001b[0m\u001b[0;34m\u001b[0m\u001b[0;34m\u001b[0m\u001b[0m\n\u001b[0m\u001b[1;32m    617\u001b[0m             \u001b[0;32mexcept\u001b[0m \u001b[0mComplexWarning\u001b[0m \u001b[0;32mas\u001b[0m \u001b[0mcomplex_warning\u001b[0m\u001b[0;34m:\u001b[0m\u001b[0;34m\u001b[0m\u001b[0;34m\u001b[0m\u001b[0m\n\u001b[1;32m    618\u001b[0m                 raise ValueError(\"Complex data not supported\\n\"\n",
      "\u001b[0;32m/opt/anaconda3/lib/python3.7/site-packages/numpy/core/_asarray.py\u001b[0m in \u001b[0;36masarray\u001b[0;34m(a, dtype, order)\u001b[0m\n\u001b[1;32m     81\u001b[0m \u001b[0;34m\u001b[0m\u001b[0m\n\u001b[1;32m     82\u001b[0m     \"\"\"\n\u001b[0;32m---> 83\u001b[0;31m     \u001b[0;32mreturn\u001b[0m \u001b[0marray\u001b[0m\u001b[0;34m(\u001b[0m\u001b[0ma\u001b[0m\u001b[0;34m,\u001b[0m \u001b[0mdtype\u001b[0m\u001b[0;34m,\u001b[0m \u001b[0mcopy\u001b[0m\u001b[0;34m=\u001b[0m\u001b[0;32mFalse\u001b[0m\u001b[0;34m,\u001b[0m \u001b[0morder\u001b[0m\u001b[0;34m=\u001b[0m\u001b[0morder\u001b[0m\u001b[0;34m)\u001b[0m\u001b[0;34m\u001b[0m\u001b[0;34m\u001b[0m\u001b[0m\n\u001b[0m\u001b[1;32m     84\u001b[0m \u001b[0;34m\u001b[0m\u001b[0m\n\u001b[1;32m     85\u001b[0m \u001b[0;34m\u001b[0m\u001b[0m\n",
      "\u001b[0;32m/opt/anaconda3/lib/python3.7/site-packages/pandas/core/generic.py\u001b[0m in \u001b[0;36m__array__\u001b[0;34m(self, dtype)\u001b[0m\n\u001b[1;32m   1897\u001b[0m \u001b[0;34m\u001b[0m\u001b[0m\n\u001b[1;32m   1898\u001b[0m     \u001b[0;32mdef\u001b[0m \u001b[0m__array__\u001b[0m\u001b[0;34m(\u001b[0m\u001b[0mself\u001b[0m\u001b[0;34m,\u001b[0m \u001b[0mdtype\u001b[0m\u001b[0;34m=\u001b[0m\u001b[0;32mNone\u001b[0m\u001b[0;34m)\u001b[0m \u001b[0;34m->\u001b[0m \u001b[0mnp\u001b[0m\u001b[0;34m.\u001b[0m\u001b[0mndarray\u001b[0m\u001b[0;34m:\u001b[0m\u001b[0;34m\u001b[0m\u001b[0;34m\u001b[0m\u001b[0m\n\u001b[0;32m-> 1899\u001b[0;31m         \u001b[0;32mreturn\u001b[0m \u001b[0mnp\u001b[0m\u001b[0;34m.\u001b[0m\u001b[0masarray\u001b[0m\u001b[0;34m(\u001b[0m\u001b[0mself\u001b[0m\u001b[0;34m.\u001b[0m\u001b[0m_values\u001b[0m\u001b[0;34m,\u001b[0m \u001b[0mdtype\u001b[0m\u001b[0;34m=\u001b[0m\u001b[0mdtype\u001b[0m\u001b[0;34m)\u001b[0m\u001b[0;34m\u001b[0m\u001b[0;34m\u001b[0m\u001b[0m\n\u001b[0m\u001b[1;32m   1900\u001b[0m \u001b[0;34m\u001b[0m\u001b[0m\n\u001b[1;32m   1901\u001b[0m     def __array_wrap__(\n",
      "\u001b[0;32m/opt/anaconda3/lib/python3.7/site-packages/numpy/core/_asarray.py\u001b[0m in \u001b[0;36masarray\u001b[0;34m(a, dtype, order)\u001b[0m\n\u001b[1;32m     81\u001b[0m \u001b[0;34m\u001b[0m\u001b[0m\n\u001b[1;32m     82\u001b[0m     \"\"\"\n\u001b[0;32m---> 83\u001b[0;31m     \u001b[0;32mreturn\u001b[0m \u001b[0marray\u001b[0m\u001b[0;34m(\u001b[0m\u001b[0ma\u001b[0m\u001b[0;34m,\u001b[0m \u001b[0mdtype\u001b[0m\u001b[0;34m,\u001b[0m \u001b[0mcopy\u001b[0m\u001b[0;34m=\u001b[0m\u001b[0;32mFalse\u001b[0m\u001b[0;34m,\u001b[0m \u001b[0morder\u001b[0m\u001b[0;34m=\u001b[0m\u001b[0morder\u001b[0m\u001b[0;34m)\u001b[0m\u001b[0;34m\u001b[0m\u001b[0;34m\u001b[0m\u001b[0m\n\u001b[0m\u001b[1;32m     84\u001b[0m \u001b[0;34m\u001b[0m\u001b[0m\n\u001b[1;32m     85\u001b[0m \u001b[0;34m\u001b[0m\u001b[0m\n",
      "\u001b[0;31mValueError\u001b[0m: could not convert string to float: '*'"
     ]
    }
   ],
   "source": [
    "#predict cumulative_positive covid cases (Y) based on unemployment rates (X) -- Linear Regression\n",
    "\n",
    "pos_rates_regressor = LinearRegression()\n",
    "\n",
    "pos_rates_reshapeX = np.reshape(covid_data[['unemploy_rates']], (-1, 1))\n",
    "\n",
    "#pos_den_reshapeX = tuple(pos_den_reshapeX)\n",
    "\n",
    "pos_rates_regressor.fit(pos_rates_reshapeX, covid_data['cumulative_pos'])\n",
    "\n",
    "pos_rates_pred = pos_rates_regressor.predict(pos_rates_reshapeX)\n",
    "\n",
    "plt.scatter(pos_rates_reshapeX, covid_data['cumulative_pos'], alpha = 0.8)\n",
    "plt.scatter(pos_rates_reshapeX, pos_rates_pred, c ='lightgreen', alpha = 0.8)\n",
    "plt.title('Cumulative Positive Cases based on Unemployment Rates (Linear)')\n",
    "plt.xlabel('unemploy_rates')\n",
    "plt.ylabel('cumulative_pos')\n",
    "plt.legend(['observed', 'predicted'])\n",
    "\n",
    "#plt.ylim(0, 3000000)\n",
    "\n",
    "plt.show()\n"
   ]
  },
  {
   "cell_type": "code",
   "execution_count": 18,
   "id": "metric-border",
   "metadata": {},
   "outputs": [
    {
     "name": "stdout",
     "output_type": "stream",
     "text": [
      "gdp_per_cap coefficient:  37.51650195667505\n",
      "gini_index coefficient:  44924.36117088157\n",
      "r^2: 0.07\n"
     ]
    }
   ],
   "source": [
    "#multi model :  predict cumulative pos based on gdp and gini\n",
    "multi_model = LinearRegression()\n",
    "multi_model.fit(covid_data[['gdp_per_cap', 'gini_index']], covid_data['cumulative_pos'])\n",
    "print('gdp_per_cap coefficient: ', multi_model.coef_[0])\n",
    "print('gini_index coefficient: ', multi_model.coef_[1])\n",
    "\n",
    "score = multi_model.score(covid_data[['gdp_per_cap', 'gini_index']], covid_data['cumulative_pos'])\n",
    "print(\"r^2: {:.2f}\".format(score))\n",
    "\n",
    "plt.show()"
   ]
  },
  {
   "cell_type": "code",
   "execution_count": null,
   "id": "canadian-sharing",
   "metadata": {},
   "outputs": [],
   "source": [
    "# #predict ratio covid cases (Y) based on gdp (X) -- Linear Regression\n",
    "\n",
    "# ratio_regressor = LinearRegression()\n",
    "\n",
    "# ratio_reshapeX = np.reshape(covid_data[['dec_pos_ratio']], (-1, 1))\n",
    "\n",
    "\n",
    "# ratio_regressor.fit(ratio_reshapeX, covid_data['cumulative_pos'])\n",
    "\n",
    "# ratio_pred = ratio_regressor.predict(ratio_reshapeX)\n",
    "\n",
    "# plt.scatter(ratio_reshapeX, covid_data['cumulative_pos'], alpha = 0.8)\n",
    "# plt.scatter(ratio_reshapeX, ratio_pred, c ='lightgreen', alpha = 0.8)\n",
    "# plt.title('Cumulative Positive Cases based on Ratio (Linear)')\n",
    "# plt.xlabel('gini_index')\n",
    "# plt.ylabel('cumulative_pos')\n",
    "# plt.legend(['observed', 'predicted'])\n",
    "\n",
    "# plt.ylim(0, 3000000)\n",
    "\n",
    "# plt.show()"
   ]
  },
  {
   "cell_type": "code",
   "execution_count": 17,
   "id": "improved-permit",
   "metadata": {},
   "outputs": [
    {
     "name": "stdout",
     "output_type": "stream",
     "text": [
      "r^2: 0.01\n"
     ]
    }
   ],
   "source": [
    "#multi model :  predict dec/pos ratio based on gdp and gini\n",
    "multi_model_ratio = LinearRegression()\n",
    "multi_model_ratio.fit(covid_data[['gdp_per_cap', 'gini_index']], covid_data['dec_pos_ratio'])\n",
    "# print('gdp_per_cap coefficient: ', multi_model.coef_[0])\n",
    "# print('gini_index coefficient: ', multi_model.coef_[1])\n",
    "\n",
    "score_ratio = multi_model_ratio.score(covid_data[['gdp_per_cap', 'gini_index']], covid_data['dec_pos_ratio'])\n",
    "print(\"r^2: {:.2f}\".format(score_ratio))\n",
    "\n",
    "#plt.show()"
   ]
  },
  {
   "cell_type": "code",
   "execution_count": 16,
   "id": "sporting-stake",
   "metadata": {},
   "outputs": [
    {
     "name": "stdout",
     "output_type": "stream",
     "text": [
      "r^2: 0.08\n"
     ]
    }
   ],
   "source": [
    "#multi model :  predict cumulative dec based on gdp and gini\n",
    "multi_model_dec = LinearRegression()\n",
    "multi_model_dec.fit(covid_data[['gdp_per_cap', 'gini_index']], covid_data['cumulative_dec'])\n",
    "# print('gdp_per_cap coefficient: ', multi_model.coef_[0])\n",
    "# print('gini_index coefficient: ', multi_model.coef_[1])\n",
    "\n",
    "score_dec = multi_model_dec.score(covid_data[['gdp_per_cap', 'gini_index']], covid_data['cumulative_dec'])\n",
    "print(\"r^2: {:.2f}\".format(score_dec))\n",
    "\n",
    "#plt.show()"
   ]
  },
  {
   "cell_type": "code",
   "execution_count": 15,
   "id": "swedish-coverage",
   "metadata": {},
   "outputs": [
    {
     "data": {
      "image/png": "[encoded data removed]",
      "text/plain": [
       "<Figure size 432x288 with 1 Axes>"
      ]
     },
     "metadata": {
      "needs_background": "light"
     },
     "output_type": "display_data"
    },
    {
     "name": "stdout",
     "output_type": "stream",
     "text": [
      "r^2: 0.01\n"
     ]
    }
   ],
   "source": [
    "#predict ratio (Y) based on gdp_per_cap (X) -- Linear Regression\n",
    "\n",
    "ratio_gdp_regressor = LinearRegression()\n",
    "\n",
    "ratio_gdp_reshapeX = np.reshape(covid_data[['gdp_per_cap']], (-1, 1))\n",
    "\n",
    "#pos_den_reshapeX = tuple(pos_den_reshapeX)\n",
    "\n",
    "ratio_gdp_regressor.fit(ratio_gdp_reshapeX, covid_data['dec_pos_ratio'])\n",
    "\n",
    "ratio_gdp_pred = ratio_gdp_regressor.predict(ratio_gdp_reshapeX)\n",
    "\n",
    "plt.scatter(ratio_gdp_reshapeX, covid_data['dec_pos_ratio'], alpha = 0.8)\n",
    "plt.scatter(ratio_gdp_reshapeX, ratio_gdp_pred, c ='lightgreen', alpha = 0.8)\n",
    "plt.title('Cumulative Positive Cases based on  (Linear)')\n",
    "plt.xlabel('unemploy_rates')\n",
    "plt.ylabel('cumulative_pos')\n",
    "plt.legend(['observed', 'predicted'])\n",
    "\n",
    "plt.ylim(0, 0.03)\n",
    "\n",
    "plt.show()\n",
    "\n",
    "score_r2 = ratio_gdp_regressor.score(covid_data[['gdp_per_cap']], covid_data['dec_pos_ratio'])\n",
    "print(\"r^2: {:.2f}\".format(score_r2))"
   ]
  },
  {
   "cell_type": "code",
   "execution_count": 10,
   "id": "color-vancouver",
   "metadata": {},
   "outputs": [
    {
     "data": {
      "image/png": "[encoded data removed]",
      "text/plain": [
       "<Figure size 432x288 with 1 Axes>"
      ]
     },
     "metadata": {
      "needs_background": "light"
     },
     "output_type": "display_data"
    },
    {
     "name": "stdout",
     "output_type": "stream",
     "text": [
      "r squared: 0.00\n"
     ]
    }
   ],
   "source": [
    "#predict cumulative_positive covid cases (Y) based on population density (X) -- Linear Regression\n",
    "\n",
    "pos_den_regressor = LinearRegression()\n",
    "\n",
    "pos_den_regressor.fit(covid_data[['pop_density']], covid_data['cumulative_pos'])\n",
    "\n",
    "pos_den_pred = pos_den_regressor.predict(covid_data[['pop_density']])\n",
    "\n",
    "%matplotlib inline\n",
    "plt.scatter(covid_data['pop_density'], covid_data['cumulative_pos'], alpha = 0.8)\n",
    "plt.scatter(covid_data['pop_density'], pos_den_pred, c ='lightgreen', alpha = 0.8)\n",
    "plt.title('Cumulative Positive Cases based on Population Density (Linear)')\n",
    "plt.xlabel('population density')\n",
    "plt.ylabel('cumulative positives')\n",
    "plt.legend(['observed', 'predicted'])\n",
    "plt.ylim(0, 3000000)\n",
    "\n",
    "plt.show()\n",
    "print(\"r squared: {:.2f}\".format(pos_den_regressor.score(covid_data[['pop_density']], covid_data['cumulative_pos'])))\n"
   ]
  },
  {
   "cell_type": "code",
   "execution_count": null,
   "id": "female-satisfaction",
   "metadata": {},
   "outputs": [],
   "source": [
    "#multi model :  predict cumulative dec based on gdp and gini and pop density\n",
    "multi_model_pop = LinearRegression()\n",
    "multi_model_pop.fit(covid_data[['gdp_per_cap', 'gini_index', ]], covid_data['cumulative_dec'])\n",
    "# print('gdp_per_cap coefficient: ', multi_model.coef_[0])\n",
    "# print('gini_index coefficient: ', multi_model.coef_[1])\n",
    "\n",
    "score_dec = multi_model_dec.score(covid_data[['gdp_per_cap', 'gini_index']], covid_data['cumulative_dec'])\n",
    "print('r^2 score: ', score_dec)\n",
    "\n",
    "#plt.show()"
   ]
  }
 ],
 "metadata": {
  "kernelspec": {
   "display_name": "Python 3",
   "language": "python",
   "name": "python3"
  },
  "language_info": {
   "codemirror_mode": {
    "name": "ipython",
    "version": 3
   },
   "file_extension": ".py",
   "mimetype": "text/x-python",
   "name": "python",
   "nbconvert_exporter": "python",
   "pygments_lexer": "ipython3",
   "version": "3.7.4"
  }
 },
 "nbformat": 4,
 "nbformat_minor": 5
}
